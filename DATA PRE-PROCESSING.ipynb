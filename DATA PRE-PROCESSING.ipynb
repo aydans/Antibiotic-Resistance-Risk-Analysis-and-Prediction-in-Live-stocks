{
 "cells": [
  {
   "cell_type": "markdown",
   "metadata": {},
   "source": [
    "# DATA PRE-PROSSESING\n",
    "\n",
    "In this first notebook, the needed pre-processing has been performed in order prepare the data for the analysis."
   ]
  },
  {
   "cell_type": "code",
   "execution_count": null,
   "metadata": {
    "collapsed": true
   },
   "outputs": [],
   "source": [
    "# Libraries\n",
    "import pandas as pd\n",
    "from datetime import datetime\n",
    "import numpy as np\n",
    "import matplotlib.pyplot as plt\n",
    "%matplotlib inline\n",
    "import math"
   ]
  },
  {
   "cell_type": "markdown",
   "metadata": {},
   "source": [
    "##### READ THE DATA"
   ]
  },
  {
   "cell_type": "markdown",
   "metadata": {},
   "source": [
    "There are 5 different datasets: 3 of them are for the AMR test results and 2 of them are for the antibitic consumption. They are collected / extracted from database in various formats and years."
   ]
  },
  {
   "cell_type": "code",
   "execution_count": 2,
   "metadata": {
    "collapsed": true
   },
   "outputs": [],
   "source": [
    "# read all test data I have\n",
    "amr_data1 = pd.read_csv(\"New_test_data.txt\", sep=\"\\t\", header=None) #2002-2015\n",
    "amr_data2 = pd.read_excel(\"AMR data.xlsx\") #2018\n",
    "amr_data3 = pd.read_excel(\"AMR data 2017.xlsx\") #2017"
   ]
  },
  {
   "cell_type": "code",
   "execution_count": 3,
   "metadata": {
    "collapsed": true
   },
   "outputs": [],
   "source": [
    "# read all consumption data I have\n",
    "consumption_data1 = pd.read_excel('consumption_2013.xlsx') #2013\n",
    "consumption_data2 = pd.read_csv('Drug Consumption data.csv') #2014-2017"
   ]
  },
  {
   "cell_type": "markdown",
   "metadata": {},
   "source": [
    "##### RENAMING THE COLUMNS AND DIMENTION REDUCTION"
   ]
  },
  {
   "cell_type": "raw",
   "metadata": {},
   "source": [
    "It is needed to fix the same names across different datasets. This chunk of the code serves also for keeping the needed columns v.v. droping the unnecessary columns."
   ]
  },
  {
   "cell_type": "code",
   "execution_count": 4,
   "metadata": {
    "collapsed": true
   },
   "outputs": [],
   "source": [
    "# amr_data1\n",
    "amr_data1 = amr_data1.rename(index=str, columns={0: \"Year\", 1:\"NumeroConferimento\", 6:\"Active_principle\", 7:\"Farm_ID\", 9:\"Result\", 10:\"Bacteria\", 12:\"Kind\"}) # this data was without header, renaming of columns \n",
    "amr_data1 = amr_data1[['Year', 'NumeroConferimento', 'Active_principle', 'Farm_ID', 'Result', 'Bacteria', 'Kind']] # the columns I need\n",
    "amr_data1 = amr_data1.loc[amr_data1['Kind'].isin(['SUINO', 'SUINO - SVEZZAMENTO', 'SUINO - SOTTOSCROFA', 'SUINO - MAGRONE', 'SUINO - SCROFETTA', 'SUINO - INGRASSO', 'SUINO - SCROFA', 'SUINO - VERRO', 'SUINO DI RAZZA MORA', 'SUINO DI RAZZA CINTA SENESE'])] # Only Suino"
   ]
  },
  {
   "cell_type": "code",
   "execution_count": 5,
   "metadata": {
    "collapsed": true
   },
   "outputs": [],
   "source": [
    "# amr_data2\n",
    "amr_data2 = amr_data2.rename(index=str, columns={'AnnoConferimento': \"Year\", 'Antibiotico':\"Active_principle\", 'Codice_Allevix':\"Farm_ID\", 'Risultato':\"Result\", 'AgenteEziologico':\"Bacteria\", 'Specie':\"Kind\"}) # this data was with italian header, renaming of columns \n",
    "amr_data2 = amr_data2[['Year', 'NumeroConferimento', 'Active_principle', 'Farm_ID', 'Result', 'Bacteria', 'Kind']] # the columns I need\n",
    "amr_data2 = amr_data2.loc[amr_data2['Kind'].isin(['SUINO', 'SUINO - SVEZZAMENTO', 'SUINO - SOTTOSCROFA', 'SUINO - MAGRONE', 'SUINO - SCROFETTA', 'SUINO - INGRASSO', 'SUINO - SCROFA'])] # Only Suino"
   ]
  },
  {
   "cell_type": "code",
   "execution_count": 6,
   "metadata": {
    "collapsed": true
   },
   "outputs": [],
   "source": [
    "# amr_data3\n",
    "amr_data3 = amr_data3.rename(index=str, columns={'AnnoConferimento': \"Year\", 'Antibiotico':\"Active_principle\", 'Codice_Allevix':\"Farm_ID\", 'Risultato':\"Result\", 'AgenteEziologico':\"Bacteria\", 'Specie':\"Kind\"}) # this data was with italian header, renaming of columns \n",
    "amr_data3 = amr_data3[['Year', 'NumeroConferimento', 'Active_principle', 'Farm_ID', 'Result', 'Bacteria', 'Kind']] # the columns I need\n",
    "amr_data3 = amr_data3.loc[amr_data3['Kind'].isin(['SUINO', 'SUINO - SVEZZAMENTO', 'SUINO - SOTTOSCROFA', 'SUINO - MAGRONE', 'SUINO - SCROFETTA', 'SUINO - INGRASSO', 'SUINO - SCROFA', 'SUINO - VERRO'])] # Only Suino"
   ]
  },
  {
   "cell_type": "code",
   "execution_count": 7,
   "metadata": {
    "collapsed": true
   },
   "outputs": [],
   "source": [
    "# consumption_data1\n",
    "consumption_data1 = consumption_data1[['PK_Somministrazione', 'IdAllevamento', 'Year', 'CicloAperto', 'CicloChiuso', \n",
    "                     'Sito1', 'Sito3', 'TipoFarmaco', 'Target', 'PrincipioAttivo', 'PrincipioSomministratoMg',\n",
    "                     'DDDA_Mille','DCDA_Mille']] # the columns I need\n",
    "\n",
    "consumption_data1 = consumption_data1.rename(index=str, columns={'Year': \"Year\", 'PK_Somministrazione':\"PK_Somministrazione\", 'IdAllevamento':\"Farm_ID\", 'PrincipioAttivo':\"Active_principle\", 'CicloAperto': 'Open_cycle', 'CicloChiuso': 'Close_cycle', \n",
    "                     'Sito1': 'Site1', 'Sito3': 'Site3', 'TipoFarmaco': 'Type_of_medication', 'Target': 'Target', 'PrincipioSomministratoMg': 'Active_principle_mg',\n",
    "                     'DDDA_Mille': 'DDDA','DCDA_Mille': 'DCDA'}) # rename in English"
   ]
  },
  {
   "cell_type": "code",
   "execution_count": 8,
   "metadata": {
    "collapsed": true
   },
   "outputs": [],
   "source": [
    "# consumption_data2\n",
    "consumption_data2 = consumption_data2[['PK_Somministrazione', 'IdAllevamento', 'n_AnnoSomm', 'CicloAperto', 'CicloChiuso', \n",
    "                     'Sito1', 'Sito3', 'TipoFarmaco', 'Target', 'PrincipioAttivo', 'PrincipioSomministratoMg',\n",
    "                     'DDDA_Mille','DCDA_Mille']] # the columns I need\n",
    "\n",
    "consumption_data2 = consumption_data2.rename(index=str, columns={'n_AnnoSomm': \"Year\", 'PK_Somministrazione':\"PK_Somministrazione\", 'IdAllevamento':\"Farm_ID\", 'PrincipioAttivo':\"Active_principle\", 'CicloAperto': 'Open_cycle', 'CicloChiuso': 'Close_cycle', \n",
    "                     'Sito1': 'Site1', 'Sito3': 'Site3', 'TipoFarmaco': 'Type_of_medication', 'Target': 'Target', 'PrincipioSomministratoMg': 'Active_principle_mg',\n",
    "                     'DDDA_Mille': 'DDDA','DCDA_Mille': 'DCDA'}) # rename in English"
   ]
  },
  {
   "cell_type": "markdown",
   "metadata": {},
   "source": [
    "##### UPPERCASE"
   ]
  },
  {
   "cell_type": "markdown",
   "metadata": {},
   "source": [
    "All the values in string need to turn in uppercase to unify the format."
   ]
  },
  {
   "cell_type": "code",
   "execution_count": 9,
   "metadata": {
    "collapsed": true
   },
   "outputs": [],
   "source": [
    "amr_data1 = amr_data1.applymap(lambda s:s.upper() if type(s) == str else s)\n",
    "amr_data2 = amr_data2.applymap(lambda s:s.upper() if type(s) == str else s)\n",
    "amr_data3 = amr_data3.applymap(lambda s:s.upper() if type(s) == str else s)"
   ]
  },
  {
   "cell_type": "code",
   "execution_count": 10,
   "metadata": {
    "collapsed": true
   },
   "outputs": [],
   "source": [
    "consumption_data1 = consumption_data1.applymap(lambda s:s.upper() if type(s) == str else s)\n",
    "consumption_data2 = consumption_data2.applymap(lambda s:s.upper() if type(s) == str else s)"
   ]
  },
  {
   "cell_type": "markdown",
   "metadata": {},
   "source": [
    "##### # OF ACTIVE PRINCIPLE (FOR INFORMATION)"
   ]
  },
  {
   "cell_type": "code",
   "execution_count": 11,
   "metadata": {},
   "outputs": [
    {
     "data": {
      "text/plain": [
       "94"
      ]
     },
     "execution_count": 11,
     "metadata": {},
     "output_type": "execute_result"
    }
   ],
   "source": [
    "len(amr_data1.Active_principle.unique())"
   ]
  },
  {
   "cell_type": "code",
   "execution_count": 12,
   "metadata": {},
   "outputs": [
    {
     "data": {
      "text/plain": [
       "49"
      ]
     },
     "execution_count": 12,
     "metadata": {},
     "output_type": "execute_result"
    }
   ],
   "source": [
    "len(amr_data2.Active_principle.unique())"
   ]
  },
  {
   "cell_type": "code",
   "execution_count": 13,
   "metadata": {},
   "outputs": [
    {
     "data": {
      "text/plain": [
       "60"
      ]
     },
     "execution_count": 13,
     "metadata": {},
     "output_type": "execute_result"
    }
   ],
   "source": [
    "len(amr_data3.Active_principle.unique())"
   ]
  },
  {
   "cell_type": "code",
   "execution_count": 14,
   "metadata": {},
   "outputs": [
    {
     "data": {
      "text/plain": [
       "36"
      ]
     },
     "execution_count": 14,
     "metadata": {},
     "output_type": "execute_result"
    }
   ],
   "source": [
    "len(consumption_data1.Active_principle.unique())"
   ]
  },
  {
   "cell_type": "code",
   "execution_count": 15,
   "metadata": {},
   "outputs": [
    {
     "data": {
      "text/plain": [
       "44"
      ]
     },
     "execution_count": 15,
     "metadata": {},
     "output_type": "execute_result"
    }
   ],
   "source": [
    "len(consumption_data2.Active_principle.unique())"
   ]
  },
  {
   "cell_type": "markdown",
   "metadata": {},
   "source": [
    "##### # OF BACTERIA (FOR INFORMATION)"
   ]
  },
  {
   "cell_type": "code",
   "execution_count": 16,
   "metadata": {},
   "outputs": [
    {
     "data": {
      "text/plain": [
       "171"
      ]
     },
     "execution_count": 16,
     "metadata": {},
     "output_type": "execute_result"
    }
   ],
   "source": [
    "len(amr_data1.Bacteria.unique())"
   ]
  },
  {
   "cell_type": "code",
   "execution_count": 17,
   "metadata": {},
   "outputs": [
    {
     "data": {
      "text/plain": [
       "44"
      ]
     },
     "execution_count": 17,
     "metadata": {},
     "output_type": "execute_result"
    }
   ],
   "source": [
    "len(amr_data2.Bacteria.unique())"
   ]
  },
  {
   "cell_type": "code",
   "execution_count": 18,
   "metadata": {},
   "outputs": [
    {
     "data": {
      "text/plain": [
       "56"
      ]
     },
     "execution_count": 18,
     "metadata": {},
     "output_type": "execute_result"
    }
   ],
   "source": [
    "len(amr_data3.Bacteria.unique())"
   ]
  },
  {
   "cell_type": "markdown",
   "metadata": {},
   "source": [
    "##### # OF FARM (FOR INFORMATION)"
   ]
  },
  {
   "cell_type": "code",
   "execution_count": 19,
   "metadata": {},
   "outputs": [
    {
     "data": {
      "text/plain": [
       "3053"
      ]
     },
     "execution_count": 19,
     "metadata": {},
     "output_type": "execute_result"
    }
   ],
   "source": [
    "len(amr_data1.Farm_ID.unique())"
   ]
  },
  {
   "cell_type": "code",
   "execution_count": 20,
   "metadata": {},
   "outputs": [
    {
     "data": {
      "text/plain": [
       "779"
      ]
     },
     "execution_count": 20,
     "metadata": {},
     "output_type": "execute_result"
    }
   ],
   "source": [
    "len(amr_data2.Farm_ID.unique())"
   ]
  },
  {
   "cell_type": "code",
   "execution_count": 21,
   "metadata": {},
   "outputs": [
    {
     "data": {
      "text/plain": [
       "827"
      ]
     },
     "execution_count": 21,
     "metadata": {},
     "output_type": "execute_result"
    }
   ],
   "source": [
    "len(amr_data3.Farm_ID.unique())"
   ]
  },
  {
   "cell_type": "code",
   "execution_count": 22,
   "metadata": {},
   "outputs": [
    {
     "data": {
      "text/plain": [
       "135"
      ]
     },
     "execution_count": 22,
     "metadata": {},
     "output_type": "execute_result"
    }
   ],
   "source": [
    "len(consumption_data1.Farm_ID.unique())"
   ]
  },
  {
   "cell_type": "code",
   "execution_count": 23,
   "metadata": {},
   "outputs": [
    {
     "data": {
      "text/plain": [
       "430"
      ]
     },
     "execution_count": 23,
     "metadata": {},
     "output_type": "execute_result"
    }
   ],
   "source": [
    "len(consumption_data2.Farm_ID.unique())"
   ]
  },
  {
   "cell_type": "markdown",
   "metadata": {},
   "source": [
    "##### MERGING ALL THE AMR TEST DATA AND THE CONSUMPTION DATA"
   ]
  },
  {
   "cell_type": "markdown",
   "metadata": {},
   "source": [
    "The AMR test results data and the antibiotic consumption data can be merged in two datesets."
   ]
  },
  {
   "cell_type": "code",
   "execution_count": 24,
   "metadata": {
    "collapsed": true
   },
   "outputs": [],
   "source": [
    "frames = [amr_data1, amr_data2, amr_data3]\n",
    "amr_data = pd.concat(frames, ignore_index=True)"
   ]
  },
  {
   "cell_type": "code",
   "execution_count": 25,
   "metadata": {
    "collapsed": true
   },
   "outputs": [],
   "source": [
    "frames2 = [consumption_data1, consumption_data2]\n",
    "consumption_data = pd.concat(frames2, ignore_index=True)"
   ]
  },
  {
   "cell_type": "code",
   "execution_count": 26,
   "metadata": {},
   "outputs": [
    {
     "data": {
      "text/plain": [
       "750232"
      ]
     },
     "execution_count": 26,
     "metadata": {},
     "output_type": "execute_result"
    }
   ],
   "source": [
    "len(amr_data)"
   ]
  },
  {
   "cell_type": "code",
   "execution_count": 27,
   "metadata": {},
   "outputs": [
    {
     "data": {
      "text/plain": [
       "393"
      ]
     },
     "execution_count": 27,
     "metadata": {},
     "output_type": "execute_result"
    }
   ],
   "source": [
    "len(pd.Series(list(set(amr_data.Farm_ID).intersection(set(consumption_data.Farm_ID)))))"
   ]
  },
  {
   "cell_type": "code",
   "execution_count": 28,
   "metadata": {},
   "outputs": [
    {
     "data": {
      "text/plain": [
       "18852"
      ]
     },
     "execution_count": 28,
     "metadata": {},
     "output_type": "execute_result"
    }
   ],
   "source": [
    "len(consumption_data)"
   ]
  },
  {
   "cell_type": "markdown",
   "metadata": {},
   "source": [
    "##### ACTIVE PRINCIPLE CLEANING"
   ]
  },
  {
   "cell_type": "markdown",
   "metadata": {},
   "source": [
    "The amr_data has some problems for the active principle which cannot be solvable in an automated manner. Some of the active principle are in Italian language, some of them are in English language. There are typos which is not easy to understand typo of which language. More over there are some active principle which are translated not in a proper way. \n",
    "Because of these problems I collected all unique values of \"Active Principle\" to create a mapping excel with right names. This will let me compare the active principle across the datasets.\n",
    "More over, I added to this excel another column where I classified the importance of the active priciples, such as;\n",
    "1 - VCIA: Veterinary Critically Important Antimicrobials \n",
    "2 - VHIA: Veterinary Highly Important Antimicrobials \n",
    "3 - VIA: Veterinary Important Antimicrobials"
   ]
  },
  {
   "cell_type": "code",
   "execution_count": 29,
   "metadata": {
    "collapsed": true
   },
   "outputs": [],
   "source": [
    "active_principle_info = pd.read_excel(\"Active_principle_map.xlsx\")"
   ]
  },
  {
   "cell_type": "code",
   "execution_count": 30,
   "metadata": {},
   "outputs": [
    {
     "data": {
      "text/html": [
       "<div>\n",
       "<style>\n",
       "    .dataframe thead tr:only-child th {\n",
       "        text-align: right;\n",
       "    }\n",
       "\n",
       "    .dataframe thead th {\n",
       "        text-align: left;\n",
       "    }\n",
       "\n",
       "    .dataframe tbody tr th {\n",
       "        vertical-align: top;\n",
       "    }\n",
       "</style>\n",
       "<table border=\"1\" class=\"dataframe\">\n",
       "  <thead>\n",
       "    <tr style=\"text-align: right;\">\n",
       "      <th></th>\n",
       "      <th>Active_principle</th>\n",
       "      <th>English_name</th>\n",
       "      <th>Value</th>\n",
       "    </tr>\n",
       "  </thead>\n",
       "  <tbody>\n",
       "    <tr>\n",
       "      <th>0</th>\n",
       "      <td>ACIDO FUSIDICO</td>\n",
       "      <td>FUSIDIC ACID</td>\n",
       "      <td>3.0</td>\n",
       "    </tr>\n",
       "    <tr>\n",
       "      <th>1</th>\n",
       "      <td>ACIDO NALIDIXICO</td>\n",
       "      <td>NALIDIXIC ACID</td>\n",
       "      <td>2.0</td>\n",
       "    </tr>\n",
       "    <tr>\n",
       "      <th>2</th>\n",
       "      <td>ACIDO OXOLINICO</td>\n",
       "      <td>OXOLINIC ACID</td>\n",
       "      <td>2.0</td>\n",
       "    </tr>\n",
       "    <tr>\n",
       "      <th>3</th>\n",
       "      <td>AMIKACINA</td>\n",
       "      <td>AMIKACIN</td>\n",
       "      <td>1.0</td>\n",
       "    </tr>\n",
       "    <tr>\n",
       "      <th>4</th>\n",
       "      <td>AMINOSIDINA</td>\n",
       "      <td>PAROMOMYCIN</td>\n",
       "      <td>1.0</td>\n",
       "    </tr>\n",
       "    <tr>\n",
       "      <th>5</th>\n",
       "      <td>AMOXICILLIN</td>\n",
       "      <td>AMOXICILLIN</td>\n",
       "      <td>1.0</td>\n",
       "    </tr>\n",
       "    <tr>\n",
       "      <th>6</th>\n",
       "      <td>AMOXICILLINA</td>\n",
       "      <td>AMOXICILLIN</td>\n",
       "      <td>1.0</td>\n",
       "    </tr>\n",
       "    <tr>\n",
       "      <th>7</th>\n",
       "      <td>AMOXICILLINA + AC.CLAVULANICO</td>\n",
       "      <td>AMOXICILLIN + CLAVULANIC ACID</td>\n",
       "      <td>1.0</td>\n",
       "    </tr>\n",
       "    <tr>\n",
       "      <th>8</th>\n",
       "      <td>AMOXICILLINA + COLISTINA</td>\n",
       "      <td>AMOXICILLIN + COLISTIN</td>\n",
       "      <td>NaN</td>\n",
       "    </tr>\n",
       "    <tr>\n",
       "      <th>9</th>\n",
       "      <td>AMPICILLIN</td>\n",
       "      <td>AMPICILLIN</td>\n",
       "      <td>1.0</td>\n",
       "    </tr>\n",
       "    <tr>\n",
       "      <th>10</th>\n",
       "      <td>AMPICILLINA</td>\n",
       "      <td>AMPICILLIN</td>\n",
       "      <td>1.0</td>\n",
       "    </tr>\n",
       "    <tr>\n",
       "      <th>11</th>\n",
       "      <td>AMPICILLINA + DICLOXACILLINA</td>\n",
       "      <td>AMPICILLIN + DICLOXACILLIN</td>\n",
       "      <td>NaN</td>\n",
       "    </tr>\n",
       "    <tr>\n",
       "      <th>12</th>\n",
       "      <td>APRAMICINA</td>\n",
       "      <td>APRAMYCIN</td>\n",
       "      <td>1.0</td>\n",
       "    </tr>\n",
       "    <tr>\n",
       "      <th>13</th>\n",
       "      <td>APRAMYCIN</td>\n",
       "      <td>APRAMYCIN</td>\n",
       "      <td>1.0</td>\n",
       "    </tr>\n",
       "    <tr>\n",
       "      <th>14</th>\n",
       "      <td>BACITRACINA</td>\n",
       "      <td>BACITRACIN</td>\n",
       "      <td>2.0</td>\n",
       "    </tr>\n",
       "    <tr>\n",
       "      <th>15</th>\n",
       "      <td>BENZYLPENICILLIN</td>\n",
       "      <td>BENZYLPENICILLIN</td>\n",
       "      <td>1.0</td>\n",
       "    </tr>\n",
       "    <tr>\n",
       "      <th>16</th>\n",
       "      <td>CEFACETRILE</td>\n",
       "      <td>CEFACETRILE</td>\n",
       "      <td>2.0</td>\n",
       "    </tr>\n",
       "    <tr>\n",
       "      <th>17</th>\n",
       "      <td>CEFACETRILE + RIFAXIMINA</td>\n",
       "      <td>CEFACETRILE + RIFAXIMIN</td>\n",
       "      <td>NaN</td>\n",
       "    </tr>\n",
       "    <tr>\n",
       "      <th>18</th>\n",
       "      <td>CEFADROXIL</td>\n",
       "      <td>CEFADROXIL</td>\n",
       "      <td>NaN</td>\n",
       "    </tr>\n",
       "    <tr>\n",
       "      <th>19</th>\n",
       "      <td>CEFALEXINA</td>\n",
       "      <td>CEFALEXIN</td>\n",
       "      <td>2.0</td>\n",
       "    </tr>\n",
       "    <tr>\n",
       "      <th>20</th>\n",
       "      <td>CEFALEXINA + KANAMICINA</td>\n",
       "      <td>CEFALEXIN + KANAMYCIN</td>\n",
       "      <td>NaN</td>\n",
       "    </tr>\n",
       "    <tr>\n",
       "      <th>21</th>\n",
       "      <td>CEFALONIO</td>\n",
       "      <td>CEFALONIUM</td>\n",
       "      <td>2.0</td>\n",
       "    </tr>\n",
       "    <tr>\n",
       "      <th>22</th>\n",
       "      <td>CEFALORIDINA</td>\n",
       "      <td>CEPHALORIDINA</td>\n",
       "      <td>NaN</td>\n",
       "    </tr>\n",
       "    <tr>\n",
       "      <th>23</th>\n",
       "      <td>CEFALOSPORINE DI 1.A GENERAZIONE</td>\n",
       "      <td>CEPHALOSPORIN</td>\n",
       "      <td>NaN</td>\n",
       "    </tr>\n",
       "    <tr>\n",
       "      <th>24</th>\n",
       "      <td>CEFALOSPORINE DI 3.A GENERAZIONE</td>\n",
       "      <td>CEPHALOSPORIN</td>\n",
       "      <td>NaN</td>\n",
       "    </tr>\n",
       "    <tr>\n",
       "      <th>25</th>\n",
       "      <td>CEFALOSPORINE DI 4.A GENERAZIONE</td>\n",
       "      <td>CEPHALOSPORIN</td>\n",
       "      <td>NaN</td>\n",
       "    </tr>\n",
       "    <tr>\n",
       "      <th>26</th>\n",
       "      <td>CEFALOTINA</td>\n",
       "      <td>CEFALOTIN</td>\n",
       "      <td>2.0</td>\n",
       "    </tr>\n",
       "    <tr>\n",
       "      <th>27</th>\n",
       "      <td>CEFAPIRINA</td>\n",
       "      <td>CEFAPYRIN</td>\n",
       "      <td>2.0</td>\n",
       "    </tr>\n",
       "    <tr>\n",
       "      <th>28</th>\n",
       "      <td>CEFAZOLINA</td>\n",
       "      <td>CEFAZOLIN</td>\n",
       "      <td>2.0</td>\n",
       "    </tr>\n",
       "    <tr>\n",
       "      <th>29</th>\n",
       "      <td>CEFOPERAZONE</td>\n",
       "      <td>CEFOPERAZONE</td>\n",
       "      <td>1.0</td>\n",
       "    </tr>\n",
       "    <tr>\n",
       "      <th>...</th>\n",
       "      <td>...</td>\n",
       "      <td>...</td>\n",
       "      <td>...</td>\n",
       "    </tr>\n",
       "    <tr>\n",
       "      <th>112</th>\n",
       "      <td>SULFAMERAZINE</td>\n",
       "      <td>SULFAMERAZINE</td>\n",
       "      <td>NaN</td>\n",
       "    </tr>\n",
       "    <tr>\n",
       "      <th>113</th>\n",
       "      <td>SULFAMETAZINA</td>\n",
       "      <td>SULFADIMIDINE</td>\n",
       "      <td>1.0</td>\n",
       "    </tr>\n",
       "    <tr>\n",
       "      <th>114</th>\n",
       "      <td>SULFAMETHOXAZOLE</td>\n",
       "      <td>SULFAMETHOXAZOLE</td>\n",
       "      <td>NaN</td>\n",
       "    </tr>\n",
       "    <tr>\n",
       "      <th>115</th>\n",
       "      <td>SULFAMETIZOLO</td>\n",
       "      <td>SULFAMETHIZOLE</td>\n",
       "      <td>NaN</td>\n",
       "    </tr>\n",
       "    <tr>\n",
       "      <th>116</th>\n",
       "      <td>SULFAMETOSSAZOLO</td>\n",
       "      <td>SULFAMETHOXAZOLE</td>\n",
       "      <td>NaN</td>\n",
       "    </tr>\n",
       "    <tr>\n",
       "      <th>117</th>\n",
       "      <td>SULFAMETOXAZOLO</td>\n",
       "      <td>SULFAMETHOXAZOLE</td>\n",
       "      <td>NaN</td>\n",
       "    </tr>\n",
       "    <tr>\n",
       "      <th>118</th>\n",
       "      <td>SULFAMONOMETHOXINE</td>\n",
       "      <td>SULFAMONOMETHOXINE</td>\n",
       "      <td>1.0</td>\n",
       "    </tr>\n",
       "    <tr>\n",
       "      <th>119</th>\n",
       "      <td>SULFISOXAZOLO</td>\n",
       "      <td>SULFAFURAZOLE</td>\n",
       "      <td>1.0</td>\n",
       "    </tr>\n",
       "    <tr>\n",
       "      <th>120</th>\n",
       "      <td>SULFONAMIDI</td>\n",
       "      <td>SULFONAMIDE</td>\n",
       "      <td>NaN</td>\n",
       "    </tr>\n",
       "    <tr>\n",
       "      <th>121</th>\n",
       "      <td>TETRACICLINA</td>\n",
       "      <td>TETRACYCLINE</td>\n",
       "      <td>1.0</td>\n",
       "    </tr>\n",
       "    <tr>\n",
       "      <th>122</th>\n",
       "      <td>THIAMPHENICOL</td>\n",
       "      <td>THIAMPHENICOL</td>\n",
       "      <td>1.0</td>\n",
       "    </tr>\n",
       "    <tr>\n",
       "      <th>123</th>\n",
       "      <td>TIAMFENICOLO</td>\n",
       "      <td>THIAMPHENICOL</td>\n",
       "      <td>1.0</td>\n",
       "    </tr>\n",
       "    <tr>\n",
       "      <th>124</th>\n",
       "      <td>TIAMULIN</td>\n",
       "      <td>TIAMULIN</td>\n",
       "      <td>2.0</td>\n",
       "    </tr>\n",
       "    <tr>\n",
       "      <th>125</th>\n",
       "      <td>TIAMULINA</td>\n",
       "      <td>TIAMULIN</td>\n",
       "      <td>2.0</td>\n",
       "    </tr>\n",
       "    <tr>\n",
       "      <th>126</th>\n",
       "      <td>TILDIPIROSIN</td>\n",
       "      <td>TILDIPIROSIN</td>\n",
       "      <td>1.0</td>\n",
       "    </tr>\n",
       "    <tr>\n",
       "      <th>127</th>\n",
       "      <td>TILDIPIROSINA</td>\n",
       "      <td>TILDIPIROSIN</td>\n",
       "      <td>1.0</td>\n",
       "    </tr>\n",
       "    <tr>\n",
       "      <th>128</th>\n",
       "      <td>TILMICOSIN</td>\n",
       "      <td>TILMICOSIN</td>\n",
       "      <td>1.0</td>\n",
       "    </tr>\n",
       "    <tr>\n",
       "      <th>129</th>\n",
       "      <td>TILMICOSINA</td>\n",
       "      <td>TILMICOSIN</td>\n",
       "      <td>1.0</td>\n",
       "    </tr>\n",
       "    <tr>\n",
       "      <th>130</th>\n",
       "      <td>TILOSINA</td>\n",
       "      <td>TYLOSIN</td>\n",
       "      <td>1.0</td>\n",
       "    </tr>\n",
       "    <tr>\n",
       "      <th>131</th>\n",
       "      <td>TILVALOSINA</td>\n",
       "      <td>TYLVALOSIN</td>\n",
       "      <td>1.0</td>\n",
       "    </tr>\n",
       "    <tr>\n",
       "      <th>132</th>\n",
       "      <td>TOBRAMICINA</td>\n",
       "      <td>TOBRAMYCIN</td>\n",
       "      <td>1.0</td>\n",
       "    </tr>\n",
       "    <tr>\n",
       "      <th>133</th>\n",
       "      <td>TRIMETHOPRIM</td>\n",
       "      <td>TRIMETHOPRIM</td>\n",
       "      <td>1.0</td>\n",
       "    </tr>\n",
       "    <tr>\n",
       "      <th>134</th>\n",
       "      <td>TRIMETOPRIM</td>\n",
       "      <td>TRIMETHOPRIM</td>\n",
       "      <td>1.0</td>\n",
       "    </tr>\n",
       "    <tr>\n",
       "      <th>135</th>\n",
       "      <td>TRIMETOPRIM + SULFONAMIDI</td>\n",
       "      <td>TRIMETHOPRIM + SULFONAMIDE</td>\n",
       "      <td>1.0</td>\n",
       "    </tr>\n",
       "    <tr>\n",
       "      <th>136</th>\n",
       "      <td>TULATHROMYCIN</td>\n",
       "      <td>TULATHROMYCIN</td>\n",
       "      <td>1.0</td>\n",
       "    </tr>\n",
       "    <tr>\n",
       "      <th>137</th>\n",
       "      <td>TULATROMICINA</td>\n",
       "      <td>TULATHROMYCIN</td>\n",
       "      <td>1.0</td>\n",
       "    </tr>\n",
       "    <tr>\n",
       "      <th>138</th>\n",
       "      <td>TYLOSIN</td>\n",
       "      <td>TYLOSIN</td>\n",
       "      <td>1.0</td>\n",
       "    </tr>\n",
       "    <tr>\n",
       "      <th>139</th>\n",
       "      <td>TYLVALOSIN</td>\n",
       "      <td>TYLVALOSIN</td>\n",
       "      <td>1.0</td>\n",
       "    </tr>\n",
       "    <tr>\n",
       "      <th>140</th>\n",
       "      <td>VALNEMULINA</td>\n",
       "      <td>VALNEMULIN</td>\n",
       "      <td>2.0</td>\n",
       "    </tr>\n",
       "    <tr>\n",
       "      <th>141</th>\n",
       "      <td>VANCOMICINA</td>\n",
       "      <td>VANCOMYCIN</td>\n",
       "      <td>NaN</td>\n",
       "    </tr>\n",
       "  </tbody>\n",
       "</table>\n",
       "<p>142 rows × 3 columns</p>\n",
       "</div>"
      ],
      "text/plain": [
       "                     Active_principle                   English_name  Value\n",
       "0                      ACIDO FUSIDICO                   FUSIDIC ACID    3.0\n",
       "1                    ACIDO NALIDIXICO                 NALIDIXIC ACID    2.0\n",
       "2                     ACIDO OXOLINICO                  OXOLINIC ACID    2.0\n",
       "3                           AMIKACINA                       AMIKACIN    1.0\n",
       "4                         AMINOSIDINA                    PAROMOMYCIN    1.0\n",
       "5                         AMOXICILLIN                    AMOXICILLIN    1.0\n",
       "6                        AMOXICILLINA                    AMOXICILLIN    1.0\n",
       "7       AMOXICILLINA + AC.CLAVULANICO  AMOXICILLIN + CLAVULANIC ACID    1.0\n",
       "8            AMOXICILLINA + COLISTINA         AMOXICILLIN + COLISTIN    NaN\n",
       "9                          AMPICILLIN                     AMPICILLIN    1.0\n",
       "10                        AMPICILLINA                     AMPICILLIN    1.0\n",
       "11       AMPICILLINA + DICLOXACILLINA     AMPICILLIN + DICLOXACILLIN    NaN\n",
       "12                         APRAMICINA                      APRAMYCIN    1.0\n",
       "13                          APRAMYCIN                      APRAMYCIN    1.0\n",
       "14                        BACITRACINA                     BACITRACIN    2.0\n",
       "15                   BENZYLPENICILLIN               BENZYLPENICILLIN    1.0\n",
       "16                        CEFACETRILE                    CEFACETRILE    2.0\n",
       "17           CEFACETRILE + RIFAXIMINA        CEFACETRILE + RIFAXIMIN    NaN\n",
       "18                         CEFADROXIL                     CEFADROXIL    NaN\n",
       "19                         CEFALEXINA                      CEFALEXIN    2.0\n",
       "20            CEFALEXINA + KANAMICINA          CEFALEXIN + KANAMYCIN    NaN\n",
       "21                          CEFALONIO                     CEFALONIUM    2.0\n",
       "22                       CEFALORIDINA                  CEPHALORIDINA    NaN\n",
       "23   CEFALOSPORINE DI 1.A GENERAZIONE                  CEPHALOSPORIN    NaN\n",
       "24   CEFALOSPORINE DI 3.A GENERAZIONE                  CEPHALOSPORIN    NaN\n",
       "25   CEFALOSPORINE DI 4.A GENERAZIONE                  CEPHALOSPORIN    NaN\n",
       "26                         CEFALOTINA                      CEFALOTIN    2.0\n",
       "27                         CEFAPIRINA                      CEFAPYRIN    2.0\n",
       "28                         CEFAZOLINA                      CEFAZOLIN    2.0\n",
       "29                       CEFOPERAZONE                   CEFOPERAZONE    1.0\n",
       "..                                ...                            ...    ...\n",
       "112                     SULFAMERAZINE                  SULFAMERAZINE    NaN\n",
       "113                     SULFAMETAZINA                  SULFADIMIDINE    1.0\n",
       "114                  SULFAMETHOXAZOLE               SULFAMETHOXAZOLE    NaN\n",
       "115                     SULFAMETIZOLO                 SULFAMETHIZOLE    NaN\n",
       "116                  SULFAMETOSSAZOLO               SULFAMETHOXAZOLE    NaN\n",
       "117                   SULFAMETOXAZOLO               SULFAMETHOXAZOLE    NaN\n",
       "118                SULFAMONOMETHOXINE             SULFAMONOMETHOXINE    1.0\n",
       "119                     SULFISOXAZOLO                  SULFAFURAZOLE    1.0\n",
       "120                       SULFONAMIDI                    SULFONAMIDE    NaN\n",
       "121                      TETRACICLINA                   TETRACYCLINE    1.0\n",
       "122                     THIAMPHENICOL                  THIAMPHENICOL    1.0\n",
       "123                      TIAMFENICOLO                  THIAMPHENICOL    1.0\n",
       "124                          TIAMULIN                       TIAMULIN    2.0\n",
       "125                         TIAMULINA                       TIAMULIN    2.0\n",
       "126                      TILDIPIROSIN                   TILDIPIROSIN    1.0\n",
       "127                     TILDIPIROSINA                   TILDIPIROSIN    1.0\n",
       "128                        TILMICOSIN                     TILMICOSIN    1.0\n",
       "129                       TILMICOSINA                     TILMICOSIN    1.0\n",
       "130                          TILOSINA                        TYLOSIN    1.0\n",
       "131                       TILVALOSINA                     TYLVALOSIN    1.0\n",
       "132                       TOBRAMICINA                     TOBRAMYCIN    1.0\n",
       "133                      TRIMETHOPRIM                   TRIMETHOPRIM    1.0\n",
       "134                       TRIMETOPRIM                   TRIMETHOPRIM    1.0\n",
       "135         TRIMETOPRIM + SULFONAMIDI     TRIMETHOPRIM + SULFONAMIDE    1.0\n",
       "136                     TULATHROMYCIN                  TULATHROMYCIN    1.0\n",
       "137                     TULATROMICINA                  TULATHROMYCIN    1.0\n",
       "138                           TYLOSIN                        TYLOSIN    1.0\n",
       "139                        TYLVALOSIN                     TYLVALOSIN    1.0\n",
       "140                       VALNEMULINA                     VALNEMULIN    2.0\n",
       "141                       VANCOMICINA                     VANCOMYCIN    NaN\n",
       "\n",
       "[142 rows x 3 columns]"
      ]
     },
     "execution_count": 30,
     "metadata": {},
     "output_type": "execute_result"
    }
   ],
   "source": [
    "active_principle_info"
   ]
  },
  {
   "cell_type": "code",
   "execution_count": 31,
   "metadata": {
    "collapsed": true
   },
   "outputs": [],
   "source": [
    "amr_data_ap = pd.merge(amr_data, active_principle_info, on='Active_principle', how='inner')"
   ]
  },
  {
   "cell_type": "code",
   "execution_count": 33,
   "metadata": {
    "collapsed": true
   },
   "outputs": [],
   "source": [
    "amr_data_ap = amr_data_ap.drop(['Active_principle'], axis=1)"
   ]
  },
  {
   "cell_type": "code",
   "execution_count": 35,
   "metadata": {
    "collapsed": true
   },
   "outputs": [],
   "source": [
    "amr_data_ap = amr_data_ap.rename(index=str, columns={'English_name': \"Active_principle\"})"
   ]
  },
  {
   "cell_type": "markdown",
   "metadata": {},
   "source": [
    "##### TRANSLATE THE VALUES IN ENGLISH"
   ]
  },
  {
   "cell_type": "markdown",
   "metadata": {},
   "source": [
    "It is nice to work always in same language. Here the 'Result' column values translated in English."
   ]
  },
  {
   "cell_type": "code",
   "execution_count": 37,
   "metadata": {
    "collapsed": true
   },
   "outputs": [],
   "source": [
    "amr_data_ap.Result.replace(['RESISTENTE', 'SENSIBILE', 'INTERMEDIO'], ['RESISTANT', 'SENSITIVE', 'INTERMEDIATE'], inplace=True)"
   ]
  },
  {
   "cell_type": "markdown",
   "metadata": {},
   "source": [
    "##### SUM THE RELATED CONSUMPTION"
   ]
  },
  {
   "cell_type": "markdown",
   "metadata": {},
   "source": [
    "Because of the unautomated data collection and the nature of the drug consumption, there are multiple lines for each antibiotic consumption. For the health of the analysis, it is needed to sum same antibiotic comsumption which are belong to same farm, same year, same methodology and same type of medication."
   ]
  },
  {
   "cell_type": "code",
   "execution_count": 51,
   "metadata": {
    "collapsed": true
   },
   "outputs": [],
   "source": [
    "# Drop more column \n",
    "consumption_data = consumption_data.drop(['PK_Somministrazione', 'Site1', 'Site3', 'Target'], axis=1)"
   ]
  },
  {
   "cell_type": "code",
   "execution_count": 53,
   "metadata": {},
   "outputs": [],
   "source": [
    "# New dataframe with grouped featues\n",
    "consumption_data_grouped = consumption_data.groupby(['Farm_ID', 'Year', 'Open_cycle', 'Close_cycle', 'Type_of_medication', 'Active_principle'], as_index= False).sum()"
   ]
  },
  {
   "cell_type": "code",
   "execution_count": 55,
   "metadata": {},
   "outputs": [
    {
     "data": {
      "text/plain": [
       "10431"
      ]
     },
     "execution_count": 55,
     "metadata": {},
     "output_type": "execute_result"
    }
   ],
   "source": [
    "len(consumption_data_grouped) # 8421 records less!!"
   ]
  },
  {
   "cell_type": "markdown",
   "metadata": {},
   "source": [
    "##### CREATE THE GIANT DATASET"
   ]
  },
  {
   "cell_type": "code",
   "execution_count": 78,
   "metadata": {
    "collapsed": true
   },
   "outputs": [],
   "source": [
    "combination1= pd.merge(amr_data_cleaned, consumption_data, on=['Year', 'Farm_ID', 'Active_principle'], how='inner')"
   ]
  },
  {
   "cell_type": "code",
   "execution_count": 80,
   "metadata": {
    "collapsed": true
   },
   "outputs": [],
   "source": [
    "writer = pd.ExcelWriter('combination1.xlsx')\n",
    "combination1.to_excel(writer,'Sheet1')\n",
    "writer.save()"
   ]
  },
  {
   "cell_type": "code",
   "execution_count": 81,
   "metadata": {},
   "outputs": [
    {
     "data": {
      "text/plain": [
       "12895"
      ]
     },
     "execution_count": 81,
     "metadata": {},
     "output_type": "execute_result"
    }
   ],
   "source": [
    "len(combination1)"
   ]
  },
  {
   "cell_type": "code",
   "execution_count": 56,
   "metadata": {
    "collapsed": true
   },
   "outputs": [],
   "source": [
    "combination2= pd.merge(amr_data_ap, consumption_data_grouped, on=['Year', 'Farm_ID', 'Active_principle'], how='inner')"
   ]
  },
  {
   "cell_type": "code",
   "execution_count": 57,
   "metadata": {
    "collapsed": true
   },
   "outputs": [],
   "source": [
    "writer = pd.ExcelWriter('combination2.xlsx')\n",
    "combination2.to_excel(writer,'Sheet1')\n",
    "writer.save()"
   ]
  },
  {
   "cell_type": "code",
   "execution_count": 58,
   "metadata": {},
   "outputs": [
    {
     "data": {
      "text/plain": [
       "6564"
      ]
     },
     "execution_count": 58,
     "metadata": {},
     "output_type": "execute_result"
    }
   ],
   "source": [
    "len(combination2)"
   ]
  },
  {
   "cell_type": "markdown",
   "metadata": {
    "collapsed": true
   },
   "source": [
    "### Pre-processing"
   ]
  },
  {
   "cell_type": "code",
   "execution_count": null,
   "metadata": {
    "collapsed": true
   },
   "outputs": [],
   "source": [
    "# Dealing with catorical data"
   ]
  },
  {
   "cell_type": "code",
   "execution_count": 88,
   "metadata": {
    "collapsed": true
   },
   "outputs": [],
   "source": [
    "# Binarization"
   ]
  },
  {
   "cell_type": "code",
   "execution_count": null,
   "metadata": {
    "collapsed": true
   },
   "outputs": [],
   "source": []
  },
  {
   "cell_type": "code",
   "execution_count": 89,
   "metadata": {
    "collapsed": true
   },
   "outputs": [],
   "source": [
    "from sklearn import preprocessing\n",
    "import numpy as np"
   ]
  },
  {
   "cell_type": "code",
   "execution_count": null,
   "metadata": {
    "collapsed": true
   },
   "outputs": [],
   "source": [
    "# bindata = preprocessing.Binarizer(threshold=1.5).trasform(combination1)"
   ]
  },
  {
   "cell_type": "code",
   "execution_count": 90,
   "metadata": {
    "collapsed": true
   },
   "outputs": [],
   "source": [
    "# Mean Removal"
   ]
  },
  {
   "cell_type": "code",
   "execution_count": 100,
   "metadata": {
    "collapsed": true
   },
   "outputs": [],
   "source": [
    "# Scaling with MinMaxScaler"
   ]
  },
  {
   "cell_type": "code",
   "execution_count": 102,
   "metadata": {},
   "outputs": [
    {
     "ename": "ValueError",
     "evalue": "could not convert string to float: 'RESPIRATORIE'",
     "output_type": "error",
     "traceback": [
      "\u001b[0;31m---------------------------------------------------------------------------\u001b[0m",
      "\u001b[0;31mValueError\u001b[0m                                Traceback (most recent call last)",
      "\u001b[0;32m<ipython-input-102-9c37b3af04cb>\u001b[0m in \u001b[0;36m<module>\u001b[0;34m()\u001b[0m\n\u001b[1;32m      1\u001b[0m \u001b[0mminmax_scaler\u001b[0m \u001b[0;34m=\u001b[0m \u001b[0mpreprocessing\u001b[0m\u001b[0;34m.\u001b[0m\u001b[0mMinMaxScaler\u001b[0m\u001b[0;34m(\u001b[0m\u001b[0mfeature_range\u001b[0m\u001b[0;34m=\u001b[0m\u001b[0;34m(\u001b[0m\u001b[0;36m0\u001b[0m\u001b[0;34m,\u001b[0m\u001b[0;36m1\u001b[0m\u001b[0;34m)\u001b[0m\u001b[0;34m)\u001b[0m\u001b[0;34m\u001b[0m\u001b[0m\n\u001b[0;32m----> 2\u001b[0;31m \u001b[0mdata_minmax\u001b[0m \u001b[0;34m=\u001b[0m \u001b[0mminmax_scaler\u001b[0m\u001b[0;34m.\u001b[0m\u001b[0mfit_transform\u001b[0m\u001b[0;34m(\u001b[0m\u001b[0mcombination1\u001b[0m\u001b[0;34m)\u001b[0m\u001b[0;34m\u001b[0m\u001b[0m\n\u001b[0m",
      "\u001b[0;32m~/anaconda3/lib/python3.6/site-packages/sklearn/base.py\u001b[0m in \u001b[0;36mfit_transform\u001b[0;34m(self, X, y, **fit_params)\u001b[0m\n\u001b[1;32m    460\u001b[0m         \u001b[0;32mif\u001b[0m \u001b[0my\u001b[0m \u001b[0;32mis\u001b[0m \u001b[0;32mNone\u001b[0m\u001b[0;34m:\u001b[0m\u001b[0;34m\u001b[0m\u001b[0m\n\u001b[1;32m    461\u001b[0m             \u001b[0;31m# fit method of arity 1 (unsupervised transformation)\u001b[0m\u001b[0;34m\u001b[0m\u001b[0;34m\u001b[0m\u001b[0m\n\u001b[0;32m--> 462\u001b[0;31m             \u001b[0;32mreturn\u001b[0m \u001b[0mself\u001b[0m\u001b[0;34m.\u001b[0m\u001b[0mfit\u001b[0m\u001b[0;34m(\u001b[0m\u001b[0mX\u001b[0m\u001b[0;34m,\u001b[0m \u001b[0;34m**\u001b[0m\u001b[0mfit_params\u001b[0m\u001b[0;34m)\u001b[0m\u001b[0;34m.\u001b[0m\u001b[0mtransform\u001b[0m\u001b[0;34m(\u001b[0m\u001b[0mX\u001b[0m\u001b[0;34m)\u001b[0m\u001b[0;34m\u001b[0m\u001b[0m\n\u001b[0m\u001b[1;32m    463\u001b[0m         \u001b[0;32melse\u001b[0m\u001b[0;34m:\u001b[0m\u001b[0;34m\u001b[0m\u001b[0m\n\u001b[1;32m    464\u001b[0m             \u001b[0;31m# fit method of arity 2 (supervised transformation)\u001b[0m\u001b[0;34m\u001b[0m\u001b[0;34m\u001b[0m\u001b[0m\n",
      "\u001b[0;32m~/anaconda3/lib/python3.6/site-packages/sklearn/preprocessing/data.py\u001b[0m in \u001b[0;36mfit\u001b[0;34m(self, X, y)\u001b[0m\n\u001b[1;32m    321\u001b[0m         \u001b[0;31m# Reset internal state before fitting\u001b[0m\u001b[0;34m\u001b[0m\u001b[0;34m\u001b[0m\u001b[0m\n\u001b[1;32m    322\u001b[0m         \u001b[0mself\u001b[0m\u001b[0;34m.\u001b[0m\u001b[0m_reset\u001b[0m\u001b[0;34m(\u001b[0m\u001b[0;34m)\u001b[0m\u001b[0;34m\u001b[0m\u001b[0m\n\u001b[0;32m--> 323\u001b[0;31m         \u001b[0;32mreturn\u001b[0m \u001b[0mself\u001b[0m\u001b[0;34m.\u001b[0m\u001b[0mpartial_fit\u001b[0m\u001b[0;34m(\u001b[0m\u001b[0mX\u001b[0m\u001b[0;34m,\u001b[0m \u001b[0my\u001b[0m\u001b[0;34m)\u001b[0m\u001b[0;34m\u001b[0m\u001b[0m\n\u001b[0m\u001b[1;32m    324\u001b[0m \u001b[0;34m\u001b[0m\u001b[0m\n\u001b[1;32m    325\u001b[0m     \u001b[0;32mdef\u001b[0m \u001b[0mpartial_fit\u001b[0m\u001b[0;34m(\u001b[0m\u001b[0mself\u001b[0m\u001b[0;34m,\u001b[0m \u001b[0mX\u001b[0m\u001b[0;34m,\u001b[0m \u001b[0my\u001b[0m\u001b[0;34m=\u001b[0m\u001b[0;32mNone\u001b[0m\u001b[0;34m)\u001b[0m\u001b[0;34m:\u001b[0m\u001b[0;34m\u001b[0m\u001b[0m\n",
      "\u001b[0;32m~/anaconda3/lib/python3.6/site-packages/sklearn/preprocessing/data.py\u001b[0m in \u001b[0;36mpartial_fit\u001b[0;34m(self, X, y)\u001b[0m\n\u001b[1;32m    349\u001b[0m         X = check_array(X, copy=self.copy, warn_on_dtype=True,\n\u001b[1;32m    350\u001b[0m                         \u001b[0mestimator\u001b[0m\u001b[0;34m=\u001b[0m\u001b[0mself\u001b[0m\u001b[0;34m,\u001b[0m \u001b[0mdtype\u001b[0m\u001b[0;34m=\u001b[0m\u001b[0mFLOAT_DTYPES\u001b[0m\u001b[0;34m,\u001b[0m\u001b[0;34m\u001b[0m\u001b[0m\n\u001b[0;32m--> 351\u001b[0;31m                         force_all_finite=\"allow-nan\")\n\u001b[0m\u001b[1;32m    352\u001b[0m \u001b[0;34m\u001b[0m\u001b[0m\n\u001b[1;32m    353\u001b[0m         \u001b[0mdata_min\u001b[0m \u001b[0;34m=\u001b[0m \u001b[0mnp\u001b[0m\u001b[0;34m.\u001b[0m\u001b[0mnanmin\u001b[0m\u001b[0;34m(\u001b[0m\u001b[0mX\u001b[0m\u001b[0;34m,\u001b[0m \u001b[0maxis\u001b[0m\u001b[0;34m=\u001b[0m\u001b[0;36m0\u001b[0m\u001b[0;34m)\u001b[0m\u001b[0;34m\u001b[0m\u001b[0m\n",
      "\u001b[0;32m~/anaconda3/lib/python3.6/site-packages/sklearn/utils/validation.py\u001b[0m in \u001b[0;36mcheck_array\u001b[0;34m(array, accept_sparse, accept_large_sparse, dtype, order, copy, force_all_finite, ensure_2d, allow_nd, ensure_min_samples, ensure_min_features, warn_on_dtype, estimator)\u001b[0m\n\u001b[1;32m    525\u001b[0m             \u001b[0;32mtry\u001b[0m\u001b[0;34m:\u001b[0m\u001b[0;34m\u001b[0m\u001b[0m\n\u001b[1;32m    526\u001b[0m                 \u001b[0mwarnings\u001b[0m\u001b[0;34m.\u001b[0m\u001b[0msimplefilter\u001b[0m\u001b[0;34m(\u001b[0m\u001b[0;34m'error'\u001b[0m\u001b[0;34m,\u001b[0m \u001b[0mComplexWarning\u001b[0m\u001b[0;34m)\u001b[0m\u001b[0;34m\u001b[0m\u001b[0m\n\u001b[0;32m--> 527\u001b[0;31m                 \u001b[0marray\u001b[0m \u001b[0;34m=\u001b[0m \u001b[0mnp\u001b[0m\u001b[0;34m.\u001b[0m\u001b[0masarray\u001b[0m\u001b[0;34m(\u001b[0m\u001b[0marray\u001b[0m\u001b[0;34m,\u001b[0m \u001b[0mdtype\u001b[0m\u001b[0;34m=\u001b[0m\u001b[0mdtype\u001b[0m\u001b[0;34m,\u001b[0m \u001b[0morder\u001b[0m\u001b[0;34m=\u001b[0m\u001b[0morder\u001b[0m\u001b[0;34m)\u001b[0m\u001b[0;34m\u001b[0m\u001b[0m\n\u001b[0m\u001b[1;32m    528\u001b[0m             \u001b[0;32mexcept\u001b[0m \u001b[0mComplexWarning\u001b[0m\u001b[0;34m:\u001b[0m\u001b[0;34m\u001b[0m\u001b[0m\n\u001b[1;32m    529\u001b[0m                 raise ValueError(\"Complex data not supported\\n\"\n",
      "\u001b[0;32m~/anaconda3/lib/python3.6/site-packages/numpy/core/numeric.py\u001b[0m in \u001b[0;36masarray\u001b[0;34m(a, dtype, order)\u001b[0m\n\u001b[1;32m    529\u001b[0m \u001b[0;34m\u001b[0m\u001b[0m\n\u001b[1;32m    530\u001b[0m     \"\"\"\n\u001b[0;32m--> 531\u001b[0;31m     \u001b[0;32mreturn\u001b[0m \u001b[0marray\u001b[0m\u001b[0;34m(\u001b[0m\u001b[0ma\u001b[0m\u001b[0;34m,\u001b[0m \u001b[0mdtype\u001b[0m\u001b[0;34m,\u001b[0m \u001b[0mcopy\u001b[0m\u001b[0;34m=\u001b[0m\u001b[0;32mFalse\u001b[0m\u001b[0;34m,\u001b[0m \u001b[0morder\u001b[0m\u001b[0;34m=\u001b[0m\u001b[0morder\u001b[0m\u001b[0;34m)\u001b[0m\u001b[0;34m\u001b[0m\u001b[0m\n\u001b[0m\u001b[1;32m    532\u001b[0m \u001b[0;34m\u001b[0m\u001b[0m\n\u001b[1;32m    533\u001b[0m \u001b[0;34m\u001b[0m\u001b[0m\n",
      "\u001b[0;31mValueError\u001b[0m: could not convert string to float: 'RESPIRATORIE'"
     ]
    }
   ],
   "source": [
    "minmax_scaler = preprocessing.MinMaxScaler(feature_range=(0,1))\n",
    "data_minmax = minmax_scaler.fit_transform(combination1)"
   ]
  },
  {
   "cell_type": "code",
   "execution_count": null,
   "metadata": {
    "collapsed": true
   },
   "outputs": [],
   "source": []
  }
 ],
 "metadata": {
  "kernelspec": {
   "display_name": "Python 3",
   "language": "python",
   "name": "python3"
  },
  "language_info": {
   "codemirror_mode": {
    "name": "ipython",
    "version": 3
   },
   "file_extension": ".py",
   "mimetype": "text/x-python",
   "name": "python",
   "nbconvert_exporter": "python",
   "pygments_lexer": "ipython3",
   "version": "3.6.3"
  }
 },
 "nbformat": 4,
 "nbformat_minor": 2
}
