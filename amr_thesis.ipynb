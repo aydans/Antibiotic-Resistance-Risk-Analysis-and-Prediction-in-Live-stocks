{
 "cells": [
  {
   "cell_type": "markdown",
   "metadata": {},
   "source": [
    "# AMR RISK CLASSIFICATION IN LIVE-STOCKS"
   ]
  },
  {
   "cell_type": "markdown",
   "metadata": {},
   "source": [
    "### DATA PRE-PROCESSESING\n",
    "\n",
    "In this first notebook, the needed pre-processing has been performed in order prepare the data for the analysis."
   ]
  },
  {
   "cell_type": "code",
   "execution_count": 1,
   "metadata": {},
   "outputs": [
    {
     "name": "stderr",
     "output_type": "stream",
     "text": [
      "/Users/aydanselek/anaconda3/lib/python3.6/site-packages/matplotlib/__init__.py:1003: UserWarning: Duplicate key in file \"/Users/aydanselek/.matplotlib/matplotlibrc\", line #2\n",
      "  (fname, cnt))\n"
     ]
    }
   ],
   "source": [
    "# LIBRARIES\n",
    "\n",
    "# Basics\n",
    "import pandas as pd\n",
    "from datetime import datetime\n",
    "import numpy as np\n",
    "import matplotlib.pyplot as plt\n",
    "import math\n",
    "\n",
    "\n",
    "# Scikit learn - models\n",
    "from sklearn import metrics\n",
    "from sklearn.naive_bayes import GaussianNB\n",
    "from sklearn.neighbors import KNeighborsClassifier\n",
    "from sklearn.ensemble import RandomForestClassifier\n",
    "from sklearn.svm import SVC\n",
    "from sklearn.model_selection import train_test_split\n",
    "from sklearn.model_selection import cross_val_score\n",
    "from sklearn.linear_model import LogisticRegression # used for RFE\n",
    "from sklearn import preprocessing\n",
    "from sklearn.metrics import confusion_matrix\n",
    "\n",
    "# Scikit learn - feature engineering \n",
    "from sklearn.feature_selection import SelectKBest\n",
    "from sklearn.feature_selection import chi2\n",
    "from sklearn.feature_selection import RFE\n",
    "from sklearn.decomposition import PCA\n",
    "from sklearn.ensemble import ExtraTreesClassifier"
   ]
  },
  {
   "cell_type": "markdown",
   "metadata": {},
   "source": [
    "##### READ THE DATA"
   ]
  },
  {
   "cell_type": "markdown",
   "metadata": {},
   "source": [
    "There are 5 different datasets: 3 of them are for the AMR test results and 2 of them are for the antibitic consumption. They are collected / extracted from database in various formats and years."
   ]
  },
  {
   "cell_type": "code",
   "execution_count": 2,
   "metadata": {
    "collapsed": true
   },
   "outputs": [],
   "source": [
    "# read all test data I have\n",
    "amr_data1 = pd.read_csv(\"New_test_data.txt\", sep=\"\\t\", header=None) #2002-2015\n",
    "amr_data2 = pd.read_excel(\"AMR data.xlsx\") #2018\n",
    "amr_data3 = pd.read_excel(\"AMR data 2017.xlsx\") #2017"
   ]
  },
  {
   "cell_type": "code",
   "execution_count": 3,
   "metadata": {
    "collapsed": true
   },
   "outputs": [],
   "source": [
    "# read all consumption data I have\n",
    "consumption_data1 = pd.read_excel('consumption_2013.xlsx') #2013\n",
    "consumption_data2 = pd.read_csv('Drug Consumption data.csv') #2014-2017"
   ]
  },
  {
   "cell_type": "markdown",
   "metadata": {},
   "source": [
    "##### RENAMING THE COLUMNS AND DIMENTION REDUCTION"
   ]
  },
  {
   "cell_type": "markdown",
   "metadata": {},
   "source": [
    "It is needed to fix the same names across different datasets. This chunk of the code serves also for keeping the needed columns v.v. droping the unnecessary columns."
   ]
  },
  {
   "cell_type": "code",
   "execution_count": 4,
   "metadata": {
    "collapsed": true
   },
   "outputs": [],
   "source": [
    "# amr_data1\n",
    "amr_data1 = amr_data1.rename(index=str, columns={0: \"Year\", 6:\"Active_principle\", 7:\"Farm_ID\", 9:\"Result\", 10:\"Bacteria\", 12:\"Kind\"}) # this data was without header, renaming of columns \n",
    "amr_data1 = amr_data1[['Year', 'Active_principle', 'Farm_ID', 'Result', 'Bacteria', 'Kind']] # the columns I need\n",
    "amr_data1 = amr_data1.loc[amr_data1['Kind'].isin(['SUINO', 'SUINO - SVEZZAMENTO', 'SUINO - SOTTOSCROFA', 'SUINO - MAGRONE', 'SUINO - SCROFETTA', 'SUINO - INGRASSO', 'SUINO - SCROFA', 'SUINO - VERRO', 'SUINO DI RAZZA MORA', 'SUINO DI RAZZA CINTA SENESE'])] # Only Suino"
   ]
  },
  {
   "cell_type": "code",
   "execution_count": 5,
   "metadata": {
    "collapsed": true
   },
   "outputs": [],
   "source": [
    "# amr_data2\n",
    "amr_data2 = amr_data2.rename(index=str, columns={'AnnoConferimento': \"Year\", 'Antibiotico':\"Active_principle\", 'Codice_Allevix':\"Farm_ID\", 'Risultato':\"Result\", 'AgenteEziologico':\"Bacteria\", 'Specie':\"Kind\"}) # this data was with italian header, renaming of columns \n",
    "amr_data2 = amr_data2[['Year', 'Active_principle', 'Farm_ID', 'Result', 'Bacteria', 'Kind']] # the columns I need\n",
    "amr_data2 = amr_data2.loc[amr_data2['Kind'].isin(['SUINO', 'SUINO - SVEZZAMENTO', 'SUINO - SOTTOSCROFA', 'SUINO - MAGRONE', 'SUINO - SCROFETTA', 'SUINO - INGRASSO', 'SUINO - SCROFA'])] # Only Suino"
   ]
  },
  {
   "cell_type": "code",
   "execution_count": 6,
   "metadata": {
    "collapsed": true
   },
   "outputs": [],
   "source": [
    "# amr_data3\n",
    "amr_data3 = amr_data3.rename(index=str, columns={'AnnoConferimento': \"Year\", 'Antibiotico':\"Active_principle\", 'Codice_Allevix':\"Farm_ID\", 'Risultato':\"Result\", 'AgenteEziologico':\"Bacteria\", 'Specie':\"Kind\"}) # this data was with italian header, renaming of columns \n",
    "amr_data3 = amr_data3[['Year', 'Active_principle', 'Farm_ID', 'Result', 'Bacteria', 'Kind']] # the columns I need\n",
    "amr_data3 = amr_data3.loc[amr_data3['Kind'].isin(['SUINO', 'SUINO - SVEZZAMENTO', 'SUINO - SOTTOSCROFA', 'SUINO - MAGRONE', 'SUINO - SCROFETTA', 'SUINO - INGRASSO', 'SUINO - SCROFA', 'SUINO - VERRO'])] # Only Suino"
   ]
  },
  {
   "cell_type": "code",
   "execution_count": 7,
   "metadata": {
    "collapsed": true
   },
   "outputs": [],
   "source": [
    "# consumption_data1\n",
    "consumption_data1 = consumption_data1[['PK_Somministrazione', 'IdAllevamento', 'Year', 'CicloAperto', 'CicloChiuso', \n",
    "                     'Sito1', 'Sito3', 'TipoFarmaco', 'Target', 'PrincipioAttivo', 'PrincipioSomministratoMg',\n",
    "                     'DDDA_Mille','DCDA_Mille']] # the columns I need\n",
    "\n",
    "consumption_data1 = consumption_data1.rename(index=str, columns={'Year': \"Year\", 'PK_Somministrazione':\"PK_Somministrazione\", 'IdAllevamento':\"Farm_ID\", 'PrincipioAttivo':\"Active_principle\", 'CicloAperto': 'Open_cycle', 'CicloChiuso': 'Close_cycle', \n",
    "                     'Sito1': 'Site1', 'Sito3': 'Site3', 'TipoFarmaco': 'Type_of_medication', 'Target': 'Target', 'PrincipioSomministratoMg': 'Active_principle_mg',\n",
    "                     'DDDA_Mille': 'DDDA','DCDA_Mille': 'DCDA'}) # rename in English"
   ]
  },
  {
   "cell_type": "code",
   "execution_count": 8,
   "metadata": {
    "collapsed": true
   },
   "outputs": [],
   "source": [
    "# consumption_data2\n",
    "consumption_data2 = consumption_data2[['PK_Somministrazione', 'IdAllevamento', 'n_AnnoSomm', 'CicloAperto', 'CicloChiuso', \n",
    "                     'Sito1', 'Sito3', 'TipoFarmaco', 'Target', 'PrincipioAttivo', 'PrincipioSomministratoMg',\n",
    "                     'DDDA_Mille','DCDA_Mille']] # the columns I need\n",
    "\n",
    "consumption_data2 = consumption_data2.rename(index=str, columns={'n_AnnoSomm': \"Year\", 'PK_Somministrazione':\"PK_Somministrazione\", 'IdAllevamento':\"Farm_ID\", 'PrincipioAttivo':\"Active_principle\", 'CicloAperto': 'Open_cycle', 'CicloChiuso': 'Close_cycle', \n",
    "                     'Sito1': 'Site1', 'Sito3': 'Site3', 'TipoFarmaco': 'Type_of_medication', 'Target': 'Target', 'PrincipioSomministratoMg': 'Active_principle_mg',\n",
    "                     'DDDA_Mille': 'DDDA','DCDA_Mille': 'DCDA'}) # rename in English"
   ]
  },
  {
   "cell_type": "markdown",
   "metadata": {},
   "source": [
    "##### UPPERCASE"
   ]
  },
  {
   "cell_type": "markdown",
   "metadata": {},
   "source": [
    "All the values in string need to turn in uppercase to unify the format."
   ]
  },
  {
   "cell_type": "code",
   "execution_count": 9,
   "metadata": {
    "collapsed": true
   },
   "outputs": [],
   "source": [
    "amr_data1 = amr_data1.applymap(lambda s:s.upper() if type(s) == str else s)\n",
    "amr_data2 = amr_data2.applymap(lambda s:s.upper() if type(s) == str else s)\n",
    "amr_data3 = amr_data3.applymap(lambda s:s.upper() if type(s) == str else s)"
   ]
  },
  {
   "cell_type": "code",
   "execution_count": 10,
   "metadata": {
    "collapsed": true
   },
   "outputs": [],
   "source": [
    "consumption_data1 = consumption_data1.applymap(lambda s:s.upper() if type(s) == str else s)\n",
    "consumption_data2 = consumption_data2.applymap(lambda s:s.upper() if type(s) == str else s)"
   ]
  },
  {
   "cell_type": "markdown",
   "metadata": {},
   "source": [
    "##### # OF MISSING VALUES"
   ]
  },
  {
   "cell_type": "code",
   "execution_count": 11,
   "metadata": {},
   "outputs": [
    {
     "data": {
      "text/plain": [
       "Year                0\n",
       "Active_principle    0\n",
       "Farm_ID             0\n",
       "Result              0\n",
       "Bacteria            0\n",
       "Kind                0\n",
       "dtype: int64"
      ]
     },
     "execution_count": 11,
     "metadata": {},
     "output_type": "execute_result"
    }
   ],
   "source": [
    "amr_data1.isnull().sum()"
   ]
  },
  {
   "cell_type": "code",
   "execution_count": 12,
   "metadata": {},
   "outputs": [
    {
     "data": {
      "text/plain": [
       "Year                0\n",
       "Active_principle    0\n",
       "Farm_ID             0\n",
       "Result              0\n",
       "Bacteria            0\n",
       "Kind                0\n",
       "dtype: int64"
      ]
     },
     "execution_count": 12,
     "metadata": {},
     "output_type": "execute_result"
    }
   ],
   "source": [
    "amr_data2.isnull().sum()"
   ]
  },
  {
   "cell_type": "code",
   "execution_count": 13,
   "metadata": {},
   "outputs": [
    {
     "data": {
      "text/plain": [
       "Year                   0\n",
       "Active_principle       0\n",
       "Farm_ID             3541\n",
       "Result                 0\n",
       "Bacteria               0\n",
       "Kind                   0\n",
       "dtype: int64"
      ]
     },
     "execution_count": 13,
     "metadata": {},
     "output_type": "execute_result"
    }
   ],
   "source": [
    "amr_data3.isnull().sum()"
   ]
  },
  {
   "cell_type": "code",
   "execution_count": 14,
   "metadata": {},
   "outputs": [
    {
     "data": {
      "text/plain": [
       "PK_Somministrazione      0\n",
       "Farm_ID                  0\n",
       "Year                     0\n",
       "Open_cycle               0\n",
       "Close_cycle              0\n",
       "Site1                    0\n",
       "Site3                    0\n",
       "Type_of_medication       0\n",
       "Target                   1\n",
       "Active_principle         0\n",
       "Active_principle_mg      0\n",
       "DDDA                   816\n",
       "DCDA                   816\n",
       "dtype: int64"
      ]
     },
     "execution_count": 14,
     "metadata": {},
     "output_type": "execute_result"
    }
   ],
   "source": [
    "consumption_data1.isnull().sum()"
   ]
  },
  {
   "cell_type": "code",
   "execution_count": 15,
   "metadata": {},
   "outputs": [
    {
     "data": {
      "text/plain": [
       "PK_Somministrazione    0\n",
       "Farm_ID                0\n",
       "Year                   0\n",
       "Open_cycle             0\n",
       "Close_cycle            0\n",
       "Site1                  0\n",
       "Site3                  0\n",
       "Type_of_medication     0\n",
       "Target                 0\n",
       "Active_principle       0\n",
       "Active_principle_mg    0\n",
       "DDDA                   0\n",
       "DCDA                   0\n",
       "dtype: int64"
      ]
     },
     "execution_count": 15,
     "metadata": {},
     "output_type": "execute_result"
    }
   ],
   "source": [
    "consumption_data2.isnull().sum()"
   ]
  },
  {
   "cell_type": "markdown",
   "metadata": {},
   "source": [
    "##### # OF ACTIVE PRINCIPLE (FOR INFORMATION)"
   ]
  },
  {
   "cell_type": "code",
   "execution_count": 16,
   "metadata": {},
   "outputs": [
    {
     "data": {
      "text/plain": [
       "94"
      ]
     },
     "execution_count": 16,
     "metadata": {},
     "output_type": "execute_result"
    }
   ],
   "source": [
    "len(amr_data1.Active_principle.unique())"
   ]
  },
  {
   "cell_type": "code",
   "execution_count": 17,
   "metadata": {},
   "outputs": [
    {
     "data": {
      "text/plain": [
       "49"
      ]
     },
     "execution_count": 17,
     "metadata": {},
     "output_type": "execute_result"
    }
   ],
   "source": [
    "len(amr_data2.Active_principle.unique())"
   ]
  },
  {
   "cell_type": "code",
   "execution_count": 18,
   "metadata": {},
   "outputs": [
    {
     "data": {
      "text/plain": [
       "60"
      ]
     },
     "execution_count": 18,
     "metadata": {},
     "output_type": "execute_result"
    }
   ],
   "source": [
    "len(amr_data3.Active_principle.unique())"
   ]
  },
  {
   "cell_type": "code",
   "execution_count": 19,
   "metadata": {},
   "outputs": [
    {
     "data": {
      "text/plain": [
       "36"
      ]
     },
     "execution_count": 19,
     "metadata": {},
     "output_type": "execute_result"
    }
   ],
   "source": [
    "len(consumption_data1.Active_principle.unique())"
   ]
  },
  {
   "cell_type": "code",
   "execution_count": 20,
   "metadata": {},
   "outputs": [
    {
     "data": {
      "text/plain": [
       "44"
      ]
     },
     "execution_count": 20,
     "metadata": {},
     "output_type": "execute_result"
    }
   ],
   "source": [
    "len(consumption_data2.Active_principle.unique())"
   ]
  },
  {
   "cell_type": "markdown",
   "metadata": {},
   "source": [
    "##### # OF BACTERIA (FOR INFORMATION)"
   ]
  },
  {
   "cell_type": "code",
   "execution_count": 21,
   "metadata": {},
   "outputs": [
    {
     "data": {
      "text/plain": [
       "171"
      ]
     },
     "execution_count": 21,
     "metadata": {},
     "output_type": "execute_result"
    }
   ],
   "source": [
    "len(amr_data1.Bacteria.unique())"
   ]
  },
  {
   "cell_type": "code",
   "execution_count": 22,
   "metadata": {},
   "outputs": [
    {
     "data": {
      "text/plain": [
       "44"
      ]
     },
     "execution_count": 22,
     "metadata": {},
     "output_type": "execute_result"
    }
   ],
   "source": [
    "len(amr_data2.Bacteria.unique())"
   ]
  },
  {
   "cell_type": "code",
   "execution_count": 23,
   "metadata": {},
   "outputs": [
    {
     "data": {
      "text/plain": [
       "56"
      ]
     },
     "execution_count": 23,
     "metadata": {},
     "output_type": "execute_result"
    }
   ],
   "source": [
    "len(amr_data3.Bacteria.unique())"
   ]
  },
  {
   "cell_type": "markdown",
   "metadata": {},
   "source": [
    "##### # OF FARM (FOR INFORMATION)"
   ]
  },
  {
   "cell_type": "code",
   "execution_count": 24,
   "metadata": {},
   "outputs": [
    {
     "data": {
      "text/plain": [
       "3053"
      ]
     },
     "execution_count": 24,
     "metadata": {},
     "output_type": "execute_result"
    }
   ],
   "source": [
    "len(amr_data1.Farm_ID.unique())"
   ]
  },
  {
   "cell_type": "code",
   "execution_count": 25,
   "metadata": {},
   "outputs": [
    {
     "data": {
      "text/plain": [
       "779"
      ]
     },
     "execution_count": 25,
     "metadata": {},
     "output_type": "execute_result"
    }
   ],
   "source": [
    "len(amr_data2.Farm_ID.unique())"
   ]
  },
  {
   "cell_type": "code",
   "execution_count": 26,
   "metadata": {},
   "outputs": [
    {
     "data": {
      "text/plain": [
       "827"
      ]
     },
     "execution_count": 26,
     "metadata": {},
     "output_type": "execute_result"
    }
   ],
   "source": [
    "len(amr_data3.Farm_ID.unique())"
   ]
  },
  {
   "cell_type": "code",
   "execution_count": 27,
   "metadata": {},
   "outputs": [
    {
     "data": {
      "text/plain": [
       "135"
      ]
     },
     "execution_count": 27,
     "metadata": {},
     "output_type": "execute_result"
    }
   ],
   "source": [
    "len(consumption_data1.Farm_ID.unique())"
   ]
  },
  {
   "cell_type": "code",
   "execution_count": 28,
   "metadata": {},
   "outputs": [
    {
     "data": {
      "text/plain": [
       "430"
      ]
     },
     "execution_count": 28,
     "metadata": {},
     "output_type": "execute_result"
    }
   ],
   "source": [
    "len(consumption_data2.Farm_ID.unique())"
   ]
  },
  {
   "cell_type": "markdown",
   "metadata": {},
   "source": [
    "##### MERGING ALL THE AMR TEST DATA AND THE CONSUMPTION DATA"
   ]
  },
  {
   "cell_type": "markdown",
   "metadata": {},
   "source": [
    "The AMR test results data and the antibiotic consumption data can be merged in two datesets."
   ]
  },
  {
   "cell_type": "code",
   "execution_count": 29,
   "metadata": {
    "collapsed": true
   },
   "outputs": [],
   "source": [
    "frames = [amr_data1, amr_data2, amr_data3]\n",
    "amr_data = pd.concat(frames, ignore_index=True)"
   ]
  },
  {
   "cell_type": "code",
   "execution_count": 30,
   "metadata": {},
   "outputs": [
    {
     "data": {
      "text/html": [
       "<div>\n",
       "<style>\n",
       "    .dataframe thead tr:only-child th {\n",
       "        text-align: right;\n",
       "    }\n",
       "\n",
       "    .dataframe thead th {\n",
       "        text-align: left;\n",
       "    }\n",
       "\n",
       "    .dataframe tbody tr th {\n",
       "        vertical-align: top;\n",
       "    }\n",
       "</style>\n",
       "<table border=\"1\" class=\"dataframe\">\n",
       "  <thead>\n",
       "    <tr style=\"text-align: right;\">\n",
       "      <th></th>\n",
       "      <th>Year</th>\n",
       "      <th>Active_principle</th>\n",
       "      <th>Farm_ID</th>\n",
       "      <th>Result</th>\n",
       "      <th>Bacteria</th>\n",
       "      <th>Kind</th>\n",
       "    </tr>\n",
       "  </thead>\n",
       "  <tbody>\n",
       "    <tr>\n",
       "      <th>0</th>\n",
       "      <td>2013</td>\n",
       "      <td>AMINOSIDINA</td>\n",
       "      <td>000EX000</td>\n",
       "      <td>RESISTENTE</td>\n",
       "      <td>ESCHERICHIA COLI EMOLITICO</td>\n",
       "      <td>SUINO</td>\n",
       "    </tr>\n",
       "    <tr>\n",
       "      <th>1</th>\n",
       "      <td>2013</td>\n",
       "      <td>APRAMICINA</td>\n",
       "      <td>000EX000</td>\n",
       "      <td>RESISTENTE</td>\n",
       "      <td>ESCHERICHIA COLI EMOLITICO</td>\n",
       "      <td>SUINO</td>\n",
       "    </tr>\n",
       "    <tr>\n",
       "      <th>2</th>\n",
       "      <td>2013</td>\n",
       "      <td>CEFQUINOME</td>\n",
       "      <td>000EX000</td>\n",
       "      <td>SENSIBILE</td>\n",
       "      <td>ESCHERICHIA COLI EMOLITICO</td>\n",
       "      <td>SUINO</td>\n",
       "    </tr>\n",
       "    <tr>\n",
       "      <th>3</th>\n",
       "      <td>2013</td>\n",
       "      <td>CEFTIOFUR</td>\n",
       "      <td>000EX000</td>\n",
       "      <td>SENSIBILE</td>\n",
       "      <td>ESCHERICHIA COLI EMOLITICO</td>\n",
       "      <td>SUINO</td>\n",
       "    </tr>\n",
       "    <tr>\n",
       "      <th>4</th>\n",
       "      <td>2013</td>\n",
       "      <td>COLISTINA</td>\n",
       "      <td>000EX000</td>\n",
       "      <td>SENSIBILE</td>\n",
       "      <td>ESCHERICHIA COLI EMOLITICO</td>\n",
       "      <td>SUINO</td>\n",
       "    </tr>\n",
       "  </tbody>\n",
       "</table>\n",
       "</div>"
      ],
      "text/plain": [
       "   Year Active_principle   Farm_ID      Result                    Bacteria  \\\n",
       "0  2013      AMINOSIDINA  000EX000  RESISTENTE  ESCHERICHIA COLI EMOLITICO   \n",
       "1  2013       APRAMICINA  000EX000  RESISTENTE  ESCHERICHIA COLI EMOLITICO   \n",
       "2  2013       CEFQUINOME  000EX000   SENSIBILE  ESCHERICHIA COLI EMOLITICO   \n",
       "3  2013        CEFTIOFUR  000EX000   SENSIBILE  ESCHERICHIA COLI EMOLITICO   \n",
       "4  2013        COLISTINA  000EX000   SENSIBILE  ESCHERICHIA COLI EMOLITICO   \n",
       "\n",
       "    Kind  \n",
       "0  SUINO  \n",
       "1  SUINO  \n",
       "2  SUINO  \n",
       "3  SUINO  \n",
       "4  SUINO  "
      ]
     },
     "execution_count": 30,
     "metadata": {},
     "output_type": "execute_result"
    }
   ],
   "source": [
    "amr_data.head()"
   ]
  },
  {
   "cell_type": "code",
   "execution_count": 31,
   "metadata": {
    "collapsed": true
   },
   "outputs": [],
   "source": [
    "frames2 = [consumption_data1, consumption_data2]\n",
    "consumption_data = pd.concat(frames2, ignore_index=True)"
   ]
  },
  {
   "cell_type": "code",
   "execution_count": 32,
   "metadata": {},
   "outputs": [
    {
     "data": {
      "text/html": [
       "<div>\n",
       "<style>\n",
       "    .dataframe thead tr:only-child th {\n",
       "        text-align: right;\n",
       "    }\n",
       "\n",
       "    .dataframe thead th {\n",
       "        text-align: left;\n",
       "    }\n",
       "\n",
       "    .dataframe tbody tr th {\n",
       "        vertical-align: top;\n",
       "    }\n",
       "</style>\n",
       "<table border=\"1\" class=\"dataframe\">\n",
       "  <thead>\n",
       "    <tr style=\"text-align: right;\">\n",
       "      <th></th>\n",
       "      <th>PK_Somministrazione</th>\n",
       "      <th>Farm_ID</th>\n",
       "      <th>Year</th>\n",
       "      <th>Open_cycle</th>\n",
       "      <th>Close_cycle</th>\n",
       "      <th>Site1</th>\n",
       "      <th>Site3</th>\n",
       "      <th>Type_of_medication</th>\n",
       "      <th>Target</th>\n",
       "      <th>Active_principle</th>\n",
       "      <th>Active_principle_mg</th>\n",
       "      <th>DDDA</th>\n",
       "      <th>DCDA</th>\n",
       "    </tr>\n",
       "  </thead>\n",
       "  <tbody>\n",
       "    <tr>\n",
       "      <th>0</th>\n",
       "      <td>327</td>\n",
       "      <td>001MN006</td>\n",
       "      <td>2013</td>\n",
       "      <td>0</td>\n",
       "      <td>0</td>\n",
       "      <td>0</td>\n",
       "      <td>0</td>\n",
       "      <td>INJ</td>\n",
       "      <td>---</td>\n",
       "      <td>AMPICILLIN</td>\n",
       "      <td>23825.0</td>\n",
       "      <td>2500.00</td>\n",
       "      <td>1250.00</td>\n",
       "    </tr>\n",
       "    <tr>\n",
       "      <th>1</th>\n",
       "      <td>327</td>\n",
       "      <td>001MN006</td>\n",
       "      <td>2013</td>\n",
       "      <td>0</td>\n",
       "      <td>0</td>\n",
       "      <td>0</td>\n",
       "      <td>0</td>\n",
       "      <td>INJ</td>\n",
       "      <td>---</td>\n",
       "      <td>DICLOXACILLIN</td>\n",
       "      <td>11950.0</td>\n",
       "      <td>2500.00</td>\n",
       "      <td>1250.00</td>\n",
       "    </tr>\n",
       "    <tr>\n",
       "      <th>2</th>\n",
       "      <td>328</td>\n",
       "      <td>001MN006</td>\n",
       "      <td>2013</td>\n",
       "      <td>0</td>\n",
       "      <td>0</td>\n",
       "      <td>0</td>\n",
       "      <td>0</td>\n",
       "      <td>ORAL POWD</td>\n",
       "      <td>---</td>\n",
       "      <td>DOXYCYCLINE</td>\n",
       "      <td>1000000.0</td>\n",
       "      <td>100000.00</td>\n",
       "      <td>20000.00</td>\n",
       "    </tr>\n",
       "    <tr>\n",
       "      <th>3</th>\n",
       "      <td>329</td>\n",
       "      <td>001MN006</td>\n",
       "      <td>2013</td>\n",
       "      <td>0</td>\n",
       "      <td>0</td>\n",
       "      <td>0</td>\n",
       "      <td>0</td>\n",
       "      <td>INJ</td>\n",
       "      <td>---</td>\n",
       "      <td>FLORFENICOL</td>\n",
       "      <td>75000.0</td>\n",
       "      <td>10000.00</td>\n",
       "      <td>2500.00</td>\n",
       "    </tr>\n",
       "    <tr>\n",
       "      <th>4</th>\n",
       "      <td>330</td>\n",
       "      <td>001MN006</td>\n",
       "      <td>2013</td>\n",
       "      <td>0</td>\n",
       "      <td>0</td>\n",
       "      <td>0</td>\n",
       "      <td>0</td>\n",
       "      <td>PREMIX</td>\n",
       "      <td>---</td>\n",
       "      <td>COLISTIN</td>\n",
       "      <td>1440000.0</td>\n",
       "      <td>261818.18</td>\n",
       "      <td>29090.91</td>\n",
       "    </tr>\n",
       "  </tbody>\n",
       "</table>\n",
       "</div>"
      ],
      "text/plain": [
       "   PK_Somministrazione   Farm_ID  Year  Open_cycle  Close_cycle  Site1  Site3  \\\n",
       "0                  327  001MN006  2013           0            0      0      0   \n",
       "1                  327  001MN006  2013           0            0      0      0   \n",
       "2                  328  001MN006  2013           0            0      0      0   \n",
       "3                  329  001MN006  2013           0            0      0      0   \n",
       "4                  330  001MN006  2013           0            0      0      0   \n",
       "\n",
       "  Type_of_medication Target Active_principle  Active_principle_mg       DDDA  \\\n",
       "0                INJ    ---       AMPICILLIN              23825.0    2500.00   \n",
       "1                INJ    ---    DICLOXACILLIN              11950.0    2500.00   \n",
       "2          ORAL POWD    ---      DOXYCYCLINE            1000000.0  100000.00   \n",
       "3                INJ    ---      FLORFENICOL              75000.0   10000.00   \n",
       "4             PREMIX    ---         COLISTIN            1440000.0  261818.18   \n",
       "\n",
       "       DCDA  \n",
       "0   1250.00  \n",
       "1   1250.00  \n",
       "2  20000.00  \n",
       "3   2500.00  \n",
       "4  29090.91  "
      ]
     },
     "execution_count": 32,
     "metadata": {},
     "output_type": "execute_result"
    }
   ],
   "source": [
    "consumption_data.head()"
   ]
  },
  {
   "cell_type": "markdown",
   "metadata": {},
   "source": [
    "##### ACTIVE PRINCIPLE CLEANING"
   ]
  },
  {
   "cell_type": "markdown",
   "metadata": {},
   "source": [
    "The amr_data has some problems for the active principle which cannot be solvable in an automated manner. Some of the active principle are in Italian language, some of them are in English language. There are typos which is not easy to understand typo of which language. More over there are some active principle which are translated not in a proper way. \n",
    "Because of these problems I collected all unique values of \"Active Principle\" to create a mapping excel with right names. This will let me compare the active principle across the datasets.\n",
    "More over, I added to this excel another column where I classified the importance of the active priciples, such as;\n",
    "1 - VCIA: Veterinary Critically Important Antimicrobials \n",
    "2 - VHIA: Veterinary Highly Important Antimicrobials \n",
    "3 - VIA: Veterinary Important Antimicrobials"
   ]
  },
  {
   "cell_type": "code",
   "execution_count": 33,
   "metadata": {
    "collapsed": true
   },
   "outputs": [],
   "source": [
    "active_principle_info = pd.read_excel(\"Active_principle_map.xlsx\")"
   ]
  },
  {
   "cell_type": "code",
   "execution_count": 34,
   "metadata": {},
   "outputs": [
    {
     "data": {
      "text/html": [
       "<div>\n",
       "<style>\n",
       "    .dataframe thead tr:only-child th {\n",
       "        text-align: right;\n",
       "    }\n",
       "\n",
       "    .dataframe thead th {\n",
       "        text-align: left;\n",
       "    }\n",
       "\n",
       "    .dataframe tbody tr th {\n",
       "        vertical-align: top;\n",
       "    }\n",
       "</style>\n",
       "<table border=\"1\" class=\"dataframe\">\n",
       "  <thead>\n",
       "    <tr style=\"text-align: right;\">\n",
       "      <th></th>\n",
       "      <th>Active_principle</th>\n",
       "      <th>English_name</th>\n",
       "      <th>Value</th>\n",
       "    </tr>\n",
       "  </thead>\n",
       "  <tbody>\n",
       "    <tr>\n",
       "      <th>0</th>\n",
       "      <td>ACIDO FUSIDICO</td>\n",
       "      <td>FUSIDIC ACID</td>\n",
       "      <td>3.0</td>\n",
       "    </tr>\n",
       "    <tr>\n",
       "      <th>1</th>\n",
       "      <td>ACIDO NALIDIXICO</td>\n",
       "      <td>NALIDIXIC ACID</td>\n",
       "      <td>2.0</td>\n",
       "    </tr>\n",
       "    <tr>\n",
       "      <th>2</th>\n",
       "      <td>ACIDO OXOLINICO</td>\n",
       "      <td>OXOLINIC ACID</td>\n",
       "      <td>2.0</td>\n",
       "    </tr>\n",
       "    <tr>\n",
       "      <th>3</th>\n",
       "      <td>AMIKACINA</td>\n",
       "      <td>AMIKACIN</td>\n",
       "      <td>1.0</td>\n",
       "    </tr>\n",
       "    <tr>\n",
       "      <th>4</th>\n",
       "      <td>AMINOSIDINA</td>\n",
       "      <td>PAROMOMYCIN</td>\n",
       "      <td>1.0</td>\n",
       "    </tr>\n",
       "    <tr>\n",
       "      <th>5</th>\n",
       "      <td>AMOXICILLIN</td>\n",
       "      <td>AMOXICILLIN</td>\n",
       "      <td>1.0</td>\n",
       "    </tr>\n",
       "    <tr>\n",
       "      <th>6</th>\n",
       "      <td>AMOXICILLINA</td>\n",
       "      <td>AMOXICILLIN</td>\n",
       "      <td>1.0</td>\n",
       "    </tr>\n",
       "    <tr>\n",
       "      <th>7</th>\n",
       "      <td>AMOXICILLINA + AC.CLAVULANICO</td>\n",
       "      <td>AMOXICILLIN + CLAVULANIC ACID</td>\n",
       "      <td>1.0</td>\n",
       "    </tr>\n",
       "    <tr>\n",
       "      <th>8</th>\n",
       "      <td>AMOXICILLINA + COLISTINA</td>\n",
       "      <td>AMOXICILLIN + COLISTIN</td>\n",
       "      <td>NaN</td>\n",
       "    </tr>\n",
       "    <tr>\n",
       "      <th>9</th>\n",
       "      <td>AMPICILLIN</td>\n",
       "      <td>AMPICILLIN</td>\n",
       "      <td>1.0</td>\n",
       "    </tr>\n",
       "    <tr>\n",
       "      <th>10</th>\n",
       "      <td>AMPICILLINA</td>\n",
       "      <td>AMPICILLIN</td>\n",
       "      <td>1.0</td>\n",
       "    </tr>\n",
       "    <tr>\n",
       "      <th>11</th>\n",
       "      <td>AMPICILLINA + DICLOXACILLINA</td>\n",
       "      <td>AMPICILLIN + DICLOXACILLIN</td>\n",
       "      <td>NaN</td>\n",
       "    </tr>\n",
       "    <tr>\n",
       "      <th>12</th>\n",
       "      <td>APRAMICINA</td>\n",
       "      <td>APRAMYCIN</td>\n",
       "      <td>1.0</td>\n",
       "    </tr>\n",
       "    <tr>\n",
       "      <th>13</th>\n",
       "      <td>APRAMYCIN</td>\n",
       "      <td>APRAMYCIN</td>\n",
       "      <td>1.0</td>\n",
       "    </tr>\n",
       "    <tr>\n",
       "      <th>14</th>\n",
       "      <td>BACITRACINA</td>\n",
       "      <td>BACITRACIN</td>\n",
       "      <td>2.0</td>\n",
       "    </tr>\n",
       "    <tr>\n",
       "      <th>15</th>\n",
       "      <td>BENZYLPENICILLIN</td>\n",
       "      <td>BENZYLPENICILLIN</td>\n",
       "      <td>1.0</td>\n",
       "    </tr>\n",
       "    <tr>\n",
       "      <th>16</th>\n",
       "      <td>CEFACETRILE</td>\n",
       "      <td>CEFACETRILE</td>\n",
       "      <td>2.0</td>\n",
       "    </tr>\n",
       "    <tr>\n",
       "      <th>17</th>\n",
       "      <td>CEFACETRILE + RIFAXIMINA</td>\n",
       "      <td>CEFACETRILE + RIFAXIMIN</td>\n",
       "      <td>NaN</td>\n",
       "    </tr>\n",
       "    <tr>\n",
       "      <th>18</th>\n",
       "      <td>CEFADROXIL</td>\n",
       "      <td>CEFADROXIL</td>\n",
       "      <td>NaN</td>\n",
       "    </tr>\n",
       "    <tr>\n",
       "      <th>19</th>\n",
       "      <td>CEFALEXINA</td>\n",
       "      <td>CEFALEXIN</td>\n",
       "      <td>2.0</td>\n",
       "    </tr>\n",
       "    <tr>\n",
       "      <th>20</th>\n",
       "      <td>CEFALEXINA + KANAMICINA</td>\n",
       "      <td>CEFALEXIN + KANAMYCIN</td>\n",
       "      <td>NaN</td>\n",
       "    </tr>\n",
       "    <tr>\n",
       "      <th>21</th>\n",
       "      <td>CEFALONIO</td>\n",
       "      <td>CEFALONIUM</td>\n",
       "      <td>2.0</td>\n",
       "    </tr>\n",
       "    <tr>\n",
       "      <th>22</th>\n",
       "      <td>CEFALORIDINA</td>\n",
       "      <td>CEPHALORIDINA</td>\n",
       "      <td>NaN</td>\n",
       "    </tr>\n",
       "    <tr>\n",
       "      <th>23</th>\n",
       "      <td>CEFALOSPORINE DI 1.A GENERAZIONE</td>\n",
       "      <td>CEPHALOSPORIN</td>\n",
       "      <td>NaN</td>\n",
       "    </tr>\n",
       "    <tr>\n",
       "      <th>24</th>\n",
       "      <td>CEFALOSPORINE DI 3.A GENERAZIONE</td>\n",
       "      <td>CEPHALOSPORIN</td>\n",
       "      <td>NaN</td>\n",
       "    </tr>\n",
       "    <tr>\n",
       "      <th>25</th>\n",
       "      <td>CEFALOSPORINE DI 4.A GENERAZIONE</td>\n",
       "      <td>CEPHALOSPORIN</td>\n",
       "      <td>NaN</td>\n",
       "    </tr>\n",
       "    <tr>\n",
       "      <th>26</th>\n",
       "      <td>CEFALOTINA</td>\n",
       "      <td>CEFALOTIN</td>\n",
       "      <td>2.0</td>\n",
       "    </tr>\n",
       "    <tr>\n",
       "      <th>27</th>\n",
       "      <td>CEFAPIRINA</td>\n",
       "      <td>CEFAPYRIN</td>\n",
       "      <td>2.0</td>\n",
       "    </tr>\n",
       "    <tr>\n",
       "      <th>28</th>\n",
       "      <td>CEFAZOLINA</td>\n",
       "      <td>CEFAZOLIN</td>\n",
       "      <td>2.0</td>\n",
       "    </tr>\n",
       "    <tr>\n",
       "      <th>29</th>\n",
       "      <td>CEFOPERAZONE</td>\n",
       "      <td>CEFOPERAZONE</td>\n",
       "      <td>1.0</td>\n",
       "    </tr>\n",
       "    <tr>\n",
       "      <th>...</th>\n",
       "      <td>...</td>\n",
       "      <td>...</td>\n",
       "      <td>...</td>\n",
       "    </tr>\n",
       "    <tr>\n",
       "      <th>112</th>\n",
       "      <td>SULFAMERAZINE</td>\n",
       "      <td>SULFAMERAZINE</td>\n",
       "      <td>NaN</td>\n",
       "    </tr>\n",
       "    <tr>\n",
       "      <th>113</th>\n",
       "      <td>SULFAMETAZINA</td>\n",
       "      <td>SULFADIMIDINE</td>\n",
       "      <td>1.0</td>\n",
       "    </tr>\n",
       "    <tr>\n",
       "      <th>114</th>\n",
       "      <td>SULFAMETHOXAZOLE</td>\n",
       "      <td>SULFAMETHOXAZOLE</td>\n",
       "      <td>NaN</td>\n",
       "    </tr>\n",
       "    <tr>\n",
       "      <th>115</th>\n",
       "      <td>SULFAMETIZOLO</td>\n",
       "      <td>SULFAMETHIZOLE</td>\n",
       "      <td>NaN</td>\n",
       "    </tr>\n",
       "    <tr>\n",
       "      <th>116</th>\n",
       "      <td>SULFAMETOSSAZOLO</td>\n",
       "      <td>SULFAMETHOXAZOLE</td>\n",
       "      <td>NaN</td>\n",
       "    </tr>\n",
       "    <tr>\n",
       "      <th>117</th>\n",
       "      <td>SULFAMETOXAZOLO</td>\n",
       "      <td>SULFAMETHOXAZOLE</td>\n",
       "      <td>NaN</td>\n",
       "    </tr>\n",
       "    <tr>\n",
       "      <th>118</th>\n",
       "      <td>SULFAMONOMETHOXINE</td>\n",
       "      <td>SULFAMONOMETHOXINE</td>\n",
       "      <td>1.0</td>\n",
       "    </tr>\n",
       "    <tr>\n",
       "      <th>119</th>\n",
       "      <td>SULFISOXAZOLO</td>\n",
       "      <td>SULFAFURAZOLE</td>\n",
       "      <td>1.0</td>\n",
       "    </tr>\n",
       "    <tr>\n",
       "      <th>120</th>\n",
       "      <td>SULFONAMIDI</td>\n",
       "      <td>SULFONAMIDE</td>\n",
       "      <td>NaN</td>\n",
       "    </tr>\n",
       "    <tr>\n",
       "      <th>121</th>\n",
       "      <td>TETRACICLINA</td>\n",
       "      <td>TETRACYCLINE</td>\n",
       "      <td>1.0</td>\n",
       "    </tr>\n",
       "    <tr>\n",
       "      <th>122</th>\n",
       "      <td>THIAMPHENICOL</td>\n",
       "      <td>THIAMPHENICOL</td>\n",
       "      <td>1.0</td>\n",
       "    </tr>\n",
       "    <tr>\n",
       "      <th>123</th>\n",
       "      <td>TIAMFENICOLO</td>\n",
       "      <td>THIAMPHENICOL</td>\n",
       "      <td>1.0</td>\n",
       "    </tr>\n",
       "    <tr>\n",
       "      <th>124</th>\n",
       "      <td>TIAMULIN</td>\n",
       "      <td>TIAMULIN</td>\n",
       "      <td>2.0</td>\n",
       "    </tr>\n",
       "    <tr>\n",
       "      <th>125</th>\n",
       "      <td>TIAMULINA</td>\n",
       "      <td>TIAMULIN</td>\n",
       "      <td>2.0</td>\n",
       "    </tr>\n",
       "    <tr>\n",
       "      <th>126</th>\n",
       "      <td>TILDIPIROSIN</td>\n",
       "      <td>TILDIPIROSIN</td>\n",
       "      <td>1.0</td>\n",
       "    </tr>\n",
       "    <tr>\n",
       "      <th>127</th>\n",
       "      <td>TILDIPIROSINA</td>\n",
       "      <td>TILDIPIROSIN</td>\n",
       "      <td>1.0</td>\n",
       "    </tr>\n",
       "    <tr>\n",
       "      <th>128</th>\n",
       "      <td>TILMICOSIN</td>\n",
       "      <td>TILMICOSIN</td>\n",
       "      <td>1.0</td>\n",
       "    </tr>\n",
       "    <tr>\n",
       "      <th>129</th>\n",
       "      <td>TILMICOSINA</td>\n",
       "      <td>TILMICOSIN</td>\n",
       "      <td>1.0</td>\n",
       "    </tr>\n",
       "    <tr>\n",
       "      <th>130</th>\n",
       "      <td>TILOSINA</td>\n",
       "      <td>TYLOSIN</td>\n",
       "      <td>1.0</td>\n",
       "    </tr>\n",
       "    <tr>\n",
       "      <th>131</th>\n",
       "      <td>TILVALOSINA</td>\n",
       "      <td>TYLVALOSIN</td>\n",
       "      <td>1.0</td>\n",
       "    </tr>\n",
       "    <tr>\n",
       "      <th>132</th>\n",
       "      <td>TOBRAMICINA</td>\n",
       "      <td>TOBRAMYCIN</td>\n",
       "      <td>1.0</td>\n",
       "    </tr>\n",
       "    <tr>\n",
       "      <th>133</th>\n",
       "      <td>TRIMETHOPRIM</td>\n",
       "      <td>TRIMETHOPRIM</td>\n",
       "      <td>1.0</td>\n",
       "    </tr>\n",
       "    <tr>\n",
       "      <th>134</th>\n",
       "      <td>TRIMETOPRIM</td>\n",
       "      <td>TRIMETHOPRIM</td>\n",
       "      <td>1.0</td>\n",
       "    </tr>\n",
       "    <tr>\n",
       "      <th>135</th>\n",
       "      <td>TRIMETOPRIM + SULFONAMIDI</td>\n",
       "      <td>TRIMETHOPRIM + SULFONAMIDE</td>\n",
       "      <td>1.0</td>\n",
       "    </tr>\n",
       "    <tr>\n",
       "      <th>136</th>\n",
       "      <td>TULATHROMYCIN</td>\n",
       "      <td>TULATHROMYCIN</td>\n",
       "      <td>1.0</td>\n",
       "    </tr>\n",
       "    <tr>\n",
       "      <th>137</th>\n",
       "      <td>TULATROMICINA</td>\n",
       "      <td>TULATHROMYCIN</td>\n",
       "      <td>1.0</td>\n",
       "    </tr>\n",
       "    <tr>\n",
       "      <th>138</th>\n",
       "      <td>TYLOSIN</td>\n",
       "      <td>TYLOSIN</td>\n",
       "      <td>1.0</td>\n",
       "    </tr>\n",
       "    <tr>\n",
       "      <th>139</th>\n",
       "      <td>TYLVALOSIN</td>\n",
       "      <td>TYLVALOSIN</td>\n",
       "      <td>1.0</td>\n",
       "    </tr>\n",
       "    <tr>\n",
       "      <th>140</th>\n",
       "      <td>VALNEMULINA</td>\n",
       "      <td>VALNEMULIN</td>\n",
       "      <td>2.0</td>\n",
       "    </tr>\n",
       "    <tr>\n",
       "      <th>141</th>\n",
       "      <td>VANCOMICINA</td>\n",
       "      <td>VANCOMYCIN</td>\n",
       "      <td>NaN</td>\n",
       "    </tr>\n",
       "  </tbody>\n",
       "</table>\n",
       "<p>142 rows × 3 columns</p>\n",
       "</div>"
      ],
      "text/plain": [
       "                     Active_principle                   English_name  Value\n",
       "0                      ACIDO FUSIDICO                   FUSIDIC ACID    3.0\n",
       "1                    ACIDO NALIDIXICO                 NALIDIXIC ACID    2.0\n",
       "2                     ACIDO OXOLINICO                  OXOLINIC ACID    2.0\n",
       "3                           AMIKACINA                       AMIKACIN    1.0\n",
       "4                         AMINOSIDINA                    PAROMOMYCIN    1.0\n",
       "5                         AMOXICILLIN                    AMOXICILLIN    1.0\n",
       "6                        AMOXICILLINA                    AMOXICILLIN    1.0\n",
       "7       AMOXICILLINA + AC.CLAVULANICO  AMOXICILLIN + CLAVULANIC ACID    1.0\n",
       "8            AMOXICILLINA + COLISTINA         AMOXICILLIN + COLISTIN    NaN\n",
       "9                          AMPICILLIN                     AMPICILLIN    1.0\n",
       "10                        AMPICILLINA                     AMPICILLIN    1.0\n",
       "11       AMPICILLINA + DICLOXACILLINA     AMPICILLIN + DICLOXACILLIN    NaN\n",
       "12                         APRAMICINA                      APRAMYCIN    1.0\n",
       "13                          APRAMYCIN                      APRAMYCIN    1.0\n",
       "14                        BACITRACINA                     BACITRACIN    2.0\n",
       "15                   BENZYLPENICILLIN               BENZYLPENICILLIN    1.0\n",
       "16                        CEFACETRILE                    CEFACETRILE    2.0\n",
       "17           CEFACETRILE + RIFAXIMINA        CEFACETRILE + RIFAXIMIN    NaN\n",
       "18                         CEFADROXIL                     CEFADROXIL    NaN\n",
       "19                         CEFALEXINA                      CEFALEXIN    2.0\n",
       "20            CEFALEXINA + KANAMICINA          CEFALEXIN + KANAMYCIN    NaN\n",
       "21                          CEFALONIO                     CEFALONIUM    2.0\n",
       "22                       CEFALORIDINA                  CEPHALORIDINA    NaN\n",
       "23   CEFALOSPORINE DI 1.A GENERAZIONE                  CEPHALOSPORIN    NaN\n",
       "24   CEFALOSPORINE DI 3.A GENERAZIONE                  CEPHALOSPORIN    NaN\n",
       "25   CEFALOSPORINE DI 4.A GENERAZIONE                  CEPHALOSPORIN    NaN\n",
       "26                         CEFALOTINA                      CEFALOTIN    2.0\n",
       "27                         CEFAPIRINA                      CEFAPYRIN    2.0\n",
       "28                         CEFAZOLINA                      CEFAZOLIN    2.0\n",
       "29                       CEFOPERAZONE                   CEFOPERAZONE    1.0\n",
       "..                                ...                            ...    ...\n",
       "112                     SULFAMERAZINE                  SULFAMERAZINE    NaN\n",
       "113                     SULFAMETAZINA                  SULFADIMIDINE    1.0\n",
       "114                  SULFAMETHOXAZOLE               SULFAMETHOXAZOLE    NaN\n",
       "115                     SULFAMETIZOLO                 SULFAMETHIZOLE    NaN\n",
       "116                  SULFAMETOSSAZOLO               SULFAMETHOXAZOLE    NaN\n",
       "117                   SULFAMETOXAZOLO               SULFAMETHOXAZOLE    NaN\n",
       "118                SULFAMONOMETHOXINE             SULFAMONOMETHOXINE    1.0\n",
       "119                     SULFISOXAZOLO                  SULFAFURAZOLE    1.0\n",
       "120                       SULFONAMIDI                    SULFONAMIDE    NaN\n",
       "121                      TETRACICLINA                   TETRACYCLINE    1.0\n",
       "122                     THIAMPHENICOL                  THIAMPHENICOL    1.0\n",
       "123                      TIAMFENICOLO                  THIAMPHENICOL    1.0\n",
       "124                          TIAMULIN                       TIAMULIN    2.0\n",
       "125                         TIAMULINA                       TIAMULIN    2.0\n",
       "126                      TILDIPIROSIN                   TILDIPIROSIN    1.0\n",
       "127                     TILDIPIROSINA                   TILDIPIROSIN    1.0\n",
       "128                        TILMICOSIN                     TILMICOSIN    1.0\n",
       "129                       TILMICOSINA                     TILMICOSIN    1.0\n",
       "130                          TILOSINA                        TYLOSIN    1.0\n",
       "131                       TILVALOSINA                     TYLVALOSIN    1.0\n",
       "132                       TOBRAMICINA                     TOBRAMYCIN    1.0\n",
       "133                      TRIMETHOPRIM                   TRIMETHOPRIM    1.0\n",
       "134                       TRIMETOPRIM                   TRIMETHOPRIM    1.0\n",
       "135         TRIMETOPRIM + SULFONAMIDI     TRIMETHOPRIM + SULFONAMIDE    1.0\n",
       "136                     TULATHROMYCIN                  TULATHROMYCIN    1.0\n",
       "137                     TULATROMICINA                  TULATHROMYCIN    1.0\n",
       "138                           TYLOSIN                        TYLOSIN    1.0\n",
       "139                        TYLVALOSIN                     TYLVALOSIN    1.0\n",
       "140                       VALNEMULINA                     VALNEMULIN    2.0\n",
       "141                       VANCOMICINA                     VANCOMYCIN    NaN\n",
       "\n",
       "[142 rows x 3 columns]"
      ]
     },
     "execution_count": 34,
     "metadata": {},
     "output_type": "execute_result"
    }
   ],
   "source": [
    "active_principle_info"
   ]
  },
  {
   "cell_type": "code",
   "execution_count": 35,
   "metadata": {
    "collapsed": true
   },
   "outputs": [],
   "source": [
    "amr_data_ap = pd.merge(amr_data, active_principle_info, on='Active_principle', how='inner')"
   ]
  },
  {
   "cell_type": "code",
   "execution_count": 36,
   "metadata": {
    "collapsed": true
   },
   "outputs": [],
   "source": [
    "amr_data_ap = amr_data_ap.drop(['Active_principle'], axis=1)"
   ]
  },
  {
   "cell_type": "code",
   "execution_count": 37,
   "metadata": {
    "collapsed": true
   },
   "outputs": [],
   "source": [
    "amr_data_ap = amr_data_ap.rename(index=str, columns={'English_name': \"Active_principle\"})"
   ]
  },
  {
   "cell_type": "markdown",
   "metadata": {},
   "source": [
    "##### TRANSLATE THE VALUES IN ENGLISH"
   ]
  },
  {
   "cell_type": "markdown",
   "metadata": {},
   "source": [
    "It is nice to work always in same language. Here the 'Result' column values translated in English."
   ]
  },
  {
   "cell_type": "code",
   "execution_count": 38,
   "metadata": {
    "collapsed": true
   },
   "outputs": [],
   "source": [
    "amr_data_ap.Result.replace(['RESISTENTE', 'SENSIBILE', 'INTERMEDIO'], ['RESISTANT', 'SENSITIVE', 'INTERMEDIATE'], inplace=True)"
   ]
  },
  {
   "cell_type": "markdown",
   "metadata": {},
   "source": [
    "##### DATA TRANSFORMATION - AGGREGATE THE RELATED CONSUMPTIONS"
   ]
  },
  {
   "cell_type": "markdown",
   "metadata": {},
   "source": [
    "Because of the unautomated data collection and the nature of the drug consumption, there are multiple lines for each antibiotic consumption. For the health of the analysis, it is needed to sum same antibiotic comsumption which are belong to same farm, same year, same methodology and same type of medication."
   ]
  },
  {
   "cell_type": "code",
   "execution_count": 39,
   "metadata": {
    "collapsed": true
   },
   "outputs": [],
   "source": [
    "# Drop more column \n",
    "consumption_data = consumption_data.drop(['PK_Somministrazione', 'Site1', 'Site3', 'Target'], axis=1)"
   ]
  },
  {
   "cell_type": "code",
   "execution_count": 40,
   "metadata": {
    "collapsed": true
   },
   "outputs": [],
   "source": [
    "# New dataframe with grouped featues\n",
    "consumption_data_grouped = consumption_data.groupby(['Farm_ID', 'Year', 'Open_cycle', 'Close_cycle', 'Type_of_medication', 'Active_principle'], as_index= False).sum()"
   ]
  },
  {
   "cell_type": "code",
   "execution_count": 41,
   "metadata": {},
   "outputs": [
    {
     "data": {
      "text/plain": [
       "10431"
      ]
     },
     "execution_count": 41,
     "metadata": {},
     "output_type": "execute_result"
    }
   ],
   "source": [
    "len(consumption_data_grouped) # 8421 records less!!"
   ]
  },
  {
   "cell_type": "markdown",
   "metadata": {},
   "source": [
    "##### CREATE THE GIANT DATASET"
   ]
  },
  {
   "cell_type": "code",
   "execution_count": 42,
   "metadata": {
    "collapsed": true
   },
   "outputs": [],
   "source": [
    "all_data = pd.merge(amr_data_ap, consumption_data_grouped, on=['Year', 'Farm_ID', 'Active_principle'], how='inner')"
   ]
  },
  {
   "cell_type": "code",
   "execution_count": 43,
   "metadata": {
    "collapsed": true
   },
   "outputs": [],
   "source": [
    "writer = pd.ExcelWriter('all_data.xlsx')\n",
    "all_data.to_excel(writer,'Sheet1')\n",
    "writer.save()"
   ]
  },
  {
   "cell_type": "code",
   "execution_count": 44,
   "metadata": {},
   "outputs": [
    {
     "data": {
      "text/plain": [
       "6564"
      ]
     },
     "execution_count": 44,
     "metadata": {},
     "output_type": "execute_result"
    }
   ],
   "source": [
    "len(all_data)"
   ]
  },
  {
   "cell_type": "code",
   "execution_count": 45,
   "metadata": {
    "collapsed": true
   },
   "outputs": [],
   "source": [
    "all_data = all_data[['Year', 'Farm_ID', 'Bacteria', 'Kind', 'Active_principle', 'Value', 'Open_cycle', 'Close_cycle', 'Type_of_medication', 'Active_principle_mg', 'DDDA', 'DCDA', 'Result']]"
   ]
  },
  {
   "cell_type": "code",
   "execution_count": 46,
   "metadata": {},
   "outputs": [
    {
     "data": {
      "text/html": [
       "<div>\n",
       "<style>\n",
       "    .dataframe thead tr:only-child th {\n",
       "        text-align: right;\n",
       "    }\n",
       "\n",
       "    .dataframe thead th {\n",
       "        text-align: left;\n",
       "    }\n",
       "\n",
       "    .dataframe tbody tr th {\n",
       "        vertical-align: top;\n",
       "    }\n",
       "</style>\n",
       "<table border=\"1\" class=\"dataframe\">\n",
       "  <thead>\n",
       "    <tr style=\"text-align: right;\">\n",
       "      <th></th>\n",
       "      <th>Year</th>\n",
       "      <th>Farm_ID</th>\n",
       "      <th>Bacteria</th>\n",
       "      <th>Kind</th>\n",
       "      <th>Active_principle</th>\n",
       "      <th>Value</th>\n",
       "      <th>Open_cycle</th>\n",
       "      <th>Close_cycle</th>\n",
       "      <th>Type_of_medication</th>\n",
       "      <th>Active_principle_mg</th>\n",
       "      <th>DDDA</th>\n",
       "      <th>DCDA</th>\n",
       "      <th>Result</th>\n",
       "    </tr>\n",
       "  </thead>\n",
       "  <tbody>\n",
       "    <tr>\n",
       "      <th>0</th>\n",
       "      <td>2014</td>\n",
       "      <td>002MN008</td>\n",
       "      <td>ESCHERICHIA COLI</td>\n",
       "      <td>SUINO</td>\n",
       "      <td>PAROMOMYCIN</td>\n",
       "      <td>1.0</td>\n",
       "      <td>1</td>\n",
       "      <td>0</td>\n",
       "      <td>INJ</td>\n",
       "      <td>656250.0</td>\n",
       "      <td>44948.63</td>\n",
       "      <td>11237.16</td>\n",
       "      <td>SENSITIVE</td>\n",
       "    </tr>\n",
       "    <tr>\n",
       "      <th>1</th>\n",
       "      <td>2014</td>\n",
       "      <td>002MN008</td>\n",
       "      <td>GEN. STREPTOCOCCUS</td>\n",
       "      <td>SUINO</td>\n",
       "      <td>PAROMOMYCIN</td>\n",
       "      <td>1.0</td>\n",
       "      <td>1</td>\n",
       "      <td>0</td>\n",
       "      <td>INJ</td>\n",
       "      <td>656250.0</td>\n",
       "      <td>44948.63</td>\n",
       "      <td>11237.16</td>\n",
       "      <td>RESISTANT</td>\n",
       "    </tr>\n",
       "    <tr>\n",
       "      <th>2</th>\n",
       "      <td>2015</td>\n",
       "      <td>003PC001</td>\n",
       "      <td>GEN. STREPTOCOCCUS</td>\n",
       "      <td>SUINO</td>\n",
       "      <td>PAROMOMYCIN</td>\n",
       "      <td>1.0</td>\n",
       "      <td>1</td>\n",
       "      <td>0</td>\n",
       "      <td>INJ</td>\n",
       "      <td>43750.0</td>\n",
       "      <td>4166.67</td>\n",
       "      <td>1041.67</td>\n",
       "      <td>INTERMEDIATE</td>\n",
       "    </tr>\n",
       "    <tr>\n",
       "      <th>3</th>\n",
       "      <td>2015</td>\n",
       "      <td>003PC001</td>\n",
       "      <td>ACTINOBACILLUS PLEUROPNEUMONIAE BIOTIPO 1</td>\n",
       "      <td>SUINO</td>\n",
       "      <td>PAROMOMYCIN</td>\n",
       "      <td>1.0</td>\n",
       "      <td>1</td>\n",
       "      <td>0</td>\n",
       "      <td>INJ</td>\n",
       "      <td>43750.0</td>\n",
       "      <td>4166.67</td>\n",
       "      <td>1041.67</td>\n",
       "      <td>RESISTANT</td>\n",
       "    </tr>\n",
       "    <tr>\n",
       "      <th>4</th>\n",
       "      <td>2015</td>\n",
       "      <td>003PC001</td>\n",
       "      <td>GEN. STREPTOCOCCUS</td>\n",
       "      <td>SUINO</td>\n",
       "      <td>PAROMOMYCIN</td>\n",
       "      <td>1.0</td>\n",
       "      <td>1</td>\n",
       "      <td>0</td>\n",
       "      <td>INJ</td>\n",
       "      <td>43750.0</td>\n",
       "      <td>4166.67</td>\n",
       "      <td>1041.67</td>\n",
       "      <td>INTERMEDIATE</td>\n",
       "    </tr>\n",
       "  </tbody>\n",
       "</table>\n",
       "</div>"
      ],
      "text/plain": [
       "   Year   Farm_ID                                   Bacteria   Kind  \\\n",
       "0  2014  002MN008                           ESCHERICHIA COLI  SUINO   \n",
       "1  2014  002MN008                         GEN. STREPTOCOCCUS  SUINO   \n",
       "2  2015  003PC001                         GEN. STREPTOCOCCUS  SUINO   \n",
       "3  2015  003PC001  ACTINOBACILLUS PLEUROPNEUMONIAE BIOTIPO 1  SUINO   \n",
       "4  2015  003PC001                         GEN. STREPTOCOCCUS  SUINO   \n",
       "\n",
       "  Active_principle  Value  Open_cycle  Close_cycle Type_of_medication  \\\n",
       "0      PAROMOMYCIN    1.0           1            0                INJ   \n",
       "1      PAROMOMYCIN    1.0           1            0                INJ   \n",
       "2      PAROMOMYCIN    1.0           1            0                INJ   \n",
       "3      PAROMOMYCIN    1.0           1            0                INJ   \n",
       "4      PAROMOMYCIN    1.0           1            0                INJ   \n",
       "\n",
       "   Active_principle_mg      DDDA      DCDA        Result  \n",
       "0             656250.0  44948.63  11237.16     SENSITIVE  \n",
       "1             656250.0  44948.63  11237.16     RESISTANT  \n",
       "2              43750.0   4166.67   1041.67  INTERMEDIATE  \n",
       "3              43750.0   4166.67   1041.67     RESISTANT  \n",
       "4              43750.0   4166.67   1041.67  INTERMEDIATE  "
      ]
     },
     "execution_count": 46,
     "metadata": {},
     "output_type": "execute_result"
    }
   ],
   "source": [
    "all_data.head()"
   ]
  },
  {
   "cell_type": "code",
   "execution_count": 70,
   "metadata": {},
   "outputs": [
    {
     "data": {
      "text/plain": [
       "126"
      ]
     },
     "execution_count": 70,
     "metadata": {},
     "output_type": "execute_result"
    }
   ],
   "source": [
    "len(all_data.Farm_ID.unique())"
   ]
  },
  {
   "cell_type": "markdown",
   "metadata": {
    "collapsed": true
   },
   "source": [
    "##### DATA PREPARATION FOR THE ANAYSIS"
   ]
  },
  {
   "cell_type": "code",
   "execution_count": 112,
   "metadata": {
    "collapsed": true
   },
   "outputs": [],
   "source": [
    "# Drop the identify columns\n",
    "dataset_with_identity = all_data\n",
    "dataset = all_data.drop(['Kind', 'Farm_ID'], axis=1)"
   ]
  },
  {
   "cell_type": "code",
   "execution_count": 113,
   "metadata": {
    "collapsed": true
   },
   "outputs": [],
   "source": [
    "# Drop nan values\n",
    "dataset.dropna(inplace=True)\n",
    "dataset_with_identity.dropna(inplace=True)"
   ]
  },
  {
   "cell_type": "markdown",
   "metadata": {
    "collapsed": true
   },
   "source": [
    "##### MEAN REMOVAL (STANDARDIZATION)"
   ]
  },
  {
   "cell_type": "code",
   "execution_count": 49,
   "metadata": {
    "collapsed": true
   },
   "outputs": [],
   "source": [
    "#print('Mean before=', dataset.mean(axis=0))\n",
    "#print('Standard Deviation before=', dataset.std(axis=0))"
   ]
  },
  {
   "cell_type": "code",
   "execution_count": 50,
   "metadata": {
    "collapsed": true
   },
   "outputs": [],
   "source": [
    "#ss = preprocessing.StandardScaler()\n",
    "#dataset[['Active_principle_mg', 'DDDA', 'DCDA']] = ss.fit_transform(dataset[['Active_principle_mg', 'DDDA', 'DCDA']])\n",
    "#print('Mean after=', dataset.mean(axis=0))\n",
    "#print('Standard Deviation after=', dataset.std(axis=0))"
   ]
  },
  {
   "cell_type": "markdown",
   "metadata": {
    "collapsed": true
   },
   "source": [
    "##### NORMALIZATION"
   ]
  },
  {
   "cell_type": "code",
   "execution_count": 51,
   "metadata": {
    "collapsed": true
   },
   "outputs": [],
   "source": [
    "#dataset[['Active_principle_mg', 'DDDA', 'DCDA']] = preprocessing.normalize(dataset[['Active_principle_mg', 'DDDA', 'DCDA']], norm='l1')"
   ]
  },
  {
   "cell_type": "code",
   "execution_count": 52,
   "metadata": {
    "collapsed": true
   },
   "outputs": [],
   "source": [
    "#dataset_with_FarmID[['Active_principle_mg', 'DDDA', 'DCDA']] = preprocessing.normalize(dataset_with_FarmID[['Active_principle_mg', 'DDDA', 'DCDA']], norm='l2')"
   ]
  },
  {
   "cell_type": "markdown",
   "metadata": {
    "collapsed": true
   },
   "source": [
    "##### DEALING WITH THE CATEGORICAL DATA / Onehot Encoder"
   ]
  },
  {
   "cell_type": "code",
   "execution_count": 53,
   "metadata": {
    "collapsed": true
   },
   "outputs": [],
   "source": [
    "#no_onehot_cols = ['Year','Result', 'Active_principle_mg', 'DDDA', 'DCDA', 'Open_cycle', 'Close_cycle'] \n",
    "#onehot_cols = list(set(dataset.columns) - set(no_onehot_cols))\n",
    "#onehot_dataset = pd.get_dummies(dataset, columns=onehot_cols)"
   ]
  },
  {
   "cell_type": "code",
   "execution_count": 54,
   "metadata": {
    "collapsed": true
   },
   "outputs": [],
   "source": [
    "#cols = list(onehot_dataset.columns.values)\n",
    "#cols"
   ]
  },
  {
   "cell_type": "code",
   "execution_count": 55,
   "metadata": {},
   "outputs": [
    {
     "data": {
      "text/html": [
       "<div>\n",
       "<style>\n",
       "    .dataframe thead tr:only-child th {\n",
       "        text-align: right;\n",
       "    }\n",
       "\n",
       "    .dataframe thead th {\n",
       "        text-align: left;\n",
       "    }\n",
       "\n",
       "    .dataframe tbody tr th {\n",
       "        vertical-align: top;\n",
       "    }\n",
       "</style>\n",
       "<table border=\"1\" class=\"dataframe\">\n",
       "  <thead>\n",
       "    <tr style=\"text-align: right;\">\n",
       "      <th></th>\n",
       "      <th>Year</th>\n",
       "      <th>Bacteria</th>\n",
       "      <th>Active_principle</th>\n",
       "      <th>Value</th>\n",
       "      <th>Open_cycle</th>\n",
       "      <th>Close_cycle</th>\n",
       "      <th>Type_of_medication</th>\n",
       "      <th>Active_principle_mg</th>\n",
       "      <th>DDDA</th>\n",
       "      <th>DCDA</th>\n",
       "      <th>Result</th>\n",
       "    </tr>\n",
       "  </thead>\n",
       "  <tbody>\n",
       "    <tr>\n",
       "      <th>0</th>\n",
       "      <td>2014</td>\n",
       "      <td>ESCHERICHIA COLI</td>\n",
       "      <td>PAROMOMYCIN</td>\n",
       "      <td>1.0</td>\n",
       "      <td>1</td>\n",
       "      <td>0</td>\n",
       "      <td>INJ</td>\n",
       "      <td>656250.0</td>\n",
       "      <td>44948.63</td>\n",
       "      <td>11237.16</td>\n",
       "      <td>SENSITIVE</td>\n",
       "    </tr>\n",
       "    <tr>\n",
       "      <th>1</th>\n",
       "      <td>2014</td>\n",
       "      <td>GEN. STREPTOCOCCUS</td>\n",
       "      <td>PAROMOMYCIN</td>\n",
       "      <td>1.0</td>\n",
       "      <td>1</td>\n",
       "      <td>0</td>\n",
       "      <td>INJ</td>\n",
       "      <td>656250.0</td>\n",
       "      <td>44948.63</td>\n",
       "      <td>11237.16</td>\n",
       "      <td>RESISTANT</td>\n",
       "    </tr>\n",
       "    <tr>\n",
       "      <th>2</th>\n",
       "      <td>2015</td>\n",
       "      <td>GEN. STREPTOCOCCUS</td>\n",
       "      <td>PAROMOMYCIN</td>\n",
       "      <td>1.0</td>\n",
       "      <td>1</td>\n",
       "      <td>0</td>\n",
       "      <td>INJ</td>\n",
       "      <td>43750.0</td>\n",
       "      <td>4166.67</td>\n",
       "      <td>1041.67</td>\n",
       "      <td>INTERMEDIATE</td>\n",
       "    </tr>\n",
       "    <tr>\n",
       "      <th>3</th>\n",
       "      <td>2015</td>\n",
       "      <td>ACTINOBACILLUS PLEUROPNEUMONIAE BIOTIPO 1</td>\n",
       "      <td>PAROMOMYCIN</td>\n",
       "      <td>1.0</td>\n",
       "      <td>1</td>\n",
       "      <td>0</td>\n",
       "      <td>INJ</td>\n",
       "      <td>43750.0</td>\n",
       "      <td>4166.67</td>\n",
       "      <td>1041.67</td>\n",
       "      <td>RESISTANT</td>\n",
       "    </tr>\n",
       "    <tr>\n",
       "      <th>4</th>\n",
       "      <td>2015</td>\n",
       "      <td>GEN. STREPTOCOCCUS</td>\n",
       "      <td>PAROMOMYCIN</td>\n",
       "      <td>1.0</td>\n",
       "      <td>1</td>\n",
       "      <td>0</td>\n",
       "      <td>INJ</td>\n",
       "      <td>43750.0</td>\n",
       "      <td>4166.67</td>\n",
       "      <td>1041.67</td>\n",
       "      <td>INTERMEDIATE</td>\n",
       "    </tr>\n",
       "    <tr>\n",
       "      <th>5</th>\n",
       "      <td>2015</td>\n",
       "      <td>PASTEURELLA MULTOCIDA</td>\n",
       "      <td>PAROMOMYCIN</td>\n",
       "      <td>1.0</td>\n",
       "      <td>1</td>\n",
       "      <td>0</td>\n",
       "      <td>INJ</td>\n",
       "      <td>43750.0</td>\n",
       "      <td>4166.67</td>\n",
       "      <td>1041.67</td>\n",
       "      <td>SENSITIVE</td>\n",
       "    </tr>\n",
       "    <tr>\n",
       "      <th>6</th>\n",
       "      <td>2015</td>\n",
       "      <td>ESCHERICHIA COLI</td>\n",
       "      <td>PAROMOMYCIN</td>\n",
       "      <td>1.0</td>\n",
       "      <td>1</td>\n",
       "      <td>0</td>\n",
       "      <td>INJ</td>\n",
       "      <td>43750.0</td>\n",
       "      <td>4166.67</td>\n",
       "      <td>1041.67</td>\n",
       "      <td>RESISTANT</td>\n",
       "    </tr>\n",
       "    <tr>\n",
       "      <th>7</th>\n",
       "      <td>2015</td>\n",
       "      <td>ESCHERICHIA COLI EMOLITICO</td>\n",
       "      <td>PAROMOMYCIN</td>\n",
       "      <td>1.0</td>\n",
       "      <td>0</td>\n",
       "      <td>0</td>\n",
       "      <td>ORAL SOLU</td>\n",
       "      <td>1000000.0</td>\n",
       "      <td>30769.23</td>\n",
       "      <td>7692.31</td>\n",
       "      <td>SENSITIVE</td>\n",
       "    </tr>\n",
       "    <tr>\n",
       "      <th>8</th>\n",
       "      <td>2015</td>\n",
       "      <td>PASTEURELLA MULTOCIDA</td>\n",
       "      <td>PAROMOMYCIN</td>\n",
       "      <td>1.0</td>\n",
       "      <td>1</td>\n",
       "      <td>0</td>\n",
       "      <td>INJ</td>\n",
       "      <td>43750.0</td>\n",
       "      <td>2996.58</td>\n",
       "      <td>749.14</td>\n",
       "      <td>SENSITIVE</td>\n",
       "    </tr>\n",
       "    <tr>\n",
       "      <th>9</th>\n",
       "      <td>2015</td>\n",
       "      <td>PASTEURELLA MULTOCIDA</td>\n",
       "      <td>PAROMOMYCIN</td>\n",
       "      <td>1.0</td>\n",
       "      <td>1</td>\n",
       "      <td>0</td>\n",
       "      <td>PREMIX</td>\n",
       "      <td>400000.0</td>\n",
       "      <td>12307.70</td>\n",
       "      <td>3076.92</td>\n",
       "      <td>SENSITIVE</td>\n",
       "    </tr>\n",
       "    <tr>\n",
       "      <th>10</th>\n",
       "      <td>2015</td>\n",
       "      <td>STREPTOCOCCUS SUIS</td>\n",
       "      <td>PAROMOMYCIN</td>\n",
       "      <td>1.0</td>\n",
       "      <td>1</td>\n",
       "      <td>0</td>\n",
       "      <td>INJ</td>\n",
       "      <td>43750.0</td>\n",
       "      <td>2996.58</td>\n",
       "      <td>749.14</td>\n",
       "      <td>RESISTANT</td>\n",
       "    </tr>\n",
       "    <tr>\n",
       "      <th>11</th>\n",
       "      <td>2015</td>\n",
       "      <td>STREPTOCOCCUS SUIS</td>\n",
       "      <td>PAROMOMYCIN</td>\n",
       "      <td>1.0</td>\n",
       "      <td>1</td>\n",
       "      <td>0</td>\n",
       "      <td>PREMIX</td>\n",
       "      <td>400000.0</td>\n",
       "      <td>12307.70</td>\n",
       "      <td>3076.92</td>\n",
       "      <td>RESISTANT</td>\n",
       "    </tr>\n",
       "    <tr>\n",
       "      <th>12</th>\n",
       "      <td>2015</td>\n",
       "      <td>ESCHERICHIA COLI</td>\n",
       "      <td>PAROMOMYCIN</td>\n",
       "      <td>1.0</td>\n",
       "      <td>1</td>\n",
       "      <td>0</td>\n",
       "      <td>INJ</td>\n",
       "      <td>43750.0</td>\n",
       "      <td>2996.58</td>\n",
       "      <td>749.14</td>\n",
       "      <td>RESISTANT</td>\n",
       "    </tr>\n",
       "    <tr>\n",
       "      <th>13</th>\n",
       "      <td>2015</td>\n",
       "      <td>ESCHERICHIA COLI</td>\n",
       "      <td>PAROMOMYCIN</td>\n",
       "      <td>1.0</td>\n",
       "      <td>1</td>\n",
       "      <td>0</td>\n",
       "      <td>PREMIX</td>\n",
       "      <td>400000.0</td>\n",
       "      <td>12307.70</td>\n",
       "      <td>3076.92</td>\n",
       "      <td>RESISTANT</td>\n",
       "    </tr>\n",
       "    <tr>\n",
       "      <th>14</th>\n",
       "      <td>2015</td>\n",
       "      <td>ESCHERICHIA COLI EMOLITICO</td>\n",
       "      <td>PAROMOMYCIN</td>\n",
       "      <td>1.0</td>\n",
       "      <td>1</td>\n",
       "      <td>0</td>\n",
       "      <td>INJ</td>\n",
       "      <td>43750.0</td>\n",
       "      <td>2996.58</td>\n",
       "      <td>749.14</td>\n",
       "      <td>RESISTANT</td>\n",
       "    </tr>\n",
       "    <tr>\n",
       "      <th>15</th>\n",
       "      <td>2015</td>\n",
       "      <td>ESCHERICHIA COLI EMOLITICO</td>\n",
       "      <td>PAROMOMYCIN</td>\n",
       "      <td>1.0</td>\n",
       "      <td>1</td>\n",
       "      <td>0</td>\n",
       "      <td>PREMIX</td>\n",
       "      <td>400000.0</td>\n",
       "      <td>12307.70</td>\n",
       "      <td>3076.92</td>\n",
       "      <td>RESISTANT</td>\n",
       "    </tr>\n",
       "    <tr>\n",
       "      <th>16</th>\n",
       "      <td>2015</td>\n",
       "      <td>CLOSTRIDIUM PERFRINGENS</td>\n",
       "      <td>PAROMOMYCIN</td>\n",
       "      <td>1.0</td>\n",
       "      <td>1</td>\n",
       "      <td>0</td>\n",
       "      <td>INJ</td>\n",
       "      <td>2931250.0</td>\n",
       "      <td>279166.67</td>\n",
       "      <td>69791.67</td>\n",
       "      <td>RESISTANT</td>\n",
       "    </tr>\n",
       "    <tr>\n",
       "      <th>17</th>\n",
       "      <td>2015</td>\n",
       "      <td>ESCHERICHIA COLI</td>\n",
       "      <td>PAROMOMYCIN</td>\n",
       "      <td>1.0</td>\n",
       "      <td>1</td>\n",
       "      <td>0</td>\n",
       "      <td>INJ</td>\n",
       "      <td>2931250.0</td>\n",
       "      <td>279166.67</td>\n",
       "      <td>69791.67</td>\n",
       "      <td>SENSITIVE</td>\n",
       "    </tr>\n",
       "    <tr>\n",
       "      <th>18</th>\n",
       "      <td>2015</td>\n",
       "      <td>GEN. STREPTOCOCCUS</td>\n",
       "      <td>PAROMOMYCIN</td>\n",
       "      <td>1.0</td>\n",
       "      <td>1</td>\n",
       "      <td>0</td>\n",
       "      <td>INJ</td>\n",
       "      <td>2931250.0</td>\n",
       "      <td>279166.67</td>\n",
       "      <td>69791.67</td>\n",
       "      <td>RESISTANT</td>\n",
       "    </tr>\n",
       "    <tr>\n",
       "      <th>19</th>\n",
       "      <td>2015</td>\n",
       "      <td>ESCHERICHIA COLI</td>\n",
       "      <td>PAROMOMYCIN</td>\n",
       "      <td>1.0</td>\n",
       "      <td>1</td>\n",
       "      <td>0</td>\n",
       "      <td>INJ</td>\n",
       "      <td>2931250.0</td>\n",
       "      <td>279166.67</td>\n",
       "      <td>69791.67</td>\n",
       "      <td>SENSITIVE</td>\n",
       "    </tr>\n",
       "    <tr>\n",
       "      <th>20</th>\n",
       "      <td>2015</td>\n",
       "      <td>ESCHERICHIA COLI</td>\n",
       "      <td>PAROMOMYCIN</td>\n",
       "      <td>1.0</td>\n",
       "      <td>1</td>\n",
       "      <td>0</td>\n",
       "      <td>INJ</td>\n",
       "      <td>2931250.0</td>\n",
       "      <td>279166.67</td>\n",
       "      <td>69791.67</td>\n",
       "      <td>SENSITIVE</td>\n",
       "    </tr>\n",
       "    <tr>\n",
       "      <th>21</th>\n",
       "      <td>2015</td>\n",
       "      <td>GEN. SALMONELLA</td>\n",
       "      <td>PAROMOMYCIN</td>\n",
       "      <td>1.0</td>\n",
       "      <td>1</td>\n",
       "      <td>0</td>\n",
       "      <td>INJ</td>\n",
       "      <td>2931250.0</td>\n",
       "      <td>279166.67</td>\n",
       "      <td>69791.67</td>\n",
       "      <td>INTERMEDIATE</td>\n",
       "    </tr>\n",
       "    <tr>\n",
       "      <th>22</th>\n",
       "      <td>2015</td>\n",
       "      <td>ACTINOBACILLUS PLEUROPNEUMONIAE BIOTIPO 1</td>\n",
       "      <td>PAROMOMYCIN</td>\n",
       "      <td>1.0</td>\n",
       "      <td>1</td>\n",
       "      <td>0</td>\n",
       "      <td>INJ</td>\n",
       "      <td>2931250.0</td>\n",
       "      <td>279166.67</td>\n",
       "      <td>69791.67</td>\n",
       "      <td>SENSITIVE</td>\n",
       "    </tr>\n",
       "    <tr>\n",
       "      <th>23</th>\n",
       "      <td>2015</td>\n",
       "      <td>GEN. STREPTOCOCCUS</td>\n",
       "      <td>PAROMOMYCIN</td>\n",
       "      <td>1.0</td>\n",
       "      <td>1</td>\n",
       "      <td>0</td>\n",
       "      <td>INJ</td>\n",
       "      <td>2931250.0</td>\n",
       "      <td>279166.67</td>\n",
       "      <td>69791.67</td>\n",
       "      <td>SENSITIVE</td>\n",
       "    </tr>\n",
       "    <tr>\n",
       "      <th>24</th>\n",
       "      <td>2015</td>\n",
       "      <td>GEN. STREPTOCOCCUS</td>\n",
       "      <td>PAROMOMYCIN</td>\n",
       "      <td>1.0</td>\n",
       "      <td>1</td>\n",
       "      <td>0</td>\n",
       "      <td>INJ</td>\n",
       "      <td>2931250.0</td>\n",
       "      <td>279166.67</td>\n",
       "      <td>69791.67</td>\n",
       "      <td>RESISTANT</td>\n",
       "    </tr>\n",
       "    <tr>\n",
       "      <th>25</th>\n",
       "      <td>2015</td>\n",
       "      <td>ESCHERICHIA COLI</td>\n",
       "      <td>PAROMOMYCIN</td>\n",
       "      <td>1.0</td>\n",
       "      <td>1</td>\n",
       "      <td>0</td>\n",
       "      <td>INJ</td>\n",
       "      <td>2931250.0</td>\n",
       "      <td>279166.67</td>\n",
       "      <td>69791.67</td>\n",
       "      <td>SENSITIVE</td>\n",
       "    </tr>\n",
       "    <tr>\n",
       "      <th>26</th>\n",
       "      <td>2015</td>\n",
       "      <td>GEN. PASTEURELLA</td>\n",
       "      <td>PAROMOMYCIN</td>\n",
       "      <td>1.0</td>\n",
       "      <td>1</td>\n",
       "      <td>0</td>\n",
       "      <td>INJ</td>\n",
       "      <td>2931250.0</td>\n",
       "      <td>279166.67</td>\n",
       "      <td>69791.67</td>\n",
       "      <td>SENSITIVE</td>\n",
       "    </tr>\n",
       "    <tr>\n",
       "      <th>27</th>\n",
       "      <td>2015</td>\n",
       "      <td>GEN. STREPTOCOCCUS</td>\n",
       "      <td>PAROMOMYCIN</td>\n",
       "      <td>1.0</td>\n",
       "      <td>1</td>\n",
       "      <td>0</td>\n",
       "      <td>INJ</td>\n",
       "      <td>2931250.0</td>\n",
       "      <td>279166.67</td>\n",
       "      <td>69791.67</td>\n",
       "      <td>INTERMEDIATE</td>\n",
       "    </tr>\n",
       "    <tr>\n",
       "      <th>28</th>\n",
       "      <td>2015</td>\n",
       "      <td>ESCHERICHIA COLI</td>\n",
       "      <td>PAROMOMYCIN</td>\n",
       "      <td>1.0</td>\n",
       "      <td>1</td>\n",
       "      <td>0</td>\n",
       "      <td>INJ</td>\n",
       "      <td>2931250.0</td>\n",
       "      <td>279166.67</td>\n",
       "      <td>69791.67</td>\n",
       "      <td>SENSITIVE</td>\n",
       "    </tr>\n",
       "    <tr>\n",
       "      <th>29</th>\n",
       "      <td>2015</td>\n",
       "      <td>ESCHERICHIA COLI</td>\n",
       "      <td>PAROMOMYCIN</td>\n",
       "      <td>1.0</td>\n",
       "      <td>1</td>\n",
       "      <td>0</td>\n",
       "      <td>INJ</td>\n",
       "      <td>2931250.0</td>\n",
       "      <td>279166.67</td>\n",
       "      <td>69791.67</td>\n",
       "      <td>SENSITIVE</td>\n",
       "    </tr>\n",
       "    <tr>\n",
       "      <th>...</th>\n",
       "      <td>...</td>\n",
       "      <td>...</td>\n",
       "      <td>...</td>\n",
       "      <td>...</td>\n",
       "      <td>...</td>\n",
       "      <td>...</td>\n",
       "      <td>...</td>\n",
       "      <td>...</td>\n",
       "      <td>...</td>\n",
       "      <td>...</td>\n",
       "      <td>...</td>\n",
       "    </tr>\n",
       "    <tr>\n",
       "      <th>6534</th>\n",
       "      <td>2014</td>\n",
       "      <td>CLOSTRIDIUM PERFRINGENS</td>\n",
       "      <td>TULATHROMYCIN</td>\n",
       "      <td>1.0</td>\n",
       "      <td>1</td>\n",
       "      <td>0</td>\n",
       "      <td>INJ</td>\n",
       "      <td>120000.0</td>\n",
       "      <td>336134.45</td>\n",
       "      <td>48019.21</td>\n",
       "      <td>RESISTANT</td>\n",
       "    </tr>\n",
       "    <tr>\n",
       "      <th>6535</th>\n",
       "      <td>2014</td>\n",
       "      <td>ESCHERICHIA COLI</td>\n",
       "      <td>TULATHROMYCIN</td>\n",
       "      <td>1.0</td>\n",
       "      <td>1</td>\n",
       "      <td>0</td>\n",
       "      <td>INJ</td>\n",
       "      <td>120000.0</td>\n",
       "      <td>336134.45</td>\n",
       "      <td>48019.21</td>\n",
       "      <td>RESISTANT</td>\n",
       "    </tr>\n",
       "    <tr>\n",
       "      <th>6536</th>\n",
       "      <td>2014</td>\n",
       "      <td>ESCHERICHIA COLI</td>\n",
       "      <td>TULATHROMYCIN</td>\n",
       "      <td>1.0</td>\n",
       "      <td>1</td>\n",
       "      <td>0</td>\n",
       "      <td>INJ</td>\n",
       "      <td>120000.0</td>\n",
       "      <td>336134.45</td>\n",
       "      <td>48019.21</td>\n",
       "      <td>INTERMEDIATE</td>\n",
       "    </tr>\n",
       "    <tr>\n",
       "      <th>6537</th>\n",
       "      <td>2015</td>\n",
       "      <td>GEN. ACTINOBACILLUS</td>\n",
       "      <td>TULATHROMYCIN</td>\n",
       "      <td>1.0</td>\n",
       "      <td>1</td>\n",
       "      <td>0</td>\n",
       "      <td>INJ</td>\n",
       "      <td>330000.0</td>\n",
       "      <td>924369.75</td>\n",
       "      <td>132052.82</td>\n",
       "      <td>RESISTANT</td>\n",
       "    </tr>\n",
       "    <tr>\n",
       "      <th>6538</th>\n",
       "      <td>2015</td>\n",
       "      <td>GEN. STREPTOCOCCUS</td>\n",
       "      <td>TULATHROMYCIN</td>\n",
       "      <td>1.0</td>\n",
       "      <td>1</td>\n",
       "      <td>0</td>\n",
       "      <td>INJ</td>\n",
       "      <td>330000.0</td>\n",
       "      <td>924369.75</td>\n",
       "      <td>132052.82</td>\n",
       "      <td>RESISTANT</td>\n",
       "    </tr>\n",
       "    <tr>\n",
       "      <th>6539</th>\n",
       "      <td>2015</td>\n",
       "      <td>PASTEURELLA MULTOCIDA</td>\n",
       "      <td>TULATHROMYCIN</td>\n",
       "      <td>1.0</td>\n",
       "      <td>1</td>\n",
       "      <td>0</td>\n",
       "      <td>INJ</td>\n",
       "      <td>330000.0</td>\n",
       "      <td>924369.75</td>\n",
       "      <td>132052.82</td>\n",
       "      <td>INTERMEDIATE</td>\n",
       "    </tr>\n",
       "    <tr>\n",
       "      <th>6540</th>\n",
       "      <td>2015</td>\n",
       "      <td>CLOSTRIDIUM PERFRINGENS</td>\n",
       "      <td>TULATHROMYCIN</td>\n",
       "      <td>1.0</td>\n",
       "      <td>1</td>\n",
       "      <td>0</td>\n",
       "      <td>INJ</td>\n",
       "      <td>330000.0</td>\n",
       "      <td>924369.75</td>\n",
       "      <td>132052.82</td>\n",
       "      <td>RESISTANT</td>\n",
       "    </tr>\n",
       "    <tr>\n",
       "      <th>6541</th>\n",
       "      <td>2015</td>\n",
       "      <td>ESCHERICHIA COLI</td>\n",
       "      <td>TULATHROMYCIN</td>\n",
       "      <td>1.0</td>\n",
       "      <td>1</td>\n",
       "      <td>0</td>\n",
       "      <td>INJ</td>\n",
       "      <td>330000.0</td>\n",
       "      <td>924369.75</td>\n",
       "      <td>132052.82</td>\n",
       "      <td>RESISTANT</td>\n",
       "    </tr>\n",
       "    <tr>\n",
       "      <th>6542</th>\n",
       "      <td>2014</td>\n",
       "      <td>ACTINOBACILLUS PLEUROPNEUMONIAE BIOTIPO 1</td>\n",
       "      <td>TULATHROMYCIN</td>\n",
       "      <td>1.0</td>\n",
       "      <td>1</td>\n",
       "      <td>0</td>\n",
       "      <td>INJ</td>\n",
       "      <td>175000.0</td>\n",
       "      <td>490196.08</td>\n",
       "      <td>70028.01</td>\n",
       "      <td>RESISTANT</td>\n",
       "    </tr>\n",
       "    <tr>\n",
       "      <th>6543</th>\n",
       "      <td>2014</td>\n",
       "      <td>ESCHERICHIA COLI EMOLITICO</td>\n",
       "      <td>TULATHROMYCIN</td>\n",
       "      <td>1.0</td>\n",
       "      <td>1</td>\n",
       "      <td>0</td>\n",
       "      <td>INJ</td>\n",
       "      <td>175000.0</td>\n",
       "      <td>490196.08</td>\n",
       "      <td>70028.01</td>\n",
       "      <td>RESISTANT</td>\n",
       "    </tr>\n",
       "    <tr>\n",
       "      <th>6544</th>\n",
       "      <td>2014</td>\n",
       "      <td>ESCHERICHIA COLI</td>\n",
       "      <td>TULATHROMYCIN</td>\n",
       "      <td>1.0</td>\n",
       "      <td>1</td>\n",
       "      <td>0</td>\n",
       "      <td>INJ</td>\n",
       "      <td>175000.0</td>\n",
       "      <td>490196.08</td>\n",
       "      <td>70028.01</td>\n",
       "      <td>RESISTANT</td>\n",
       "    </tr>\n",
       "    <tr>\n",
       "      <th>6545</th>\n",
       "      <td>2014</td>\n",
       "      <td>GEN. STREPTOCOCCUS</td>\n",
       "      <td>TULATHROMYCIN</td>\n",
       "      <td>1.0</td>\n",
       "      <td>1</td>\n",
       "      <td>0</td>\n",
       "      <td>INJ</td>\n",
       "      <td>175000.0</td>\n",
       "      <td>490196.08</td>\n",
       "      <td>70028.01</td>\n",
       "      <td>RESISTANT</td>\n",
       "    </tr>\n",
       "    <tr>\n",
       "      <th>6546</th>\n",
       "      <td>2014</td>\n",
       "      <td>ACTINOBACILLUS PLEUROPNEUMONIAE BIOTIPO 1</td>\n",
       "      <td>TULATHROMYCIN</td>\n",
       "      <td>1.0</td>\n",
       "      <td>1</td>\n",
       "      <td>0</td>\n",
       "      <td>INJ</td>\n",
       "      <td>175000.0</td>\n",
       "      <td>490196.08</td>\n",
       "      <td>70028.01</td>\n",
       "      <td>RESISTANT</td>\n",
       "    </tr>\n",
       "    <tr>\n",
       "      <th>6547</th>\n",
       "      <td>2014</td>\n",
       "      <td>GEN. STREPTOCOCCUS</td>\n",
       "      <td>TULATHROMYCIN</td>\n",
       "      <td>1.0</td>\n",
       "      <td>1</td>\n",
       "      <td>0</td>\n",
       "      <td>INJ</td>\n",
       "      <td>175000.0</td>\n",
       "      <td>490196.08</td>\n",
       "      <td>70028.01</td>\n",
       "      <td>RESISTANT</td>\n",
       "    </tr>\n",
       "    <tr>\n",
       "      <th>6548</th>\n",
       "      <td>2014</td>\n",
       "      <td>GEN. STREPTOCOCCUS</td>\n",
       "      <td>TULATHROMYCIN</td>\n",
       "      <td>1.0</td>\n",
       "      <td>1</td>\n",
       "      <td>0</td>\n",
       "      <td>INJ</td>\n",
       "      <td>175000.0</td>\n",
       "      <td>490196.08</td>\n",
       "      <td>70028.01</td>\n",
       "      <td>RESISTANT</td>\n",
       "    </tr>\n",
       "    <tr>\n",
       "      <th>6549</th>\n",
       "      <td>2014</td>\n",
       "      <td>ACTINOMYCES PYOGENES</td>\n",
       "      <td>TULATHROMYCIN</td>\n",
       "      <td>1.0</td>\n",
       "      <td>1</td>\n",
       "      <td>0</td>\n",
       "      <td>INJ</td>\n",
       "      <td>175000.0</td>\n",
       "      <td>490196.08</td>\n",
       "      <td>70028.01</td>\n",
       "      <td>RESISTANT</td>\n",
       "    </tr>\n",
       "    <tr>\n",
       "      <th>6550</th>\n",
       "      <td>2014</td>\n",
       "      <td>ESCHERICHIA COLI EMOLITICO</td>\n",
       "      <td>TULATHROMYCIN</td>\n",
       "      <td>1.0</td>\n",
       "      <td>0</td>\n",
       "      <td>0</td>\n",
       "      <td>INJ</td>\n",
       "      <td>150000.0</td>\n",
       "      <td>420168.06</td>\n",
       "      <td>60024.01</td>\n",
       "      <td>SENSITIVE</td>\n",
       "    </tr>\n",
       "    <tr>\n",
       "      <th>6551</th>\n",
       "      <td>2014</td>\n",
       "      <td>PASTEURELLA MULTOCIDA</td>\n",
       "      <td>TULATHROMYCIN</td>\n",
       "      <td>1.0</td>\n",
       "      <td>0</td>\n",
       "      <td>0</td>\n",
       "      <td>INJ</td>\n",
       "      <td>150000.0</td>\n",
       "      <td>420168.06</td>\n",
       "      <td>60024.01</td>\n",
       "      <td>SENSITIVE</td>\n",
       "    </tr>\n",
       "    <tr>\n",
       "      <th>6552</th>\n",
       "      <td>2014</td>\n",
       "      <td>PASTEURELLA MULTOCIDA</td>\n",
       "      <td>TULATHROMYCIN</td>\n",
       "      <td>1.0</td>\n",
       "      <td>0</td>\n",
       "      <td>0</td>\n",
       "      <td>INJ</td>\n",
       "      <td>150000.0</td>\n",
       "      <td>420168.06</td>\n",
       "      <td>60024.01</td>\n",
       "      <td>RESISTANT</td>\n",
       "    </tr>\n",
       "    <tr>\n",
       "      <th>6553</th>\n",
       "      <td>2014</td>\n",
       "      <td>GEN. STREPTOCOCCUS</td>\n",
       "      <td>TULATHROMYCIN</td>\n",
       "      <td>1.0</td>\n",
       "      <td>0</td>\n",
       "      <td>0</td>\n",
       "      <td>INJ</td>\n",
       "      <td>150000.0</td>\n",
       "      <td>420168.06</td>\n",
       "      <td>60024.01</td>\n",
       "      <td>RESISTANT</td>\n",
       "    </tr>\n",
       "    <tr>\n",
       "      <th>6554</th>\n",
       "      <td>2014</td>\n",
       "      <td>GEN. SALMONELLA</td>\n",
       "      <td>TULATHROMYCIN</td>\n",
       "      <td>1.0</td>\n",
       "      <td>1</td>\n",
       "      <td>0</td>\n",
       "      <td>INJ</td>\n",
       "      <td>280000.0</td>\n",
       "      <td>784313.73</td>\n",
       "      <td>112044.82</td>\n",
       "      <td>RESISTANT</td>\n",
       "    </tr>\n",
       "    <tr>\n",
       "      <th>6555</th>\n",
       "      <td>2014</td>\n",
       "      <td>GEN. SALMONELLA</td>\n",
       "      <td>TULATHROMYCIN</td>\n",
       "      <td>1.0</td>\n",
       "      <td>1</td>\n",
       "      <td>0</td>\n",
       "      <td>INJ</td>\n",
       "      <td>280000.0</td>\n",
       "      <td>784313.73</td>\n",
       "      <td>112044.82</td>\n",
       "      <td>INTERMEDIATE</td>\n",
       "    </tr>\n",
       "    <tr>\n",
       "      <th>6556</th>\n",
       "      <td>2014</td>\n",
       "      <td>GEN. SALMONELLA</td>\n",
       "      <td>TULATHROMYCIN</td>\n",
       "      <td>1.0</td>\n",
       "      <td>1</td>\n",
       "      <td>0</td>\n",
       "      <td>INJ</td>\n",
       "      <td>280000.0</td>\n",
       "      <td>784313.73</td>\n",
       "      <td>112044.82</td>\n",
       "      <td>INTERMEDIATE</td>\n",
       "    </tr>\n",
       "    <tr>\n",
       "      <th>6557</th>\n",
       "      <td>2014</td>\n",
       "      <td>GEN. SALMONELLA</td>\n",
       "      <td>TULATHROMYCIN</td>\n",
       "      <td>1.0</td>\n",
       "      <td>1</td>\n",
       "      <td>0</td>\n",
       "      <td>INJ</td>\n",
       "      <td>280000.0</td>\n",
       "      <td>784313.73</td>\n",
       "      <td>112044.82</td>\n",
       "      <td>INTERMEDIATE</td>\n",
       "    </tr>\n",
       "    <tr>\n",
       "      <th>6558</th>\n",
       "      <td>2014</td>\n",
       "      <td>STREPTOCOCCUS SUIS</td>\n",
       "      <td>TULATHROMYCIN</td>\n",
       "      <td>1.0</td>\n",
       "      <td>1</td>\n",
       "      <td>0</td>\n",
       "      <td>INJ</td>\n",
       "      <td>280000.0</td>\n",
       "      <td>784313.73</td>\n",
       "      <td>112044.82</td>\n",
       "      <td>RESISTANT</td>\n",
       "    </tr>\n",
       "    <tr>\n",
       "      <th>6559</th>\n",
       "      <td>2014</td>\n",
       "      <td>ESCHERICHIA COLI</td>\n",
       "      <td>TULATHROMYCIN</td>\n",
       "      <td>1.0</td>\n",
       "      <td>1</td>\n",
       "      <td>0</td>\n",
       "      <td>INJ</td>\n",
       "      <td>280000.0</td>\n",
       "      <td>784313.73</td>\n",
       "      <td>112044.82</td>\n",
       "      <td>RESISTANT</td>\n",
       "    </tr>\n",
       "    <tr>\n",
       "      <th>6560</th>\n",
       "      <td>2014</td>\n",
       "      <td>GEN. SALMONELLA</td>\n",
       "      <td>TULATHROMYCIN</td>\n",
       "      <td>1.0</td>\n",
       "      <td>1</td>\n",
       "      <td>0</td>\n",
       "      <td>INJ</td>\n",
       "      <td>280000.0</td>\n",
       "      <td>784313.73</td>\n",
       "      <td>112044.82</td>\n",
       "      <td>RESISTANT</td>\n",
       "    </tr>\n",
       "    <tr>\n",
       "      <th>6561</th>\n",
       "      <td>2014</td>\n",
       "      <td>GEN. STREPTOCOCCUS</td>\n",
       "      <td>TULATHROMYCIN</td>\n",
       "      <td>1.0</td>\n",
       "      <td>1</td>\n",
       "      <td>0</td>\n",
       "      <td>INJ</td>\n",
       "      <td>280000.0</td>\n",
       "      <td>784313.73</td>\n",
       "      <td>112044.82</td>\n",
       "      <td>RESISTANT</td>\n",
       "    </tr>\n",
       "    <tr>\n",
       "      <th>6562</th>\n",
       "      <td>2014</td>\n",
       "      <td>GEN. SALMONELLA</td>\n",
       "      <td>TULATHROMYCIN</td>\n",
       "      <td>1.0</td>\n",
       "      <td>1</td>\n",
       "      <td>0</td>\n",
       "      <td>INJ</td>\n",
       "      <td>280000.0</td>\n",
       "      <td>784313.73</td>\n",
       "      <td>112044.82</td>\n",
       "      <td>INTERMEDIATE</td>\n",
       "    </tr>\n",
       "    <tr>\n",
       "      <th>6563</th>\n",
       "      <td>2014</td>\n",
       "      <td>GEN. STAPHYLOCOCCUS</td>\n",
       "      <td>TULATHROMYCIN</td>\n",
       "      <td>1.0</td>\n",
       "      <td>1</td>\n",
       "      <td>0</td>\n",
       "      <td>INJ</td>\n",
       "      <td>95000.0</td>\n",
       "      <td>266106.44</td>\n",
       "      <td>38015.20</td>\n",
       "      <td>RESISTANT</td>\n",
       "    </tr>\n",
       "  </tbody>\n",
       "</table>\n",
       "<p>5930 rows × 11 columns</p>\n",
       "</div>"
      ],
      "text/plain": [
       "      Year                                   Bacteria Active_principle  Value  \\\n",
       "0     2014                           ESCHERICHIA COLI      PAROMOMYCIN    1.0   \n",
       "1     2014                         GEN. STREPTOCOCCUS      PAROMOMYCIN    1.0   \n",
       "2     2015                         GEN. STREPTOCOCCUS      PAROMOMYCIN    1.0   \n",
       "3     2015  ACTINOBACILLUS PLEUROPNEUMONIAE BIOTIPO 1      PAROMOMYCIN    1.0   \n",
       "4     2015                         GEN. STREPTOCOCCUS      PAROMOMYCIN    1.0   \n",
       "5     2015                      PASTEURELLA MULTOCIDA      PAROMOMYCIN    1.0   \n",
       "6     2015                           ESCHERICHIA COLI      PAROMOMYCIN    1.0   \n",
       "7     2015                 ESCHERICHIA COLI EMOLITICO      PAROMOMYCIN    1.0   \n",
       "8     2015                      PASTEURELLA MULTOCIDA      PAROMOMYCIN    1.0   \n",
       "9     2015                      PASTEURELLA MULTOCIDA      PAROMOMYCIN    1.0   \n",
       "10    2015                         STREPTOCOCCUS SUIS      PAROMOMYCIN    1.0   \n",
       "11    2015                         STREPTOCOCCUS SUIS      PAROMOMYCIN    1.0   \n",
       "12    2015                           ESCHERICHIA COLI      PAROMOMYCIN    1.0   \n",
       "13    2015                           ESCHERICHIA COLI      PAROMOMYCIN    1.0   \n",
       "14    2015                 ESCHERICHIA COLI EMOLITICO      PAROMOMYCIN    1.0   \n",
       "15    2015                 ESCHERICHIA COLI EMOLITICO      PAROMOMYCIN    1.0   \n",
       "16    2015                    CLOSTRIDIUM PERFRINGENS      PAROMOMYCIN    1.0   \n",
       "17    2015                           ESCHERICHIA COLI      PAROMOMYCIN    1.0   \n",
       "18    2015                         GEN. STREPTOCOCCUS      PAROMOMYCIN    1.0   \n",
       "19    2015                           ESCHERICHIA COLI      PAROMOMYCIN    1.0   \n",
       "20    2015                           ESCHERICHIA COLI      PAROMOMYCIN    1.0   \n",
       "21    2015                            GEN. SALMONELLA      PAROMOMYCIN    1.0   \n",
       "22    2015  ACTINOBACILLUS PLEUROPNEUMONIAE BIOTIPO 1      PAROMOMYCIN    1.0   \n",
       "23    2015                         GEN. STREPTOCOCCUS      PAROMOMYCIN    1.0   \n",
       "24    2015                         GEN. STREPTOCOCCUS      PAROMOMYCIN    1.0   \n",
       "25    2015                           ESCHERICHIA COLI      PAROMOMYCIN    1.0   \n",
       "26    2015                           GEN. PASTEURELLA      PAROMOMYCIN    1.0   \n",
       "27    2015                         GEN. STREPTOCOCCUS      PAROMOMYCIN    1.0   \n",
       "28    2015                           ESCHERICHIA COLI      PAROMOMYCIN    1.0   \n",
       "29    2015                           ESCHERICHIA COLI      PAROMOMYCIN    1.0   \n",
       "...    ...                                        ...              ...    ...   \n",
       "6534  2014                    CLOSTRIDIUM PERFRINGENS    TULATHROMYCIN    1.0   \n",
       "6535  2014                           ESCHERICHIA COLI    TULATHROMYCIN    1.0   \n",
       "6536  2014                           ESCHERICHIA COLI    TULATHROMYCIN    1.0   \n",
       "6537  2015                        GEN. ACTINOBACILLUS    TULATHROMYCIN    1.0   \n",
       "6538  2015                         GEN. STREPTOCOCCUS    TULATHROMYCIN    1.0   \n",
       "6539  2015                      PASTEURELLA MULTOCIDA    TULATHROMYCIN    1.0   \n",
       "6540  2015                    CLOSTRIDIUM PERFRINGENS    TULATHROMYCIN    1.0   \n",
       "6541  2015                           ESCHERICHIA COLI    TULATHROMYCIN    1.0   \n",
       "6542  2014  ACTINOBACILLUS PLEUROPNEUMONIAE BIOTIPO 1    TULATHROMYCIN    1.0   \n",
       "6543  2014                 ESCHERICHIA COLI EMOLITICO    TULATHROMYCIN    1.0   \n",
       "6544  2014                           ESCHERICHIA COLI    TULATHROMYCIN    1.0   \n",
       "6545  2014                         GEN. STREPTOCOCCUS    TULATHROMYCIN    1.0   \n",
       "6546  2014  ACTINOBACILLUS PLEUROPNEUMONIAE BIOTIPO 1    TULATHROMYCIN    1.0   \n",
       "6547  2014                         GEN. STREPTOCOCCUS    TULATHROMYCIN    1.0   \n",
       "6548  2014                         GEN. STREPTOCOCCUS    TULATHROMYCIN    1.0   \n",
       "6549  2014                       ACTINOMYCES PYOGENES    TULATHROMYCIN    1.0   \n",
       "6550  2014                 ESCHERICHIA COLI EMOLITICO    TULATHROMYCIN    1.0   \n",
       "6551  2014                      PASTEURELLA MULTOCIDA    TULATHROMYCIN    1.0   \n",
       "6552  2014                      PASTEURELLA MULTOCIDA    TULATHROMYCIN    1.0   \n",
       "6553  2014                         GEN. STREPTOCOCCUS    TULATHROMYCIN    1.0   \n",
       "6554  2014                            GEN. SALMONELLA    TULATHROMYCIN    1.0   \n",
       "6555  2014                            GEN. SALMONELLA    TULATHROMYCIN    1.0   \n",
       "6556  2014                            GEN. SALMONELLA    TULATHROMYCIN    1.0   \n",
       "6557  2014                            GEN. SALMONELLA    TULATHROMYCIN    1.0   \n",
       "6558  2014                         STREPTOCOCCUS SUIS    TULATHROMYCIN    1.0   \n",
       "6559  2014                           ESCHERICHIA COLI    TULATHROMYCIN    1.0   \n",
       "6560  2014                            GEN. SALMONELLA    TULATHROMYCIN    1.0   \n",
       "6561  2014                         GEN. STREPTOCOCCUS    TULATHROMYCIN    1.0   \n",
       "6562  2014                            GEN. SALMONELLA    TULATHROMYCIN    1.0   \n",
       "6563  2014                        GEN. STAPHYLOCOCCUS    TULATHROMYCIN    1.0   \n",
       "\n",
       "      Open_cycle  Close_cycle Type_of_medication  Active_principle_mg  \\\n",
       "0              1            0                INJ             656250.0   \n",
       "1              1            0                INJ             656250.0   \n",
       "2              1            0                INJ              43750.0   \n",
       "3              1            0                INJ              43750.0   \n",
       "4              1            0                INJ              43750.0   \n",
       "5              1            0                INJ              43750.0   \n",
       "6              1            0                INJ              43750.0   \n",
       "7              0            0          ORAL SOLU            1000000.0   \n",
       "8              1            0                INJ              43750.0   \n",
       "9              1            0             PREMIX             400000.0   \n",
       "10             1            0                INJ              43750.0   \n",
       "11             1            0             PREMIX             400000.0   \n",
       "12             1            0                INJ              43750.0   \n",
       "13             1            0             PREMIX             400000.0   \n",
       "14             1            0                INJ              43750.0   \n",
       "15             1            0             PREMIX             400000.0   \n",
       "16             1            0                INJ            2931250.0   \n",
       "17             1            0                INJ            2931250.0   \n",
       "18             1            0                INJ            2931250.0   \n",
       "19             1            0                INJ            2931250.0   \n",
       "20             1            0                INJ            2931250.0   \n",
       "21             1            0                INJ            2931250.0   \n",
       "22             1            0                INJ            2931250.0   \n",
       "23             1            0                INJ            2931250.0   \n",
       "24             1            0                INJ            2931250.0   \n",
       "25             1            0                INJ            2931250.0   \n",
       "26             1            0                INJ            2931250.0   \n",
       "27             1            0                INJ            2931250.0   \n",
       "28             1            0                INJ            2931250.0   \n",
       "29             1            0                INJ            2931250.0   \n",
       "...          ...          ...                ...                  ...   \n",
       "6534           1            0                INJ             120000.0   \n",
       "6535           1            0                INJ             120000.0   \n",
       "6536           1            0                INJ             120000.0   \n",
       "6537           1            0                INJ             330000.0   \n",
       "6538           1            0                INJ             330000.0   \n",
       "6539           1            0                INJ             330000.0   \n",
       "6540           1            0                INJ             330000.0   \n",
       "6541           1            0                INJ             330000.0   \n",
       "6542           1            0                INJ             175000.0   \n",
       "6543           1            0                INJ             175000.0   \n",
       "6544           1            0                INJ             175000.0   \n",
       "6545           1            0                INJ             175000.0   \n",
       "6546           1            0                INJ             175000.0   \n",
       "6547           1            0                INJ             175000.0   \n",
       "6548           1            0                INJ             175000.0   \n",
       "6549           1            0                INJ             175000.0   \n",
       "6550           0            0                INJ             150000.0   \n",
       "6551           0            0                INJ             150000.0   \n",
       "6552           0            0                INJ             150000.0   \n",
       "6553           0            0                INJ             150000.0   \n",
       "6554           1            0                INJ             280000.0   \n",
       "6555           1            0                INJ             280000.0   \n",
       "6556           1            0                INJ             280000.0   \n",
       "6557           1            0                INJ             280000.0   \n",
       "6558           1            0                INJ             280000.0   \n",
       "6559           1            0                INJ             280000.0   \n",
       "6560           1            0                INJ             280000.0   \n",
       "6561           1            0                INJ             280000.0   \n",
       "6562           1            0                INJ             280000.0   \n",
       "6563           1            0                INJ              95000.0   \n",
       "\n",
       "           DDDA       DCDA        Result  \n",
       "0      44948.63   11237.16     SENSITIVE  \n",
       "1      44948.63   11237.16     RESISTANT  \n",
       "2       4166.67    1041.67  INTERMEDIATE  \n",
       "3       4166.67    1041.67     RESISTANT  \n",
       "4       4166.67    1041.67  INTERMEDIATE  \n",
       "5       4166.67    1041.67     SENSITIVE  \n",
       "6       4166.67    1041.67     RESISTANT  \n",
       "7      30769.23    7692.31     SENSITIVE  \n",
       "8       2996.58     749.14     SENSITIVE  \n",
       "9      12307.70    3076.92     SENSITIVE  \n",
       "10      2996.58     749.14     RESISTANT  \n",
       "11     12307.70    3076.92     RESISTANT  \n",
       "12      2996.58     749.14     RESISTANT  \n",
       "13     12307.70    3076.92     RESISTANT  \n",
       "14      2996.58     749.14     RESISTANT  \n",
       "15     12307.70    3076.92     RESISTANT  \n",
       "16    279166.67   69791.67     RESISTANT  \n",
       "17    279166.67   69791.67     SENSITIVE  \n",
       "18    279166.67   69791.67     RESISTANT  \n",
       "19    279166.67   69791.67     SENSITIVE  \n",
       "20    279166.67   69791.67     SENSITIVE  \n",
       "21    279166.67   69791.67  INTERMEDIATE  \n",
       "22    279166.67   69791.67     SENSITIVE  \n",
       "23    279166.67   69791.67     SENSITIVE  \n",
       "24    279166.67   69791.67     RESISTANT  \n",
       "25    279166.67   69791.67     SENSITIVE  \n",
       "26    279166.67   69791.67     SENSITIVE  \n",
       "27    279166.67   69791.67  INTERMEDIATE  \n",
       "28    279166.67   69791.67     SENSITIVE  \n",
       "29    279166.67   69791.67     SENSITIVE  \n",
       "...         ...        ...           ...  \n",
       "6534  336134.45   48019.21     RESISTANT  \n",
       "6535  336134.45   48019.21     RESISTANT  \n",
       "6536  336134.45   48019.21  INTERMEDIATE  \n",
       "6537  924369.75  132052.82     RESISTANT  \n",
       "6538  924369.75  132052.82     RESISTANT  \n",
       "6539  924369.75  132052.82  INTERMEDIATE  \n",
       "6540  924369.75  132052.82     RESISTANT  \n",
       "6541  924369.75  132052.82     RESISTANT  \n",
       "6542  490196.08   70028.01     RESISTANT  \n",
       "6543  490196.08   70028.01     RESISTANT  \n",
       "6544  490196.08   70028.01     RESISTANT  \n",
       "6545  490196.08   70028.01     RESISTANT  \n",
       "6546  490196.08   70028.01     RESISTANT  \n",
       "6547  490196.08   70028.01     RESISTANT  \n",
       "6548  490196.08   70028.01     RESISTANT  \n",
       "6549  490196.08   70028.01     RESISTANT  \n",
       "6550  420168.06   60024.01     SENSITIVE  \n",
       "6551  420168.06   60024.01     SENSITIVE  \n",
       "6552  420168.06   60024.01     RESISTANT  \n",
       "6553  420168.06   60024.01     RESISTANT  \n",
       "6554  784313.73  112044.82     RESISTANT  \n",
       "6555  784313.73  112044.82  INTERMEDIATE  \n",
       "6556  784313.73  112044.82  INTERMEDIATE  \n",
       "6557  784313.73  112044.82  INTERMEDIATE  \n",
       "6558  784313.73  112044.82     RESISTANT  \n",
       "6559  784313.73  112044.82     RESISTANT  \n",
       "6560  784313.73  112044.82     RESISTANT  \n",
       "6561  784313.73  112044.82     RESISTANT  \n",
       "6562  784313.73  112044.82  INTERMEDIATE  \n",
       "6563  266106.44   38015.20     RESISTANT  \n",
       "\n",
       "[5930 rows x 11 columns]"
      ]
     },
     "execution_count": 55,
     "metadata": {},
     "output_type": "execute_result"
    }
   ],
   "source": [
    "dataset"
   ]
  },
  {
   "cell_type": "code",
   "execution_count": 114,
   "metadata": {},
   "outputs": [
    {
     "data": {
      "text/html": [
       "<div>\n",
       "<style>\n",
       "    .dataframe thead tr:only-child th {\n",
       "        text-align: right;\n",
       "    }\n",
       "\n",
       "    .dataframe thead th {\n",
       "        text-align: left;\n",
       "    }\n",
       "\n",
       "    .dataframe tbody tr th {\n",
       "        vertical-align: top;\n",
       "    }\n",
       "</style>\n",
       "<table border=\"1\" class=\"dataframe\">\n",
       "  <thead>\n",
       "    <tr style=\"text-align: right;\">\n",
       "      <th></th>\n",
       "      <th>Year</th>\n",
       "      <th>Farm_ID</th>\n",
       "      <th>Bacteria</th>\n",
       "      <th>Kind</th>\n",
       "      <th>Active_principle</th>\n",
       "      <th>Value</th>\n",
       "      <th>Open_cycle</th>\n",
       "      <th>Close_cycle</th>\n",
       "      <th>Type_of_medication</th>\n",
       "      <th>Active_principle_mg</th>\n",
       "      <th>DDDA</th>\n",
       "      <th>DCDA</th>\n",
       "      <th>Result</th>\n",
       "    </tr>\n",
       "  </thead>\n",
       "  <tbody>\n",
       "    <tr>\n",
       "      <th>0</th>\n",
       "      <td>2014</td>\n",
       "      <td>002MN008</td>\n",
       "      <td>ESCHERICHIA COLI</td>\n",
       "      <td>SUINO</td>\n",
       "      <td>PAROMOMYCIN</td>\n",
       "      <td>1.0</td>\n",
       "      <td>1</td>\n",
       "      <td>0</td>\n",
       "      <td>INJ</td>\n",
       "      <td>656250.0</td>\n",
       "      <td>44948.63</td>\n",
       "      <td>11237.16</td>\n",
       "      <td>SENSITIVE</td>\n",
       "    </tr>\n",
       "    <tr>\n",
       "      <th>1</th>\n",
       "      <td>2014</td>\n",
       "      <td>002MN008</td>\n",
       "      <td>GEN. STREPTOCOCCUS</td>\n",
       "      <td>SUINO</td>\n",
       "      <td>PAROMOMYCIN</td>\n",
       "      <td>1.0</td>\n",
       "      <td>1</td>\n",
       "      <td>0</td>\n",
       "      <td>INJ</td>\n",
       "      <td>656250.0</td>\n",
       "      <td>44948.63</td>\n",
       "      <td>11237.16</td>\n",
       "      <td>RESISTANT</td>\n",
       "    </tr>\n",
       "    <tr>\n",
       "      <th>2</th>\n",
       "      <td>2015</td>\n",
       "      <td>003PC001</td>\n",
       "      <td>GEN. STREPTOCOCCUS</td>\n",
       "      <td>SUINO</td>\n",
       "      <td>PAROMOMYCIN</td>\n",
       "      <td>1.0</td>\n",
       "      <td>1</td>\n",
       "      <td>0</td>\n",
       "      <td>INJ</td>\n",
       "      <td>43750.0</td>\n",
       "      <td>4166.67</td>\n",
       "      <td>1041.67</td>\n",
       "      <td>INTERMEDIATE</td>\n",
       "    </tr>\n",
       "    <tr>\n",
       "      <th>3</th>\n",
       "      <td>2015</td>\n",
       "      <td>003PC001</td>\n",
       "      <td>ACTINOBACILLUS PLEUROPNEUMONIAE BIOTIPO 1</td>\n",
       "      <td>SUINO</td>\n",
       "      <td>PAROMOMYCIN</td>\n",
       "      <td>1.0</td>\n",
       "      <td>1</td>\n",
       "      <td>0</td>\n",
       "      <td>INJ</td>\n",
       "      <td>43750.0</td>\n",
       "      <td>4166.67</td>\n",
       "      <td>1041.67</td>\n",
       "      <td>RESISTANT</td>\n",
       "    </tr>\n",
       "    <tr>\n",
       "      <th>4</th>\n",
       "      <td>2015</td>\n",
       "      <td>003PC001</td>\n",
       "      <td>GEN. STREPTOCOCCUS</td>\n",
       "      <td>SUINO</td>\n",
       "      <td>PAROMOMYCIN</td>\n",
       "      <td>1.0</td>\n",
       "      <td>1</td>\n",
       "      <td>0</td>\n",
       "      <td>INJ</td>\n",
       "      <td>43750.0</td>\n",
       "      <td>4166.67</td>\n",
       "      <td>1041.67</td>\n",
       "      <td>INTERMEDIATE</td>\n",
       "    </tr>\n",
       "  </tbody>\n",
       "</table>\n",
       "</div>"
      ],
      "text/plain": [
       "   Year   Farm_ID                                   Bacteria   Kind  \\\n",
       "0  2014  002MN008                           ESCHERICHIA COLI  SUINO   \n",
       "1  2014  002MN008                         GEN. STREPTOCOCCUS  SUINO   \n",
       "2  2015  003PC001                         GEN. STREPTOCOCCUS  SUINO   \n",
       "3  2015  003PC001  ACTINOBACILLUS PLEUROPNEUMONIAE BIOTIPO 1  SUINO   \n",
       "4  2015  003PC001                         GEN. STREPTOCOCCUS  SUINO   \n",
       "\n",
       "  Active_principle  Value  Open_cycle  Close_cycle Type_of_medication  \\\n",
       "0      PAROMOMYCIN    1.0           1            0                INJ   \n",
       "1      PAROMOMYCIN    1.0           1            0                INJ   \n",
       "2      PAROMOMYCIN    1.0           1            0                INJ   \n",
       "3      PAROMOMYCIN    1.0           1            0                INJ   \n",
       "4      PAROMOMYCIN    1.0           1            0                INJ   \n",
       "\n",
       "   Active_principle_mg      DDDA      DCDA        Result  \n",
       "0             656250.0  44948.63  11237.16     SENSITIVE  \n",
       "1             656250.0  44948.63  11237.16     RESISTANT  \n",
       "2              43750.0   4166.67   1041.67  INTERMEDIATE  \n",
       "3              43750.0   4166.67   1041.67     RESISTANT  \n",
       "4              43750.0   4166.67   1041.67  INTERMEDIATE  "
      ]
     },
     "execution_count": 114,
     "metadata": {},
     "output_type": "execute_result"
    }
   ],
   "source": [
    "dataset_with_identity.head()"
   ]
  },
  {
   "cell_type": "markdown",
   "metadata": {},
   "source": [
    "##### DEALING WITH THE CATEGORICAL DATA / Label Encoder"
   ]
  },
  {
   "cell_type": "markdown",
   "metadata": {},
   "source": [
    "One-hot Encoder increases the accuracy of the models more than Label Encoder. For this reason, I will keep the One-Hot Encoder rather than Label Encoder."
   ]
  },
  {
   "cell_type": "code",
   "execution_count": 115,
   "metadata": {
    "collapsed": true
   },
   "outputs": [],
   "source": [
    "pd.options.mode.chained_assignment = None\n",
    "\n",
    "#le_Bacteria = preprocessing.LabelEncoder()\n",
    "#le_Active_principle = preprocessing.LabelEncoder()\n",
    "#le_Type_of_medication = preprocessing.LabelEncoder()\n",
    "#le_Result = preprocessing.LabelEncoder()\n",
    "#le_Year = preprocessing.LabelEncoder()\n",
    "#le_Kind = preprocessing.LabelEncoder()\n",
    "#le_Farm_ID = preprocessing.LabelEncoder()\n",
    "\n",
    "\n",
    "#dataset['Bacteria'] = le_Bacteria.fit_transform(dataset['Bacteria'])\n",
    "#dataset['Active_principle'] = le_Active_principle.fit_transform(dataset['Active_principle'])\n",
    "#dataset['Type_of_medication'] = le_Type_of_medication.fit_transform(dataset['Type_of_medication'])\n",
    "#dataset['Result'] = le_Result.fit_transform(dataset['Result'])\n",
    "#dataset['Kind'] = le_Kind.fit_transform(dataset['Kind'])\n",
    "#dataset['Farm_ID'] = le_Farm_ID.fit_transform(dataset['Farm_ID'])\n",
    "#dataset['Year'] = le_Year.fit_transform(dataset['Year'])"
   ]
  },
  {
   "cell_type": "code",
   "execution_count": 117,
   "metadata": {},
   "outputs": [],
   "source": [
    "# For dataset_with_identity with identity\n",
    "\n",
    "le_Bacteria = preprocessing.LabelEncoder()\n",
    "le_Active_principle = preprocessing.LabelEncoder()\n",
    "le_Type_of_medication = preprocessing.LabelEncoder()\n",
    "le_Result = preprocessing.LabelEncoder()\n",
    "le_Year = preprocessing.LabelEncoder()\n",
    "le_Kind = preprocessing.LabelEncoder()\n",
    "le_Farm_ID = preprocessing.LabelEncoder()\n",
    "\n",
    "\n",
    "dataset_with_identity['Bacteria'] = le_Bacteria.fit_transform(dataset_with_identity['Bacteria'])\n",
    "dataset_with_identity['Active_principle'] = le_Active_principle.fit_transform(dataset_with_identity['Active_principle'])\n",
    "dataset_with_identity['Type_of_medication'] = le_Type_of_medication.fit_transform(dataset_with_identity['Type_of_medication'])\n",
    "dataset_with_identity['Result'] = le_Result.fit_transform(dataset_with_identity['Result'])\n",
    "dataset_with_identity['Kind'] = le_Kind.fit_transform(dataset_with_identity['Kind'])\n",
    "dataset_with_identity['Farm_ID'] = le_Farm_ID.fit_transform(dataset_with_identity['Farm_ID'])\n",
    "dataset_with_identity['Year'] = le_Year.fit_transform(dataset_with_identity['Year'])"
   ]
  },
  {
   "cell_type": "markdown",
   "metadata": {},
   "source": [
    "##### SPLITTING THE DATA"
   ]
  },
  {
   "cell_type": "code",
   "execution_count": 118,
   "metadata": {
    "collapsed": true
   },
   "outputs": [],
   "source": [
    "X = dataset_with_identity.loc[:, 'Year':'DCDA']\n",
    "Y = dataset_with_identity[['Result']]"
   ]
  },
  {
   "cell_type": "code",
   "execution_count": 119,
   "metadata": {
    "collapsed": true
   },
   "outputs": [],
   "source": [
    "X_train, X_test, Y_train, Y_test = train_test_split(X, Y, test_size=0.1)"
   ]
  },
  {
   "cell_type": "code",
   "execution_count": 120,
   "metadata": {},
   "outputs": [
    {
     "name": "stdout",
     "output_type": "stream",
     "text": [
      "(5337, 12)\n",
      "(593, 12)\n",
      "(5337, 1)\n",
      "(593, 1)\n"
     ]
    }
   ],
   "source": [
    "print(X_train.shape)\n",
    "print(X_test.shape)\n",
    "print(Y_train.shape)\n",
    "print(Y_test.shape)"
   ]
  },
  {
   "cell_type": "markdown",
   "metadata": {},
   "source": [
    "### FEATURE ENGINEERING"
   ]
  },
  {
   "cell_type": "markdown",
   "metadata": {},
   "source": [
    "Statistical tests can be used to select those features that have the strongest relationship with the output variable.\n",
    "\n",
    "The scikit-learn library provides the SelectKBest class that can be used with a suite of different statistical tests to select a specific number of features.\n",
    "\n",
    "The chi squared statistical test for non-negative features to select 4 of the best features."
   ]
  },
  {
   "cell_type": "code",
   "execution_count": 121,
   "metadata": {
    "collapsed": true
   },
   "outputs": [],
   "source": [
    "#exogenes = dataset[['Bacteria', 'Active_principle', 'Value', 'Open_cycle',\n",
    "#       'Close_cycle', 'Type_of_medication','Active_principle_mg', 'DDDA', 'DCDA', 'Year', 'Kind', 'Farm_ID']]\n",
    "#target = dataset[['Result']]"
   ]
  },
  {
   "cell_type": "code",
   "execution_count": 122,
   "metadata": {},
   "outputs": [
    {
     "name": "stdout",
     "output_type": "stream",
     "text": [
      "[  1.269e+00   5.974e+02   2.810e+01   2.601e+00   1.350e+03   9.524e+00\n",
      "   1.019e+00   4.351e+00   2.447e+02   1.499e+10   8.574e+08   1.559e+08]\n",
      "[[  1.300e+01   6.562e+05   4.495e+04   1.124e+04]\n",
      " [  1.300e+01   6.562e+05   4.495e+04   1.124e+04]\n",
      " [  1.300e+01   4.375e+04   4.167e+03   1.042e+03]\n",
      " [  1.300e+01   4.375e+04   4.167e+03   1.042e+03]\n",
      " [  1.300e+01   4.375e+04   4.167e+03   1.042e+03]]\n"
     ]
    }
   ],
   "source": [
    "# Feature Extraction with Univariate Statistical Tests (Chi-squared for classification)\n",
    "\n",
    "unvariate = SelectKBest(score_func=chi2, k=4)\n",
    "unvariate_fit = unvariate.fit(X, Y)\n",
    "# summarize scores\n",
    "np.set_printoptions(precision=3)\n",
    "print(unvariate_fit.scores_)\n",
    "features = unvariate_fit.transform(X)\n",
    "#summarize selected features\n",
    "print(features[0:5,:])     #VALUE, DDDA AND THE CLOSE CYCLE, ADDITIONALLY BACTERIA"
   ]
  },
  {
   "cell_type": "code",
   "execution_count": 62,
   "metadata": {},
   "outputs": [
    {
     "name": "stdout",
     "output_type": "stream",
     "text": [
      "Num Features: 4\n",
      "Selected Features: [False False False  True  True  True  True False False False]\n",
      "Feature Ranking: [3 4 2 1 1 1 1 7 6 5]\n"
     ]
    }
   ],
   "source": [
    "# Feature Extraction with RFE\n",
    "import warnings\n",
    "warnings.filterwarnings(\"ignore\", category=FutureWarning)\n",
    "\n",
    "model = LogisticRegression(penalty='l1')\n",
    "rfe = RFE(model, 4)\n",
    "rfe_fit = rfe.fit(X, Y.values.ravel())\n",
    "print((\"Num Features: %d\") % (rfe_fit.n_features_))\n",
    "print((\"Selected Features: %s\") % rfe_fit.support_)\n",
    "print((\"Feature Ranking: %s\") % rfe_fit.ranking_) #L1 VALUE, OPEN CYCLE, CLOSE CYCLE, TYPE OF MEDICATION"
   ]
  },
  {
   "cell_type": "code",
   "execution_count": 63,
   "metadata": {},
   "outputs": [
    {
     "name": "stdout",
     "output_type": "stream",
     "text": [
      "Num Features: 4\n",
      "Selected Features: [False  True  True False False False False False  True  True]\n",
      "Feature Ranking: [3 1 1 4 6 7 5 2 1 1]\n"
     ]
    }
   ],
   "source": [
    "model = LogisticRegression(penalty='l2')\n",
    "rfe = RFE(model, 4)\n",
    "rfe_fit = rfe.fit(X, Y.values.ravel())\n",
    "print((\"Num Features: %d\") % (rfe_fit.n_features_))\n",
    "print((\"Selected Features: %s\") % rfe_fit.support_)\n",
    "print((\"Feature Ranking: %s\") % rfe_fit.ranking_) #L2 BACTERIA, ACTIVE PRINCIPLE, DDDA and DCDA"
   ]
  },
  {
   "cell_type": "code",
   "execution_count": 64,
   "metadata": {},
   "outputs": [
    {
     "name": "stdout",
     "output_type": "stream",
     "text": [
      "Explained Variance: [  9.984e-01   1.579e-03   2.194e-05   1.219e-14]\n",
      "[[ -7.704e-10  -1.037e-09  -5.904e-09  -2.617e-10  -4.236e-10  -5.978e-11\n",
      "    5.598e-09   9.965e-01   8.205e-02   1.656e-02]\n",
      " [ -2.954e-09  -4.055e-08   2.394e-07   4.048e-08  -1.714e-10  -1.735e-10\n",
      "    1.817e-08  -8.370e-02   9.736e-01   2.126e-01]\n",
      " [ -6.712e-08  -3.506e-07   2.010e-06   1.743e-07  -3.163e-08  -5.774e-09\n",
      "    5.256e-07  -1.321e-03   2.132e-01  -9.770e-01]\n",
      " [  6.730e-03   1.657e-02  -9.997e-01  -6.155e-03  -1.138e-03   1.591e-04\n",
      "   -1.655e-02  -2.858e-08   6.656e-07  -1.928e-06]]\n"
     ]
    }
   ],
   "source": [
    "# Feature Extraction with PCA\n",
    "pca = PCA(n_components=4)\n",
    "pca_fit = pca.fit(X)\n",
    "# summarize components\n",
    "print((\"Explained Variance: %s\") % pca_fit.explained_variance_ratio_)\n",
    "print(pca_fit.components_)"
   ]
  },
  {
   "cell_type": "code",
   "execution_count": 65,
   "metadata": {},
   "outputs": [
    {
     "name": "stdout",
     "output_type": "stream",
     "text": [
      "[ 0.047  0.375  0.162  0.026  0.02   0.005  0.055  0.103  0.1    0.106]\n"
     ]
    }
   ],
   "source": [
    "# Feature Importance with Extra Trees Classifier\n",
    "etc_model = ExtraTreesClassifier()\n",
    "etc_model.fit(X, Y.values.ravel())\n",
    "print(etc_model.feature_importances_) #"
   ]
  },
  {
   "cell_type": "markdown",
   "metadata": {},
   "source": [
    "### MODELS"
   ]
  },
  {
   "cell_type": "markdown",
   "metadata": {},
   "source": [
    "For the advanced analytics, I selected 3 models to apply for. These are: Naives Bayes Classifier, K-Nearest Neighbor Classifier and Random Forest Classifier.\n",
    "\n",
    "To find the best model and best "
   ]
  },
  {
   "cell_type": "code",
   "execution_count": 76,
   "metadata": {},
   "outputs": [
    {
     "name": "stdout",
     "output_type": "stream",
     "text": [
      "Accuracy of SSS, on the training set:0.886\n",
      "Accuracy of SSS, on the test set:0.637\n"
     ]
    }
   ],
   "source": [
    "sss = SVC(C=100)\n",
    "sss.fit(X_train, Y_train.values.ravel())\n",
    "sss.predict(X_test)\n",
    "sss.score(X_test, Y_test)\n",
    "print('Accuracy of SSS, on the training set:{:.3f}'.format(sss.score(X_train, Y_train)))\n",
    "print('Accuracy of SSS, on the test set:{:.3f}'.format(sss.score(X_test, Y_test)))"
   ]
  },
  {
   "cell_type": "code",
   "execution_count": 66,
   "metadata": {},
   "outputs": [
    {
     "name": "stdout",
     "output_type": "stream",
     "text": [
      "Accuracy of KNN, on the training set:0.740\n",
      "Accuracy of KNN, on the test set:0.604\n"
     ]
    }
   ],
   "source": [
    "knn = KNeighborsClassifier()\n",
    "knn.fit(X_train, Y_train.values.ravel())\n",
    "knn.predict(X_test)\n",
    "knn.score(X_test, Y_test)\n",
    "print('Accuracy of KNN, on the training set:{:.3f}'.format(knn.score(X_train, Y_train)))\n",
    "print('Accuracy of KNN, on the test set:{:.3f}'.format(knn.score(X_test, Y_test)))"
   ]
  },
  {
   "cell_type": "code",
   "execution_count": 67,
   "metadata": {
    "collapsed": true
   },
   "outputs": [],
   "source": [
    "# Preparing dictionaries to compare the classifiers\n",
    "# K-Nearest Neighbor Classifier\n",
    "KNN_dict = {\"n_neighbors\" : [2,3,5]}\n",
    "# Random Forest Classifier\n",
    "RFC_dict = {\"n_estimators\": [100,150,200], \"max_depth\": [3,50,100], \"min_samples_split\": [2,3,4]}\n",
    "# Support Vector Machine Classifier\n",
    "SVC_dict = { \"C\": [0.1, 0.5, 1, 5, 10, 50, 100] , \"kernel\": ['linear', 'rbf', 'sigmoid'] }\n"
   ]
  },
  {
   "cell_type": "code",
   "execution_count": 68,
   "metadata": {},
   "outputs": [
    {
     "name": "stdout",
     "output_type": "stream",
     "text": [
      "[ 0.589  0.611  0.616]\n",
      "Max average score : 0.615513409366\n",
      "Best n_neighbors value :  5\n"
     ]
    }
   ],
   "source": [
    "matrix2 = np.zeros((len(KNN_dict[\"n_neighbors\"])))\n",
    "for i in range(len(KNN_dict[\"n_neighbors\"])):\n",
    "    n = KNN_dict[\"n_neighbors\"][i]\n",
    "    clf2 = KNeighborsClassifier(n_neighbors= n)\n",
    "    scores2 = cross_val_score(clf2, X_train, Y_train.values.ravel(), cv=3, scoring='accuracy')\n",
    "    matrix2[i] = sum(scores2)/len(scores2)\n",
    "print(matrix2)\n",
    "print(\"Max average score :\", matrix2.max())\n",
    "i = np.unravel_index(matrix2.argmax(), matrix2.shape)\n",
    "print(\"Best n_neighbors value : \", KNN_dict[\"n_neighbors\"][i[0]])"
   ]
  },
  {
   "cell_type": "code",
   "execution_count": 79,
   "metadata": {},
   "outputs": [
    {
     "name": "stdout",
     "output_type": "stream",
     "text": [
      "[ 0.721  0.735  0.724]\n",
      "[[[ 0.66   0.655  0.66 ]\n",
      "  [ 0.718  0.725  0.727]\n",
      "  [ 0.719  0.721  0.73 ]]\n",
      "\n",
      " [[ 0.651  0.656  0.664]\n",
      "  [ 0.719  0.723  0.726]\n",
      "  [ 0.717  0.726  0.726]]\n",
      "\n",
      " [[ 0.658  0.657  0.659]\n",
      "  [ 0.72   0.724  0.729]\n",
      "  [ 0.721  0.725  0.727]]]\n",
      "Max average score : 0.729812066948\n",
      "Best n_estimators value :  100\n",
      "Best max_depth value :  100\n",
      "Best min_samples_split value :  4\n"
     ]
    }
   ],
   "source": [
    "matrix3 = np.zeros((len(RFC_dict[\"n_estimators\"]),len(RFC_dict[\"max_depth\"]),len(RFC_dict[\"min_samples_split\"])))\n",
    "for i in range(len(RFC_dict[\"n_estimators\"])):\n",
    "    s = RFC_dict[\"n_estimators\"][i]\n",
    "    for j in range(len(RFC_dict[\"max_depth\"])):\n",
    "        m = RFC_dict[\"max_depth\"][j]\n",
    "        for z in range(len(RFC_dict[\"min_samples_split\"])):\n",
    "            mi = RFC_dict[\"min_samples_split\"][z]\n",
    "            clf3 = RandomForestClassifier(n_estimators= s, max_depth= m, min_samples_split = mi)\n",
    "            scores3 = cross_val_score(clf3, X_train, Y_train.values.ravel(), cv=3, scoring='accuracy')\n",
    "            matrix3[i][j][z] = sum(scores3)/len(scores3)\n",
    "print(scores3)\n",
    "print(matrix3)\n",
    "print(\"Max average score :\", matrix3.max())\n",
    "i,j,z = np.unravel_index(matrix3.argmax(), matrix3.shape)\n",
    "print(\"Best n_estimators value : \", RFC_dict[\"n_estimators\"][i])\n",
    "print(\"Best max_depth value : \", RFC_dict[\"max_depth\"][j])\n",
    "print(\"Best min_samples_split value : \", RFC_dict[\"min_samples_split\"][z])"
   ]
  },
  {
   "cell_type": "code",
   "execution_count": null,
   "metadata": {
    "collapsed": true
   },
   "outputs": [],
   "source": [
    "matrix4 = np.zeros((len(SVC_dict[\"C\"]),len(SVC_dict[\"kernel\"])))\n",
    "for i in range(len(SVC_dict[\"C\"])):\n",
    "    c = SVC_dict[\"C\"][i]\n",
    "    for j in range(len(SVC_dict[\"kernel\"])):\n",
    "        k = SVC_dict[\"kernel\"][j]\n",
    "        clf4 = SVC(kernel = k, C = c)\n",
    "        scores4 = cross_val_score(clf4, X_train, Y_train.values.ravel(), cv=3, scoring='accuracy')\n",
    "        matrix4[i][j] = sum(scores4)/len(scores4)\n",
    "print(matrix4)\n",
    "print(\"Max average score :\", matrix4.max())\n",
    "i,j = np.unravel_index(matrix4.argmax(), matrix4.shape)\n",
    "print(\"Best C value : \", SVC_dict[\"C\"][i])\n",
    "print(\"Best kernel value : \", SVC_dict[\"kernel\"][j])"
   ]
  },
  {
   "cell_type": "markdown",
   "metadata": {},
   "source": [
    "##### PREDICTION WITH THE BEST MODEL"
   ]
  },
  {
   "cell_type": "code",
   "execution_count": 81,
   "metadata": {},
   "outputs": [
    {
     "name": "stdout",
     "output_type": "stream",
     "text": [
      "Best scores among the matrices: 0.729812066948 of the matrix (1,)\n"
     ]
    }
   ],
   "source": [
    "best_scores = np.array([matrix2.max(),matrix3.max()])\n",
    "i = np.unravel_index(best_scores.argmax(), best_scores.shape)\n",
    "best_scores\n",
    "print(\"Best scores among the matrices:\", best_scores[i], \"of the matrix\", i)"
   ]
  },
  {
   "cell_type": "code",
   "execution_count": 83,
   "metadata": {},
   "outputs": [],
   "source": [
    "X_train, X_test, Y_train, Y_test = train_test_split(X, Y, test_size=0.4, random_state=0, stratify = Y)"
   ]
  },
  {
   "cell_type": "code",
   "execution_count": 87,
   "metadata": {},
   "outputs": [
    {
     "name": "stderr",
     "output_type": "stream",
     "text": [
      "/Users/aydanselek/anaconda3/lib/python3.6/site-packages/ipykernel_launcher.py:1: DataConversionWarning: A column-vector y was passed when a 1d array was expected. Please change the shape of y to (n_samples,), for example using ravel().\n",
      "  \"\"\"Entry point for launching an IPython kernel.\n"
     ]
    },
    {
     "name": "stdout",
     "output_type": "stream",
     "text": [
      "Accuracy of Selected Classifier, on the training set:0.888\n",
      "Accuracy of Selected Classifier, on the test set:0.721\n"
     ]
    }
   ],
   "source": [
    "best_classifier = RandomForestClassifier(n_estimators= 100, max_depth= 100, min_samples_split = 4).fit(X_train, Y_train)\n",
    "best_classifier.fit(X_train, Y_train.values.ravel())\n",
    "prediction = best_classifier.predict(X_test)\n",
    "print('Accuracy of Selected Classifier, on the training set:{:.3f}'.format(best_classifier.score(X_train, Y_train.values.ravel())))\n",
    "print('Accuracy of Selected Classifier, on the test set:{:.3f}'.format(best_classifier.score(X_test, Y_test.values.ravel())))"
   ]
  },
  {
   "cell_type": "code",
   "execution_count": 89,
   "metadata": {},
   "outputs": [
    {
     "name": "stdout",
     "output_type": "stream",
     "text": [
      "[[ 15  68  74]\n",
      " [ 16 840 248]\n",
      " [ 27 229 855]]\n"
     ]
    },
    {
     "data": {
      "image/png": "[encoded data removed]",
      "text/plain": [
       "<Figure size 288x288 with 2 Axes>"
      ]
     },
     "metadata": {},
     "output_type": "display_data"
    }
   ],
   "source": [
    "confusionmatrix = confusion_matrix(Y_test, prediction)\n",
    "print(confusionmatrix)\n",
    "plt.matshow(confusionmatrix)\n",
    "plt.title('Confusion matrix')\n",
    "plt.colorbar()\n",
    "plt.ylabel('True label')\n",
    "plt.xlabel('Predicted label')\n",
    "plt.show() "
   ]
  },
  {
   "cell_type": "code",
   "execution_count": 96,
   "metadata": {},
   "outputs": [
    {
     "data": {
      "text/html": [
       "<div>\n",
       "<style>\n",
       "    .dataframe thead tr:only-child th {\n",
       "        text-align: right;\n",
       "    }\n",
       "\n",
       "    .dataframe thead th {\n",
       "        text-align: left;\n",
       "    }\n",
       "\n",
       "    .dataframe tbody tr th {\n",
       "        vertical-align: top;\n",
       "    }\n",
       "</style>\n",
       "<table border=\"1\" class=\"dataframe\">\n",
       "  <thead>\n",
       "    <tr style=\"text-align: right;\">\n",
       "      <th></th>\n",
       "      <th>Year</th>\n",
       "      <th>Bacteria</th>\n",
       "      <th>Active_principle</th>\n",
       "      <th>Value</th>\n",
       "      <th>Open_cycle</th>\n",
       "      <th>Close_cycle</th>\n",
       "      <th>Type_of_medication</th>\n",
       "      <th>Active_principle_mg</th>\n",
       "      <th>DDDA</th>\n",
       "      <th>DCDA</th>\n",
       "      <th>Result</th>\n",
       "    </tr>\n",
       "  </thead>\n",
       "  <tbody>\n",
       "    <tr>\n",
       "      <th>Year</th>\n",
       "      <td>1.000000</td>\n",
       "      <td>-0.068004</td>\n",
       "      <td>-0.056202</td>\n",
       "      <td>0.003607</td>\n",
       "      <td>0.129868</td>\n",
       "      <td>-0.012705</td>\n",
       "      <td>0.007995</td>\n",
       "      <td>-0.058684</td>\n",
       "      <td>-0.057181</td>\n",
       "      <td>-0.048992</td>\n",
       "      <td>0.009095</td>\n",
       "    </tr>\n",
       "    <tr>\n",
       "      <th>Bacteria</th>\n",
       "      <td>-0.068004</td>\n",
       "      <td>1.000000</td>\n",
       "      <td>-0.006473</td>\n",
       "      <td>-0.023149</td>\n",
       "      <td>-0.052612</td>\n",
       "      <td>0.050005</td>\n",
       "      <td>0.011465</td>\n",
       "      <td>-0.010569</td>\n",
       "      <td>-0.016846</td>\n",
       "      <td>-0.012456</td>\n",
       "      <td>0.041298</td>\n",
       "    </tr>\n",
       "    <tr>\n",
       "      <th>Active_principle</th>\n",
       "      <td>-0.056202</td>\n",
       "      <td>-0.006473</td>\n",
       "      <td>1.000000</td>\n",
       "      <td>0.115287</td>\n",
       "      <td>0.016082</td>\n",
       "      <td>-0.005473</td>\n",
       "      <td>0.074090</td>\n",
       "      <td>-0.053268</td>\n",
       "      <td>-0.010517</td>\n",
       "      <td>-0.028321</td>\n",
       "      <td>-0.206521</td>\n",
       "    </tr>\n",
       "    <tr>\n",
       "      <th>Value</th>\n",
       "      <td>0.003607</td>\n",
       "      <td>-0.023149</td>\n",
       "      <td>0.115287</td>\n",
       "      <td>1.000000</td>\n",
       "      <td>-0.044515</td>\n",
       "      <td>-0.007720</td>\n",
       "      <td>0.279958</td>\n",
       "      <td>-0.034872</td>\n",
       "      <td>0.059988</td>\n",
       "      <td>0.037749</td>\n",
       "      <td>0.103622</td>\n",
       "    </tr>\n",
       "    <tr>\n",
       "      <th>Open_cycle</th>\n",
       "      <td>0.129868</td>\n",
       "      <td>-0.052612</td>\n",
       "      <td>0.016082</td>\n",
       "      <td>-0.044515</td>\n",
       "      <td>1.000000</td>\n",
       "      <td>-0.249497</td>\n",
       "      <td>-0.063936</td>\n",
       "      <td>-0.052628</td>\n",
       "      <td>-0.048159</td>\n",
       "      <td>-0.041480</td>\n",
       "      <td>0.013432</td>\n",
       "    </tr>\n",
       "    <tr>\n",
       "      <th>Close_cycle</th>\n",
       "      <td>-0.012705</td>\n",
       "      <td>0.050005</td>\n",
       "      <td>-0.005473</td>\n",
       "      <td>-0.007720</td>\n",
       "      <td>-0.249497</td>\n",
       "      <td>1.000000</td>\n",
       "      <td>-0.057074</td>\n",
       "      <td>-0.022244</td>\n",
       "      <td>-0.021331</td>\n",
       "      <td>-0.017967</td>\n",
       "      <td>0.013966</td>\n",
       "    </tr>\n",
       "    <tr>\n",
       "      <th>Type_of_medication</th>\n",
       "      <td>0.007995</td>\n",
       "      <td>0.011465</td>\n",
       "      <td>0.074090</td>\n",
       "      <td>0.279958</td>\n",
       "      <td>-0.063936</td>\n",
       "      <td>-0.057074</td>\n",
       "      <td>1.000000</td>\n",
       "      <td>0.241515</td>\n",
       "      <td>0.232982</td>\n",
       "      <td>0.197280</td>\n",
       "      <td>-0.090255</td>\n",
       "    </tr>\n",
       "    <tr>\n",
       "      <th>Active_principle_mg</th>\n",
       "      <td>-0.058684</td>\n",
       "      <td>-0.010569</td>\n",
       "      <td>-0.053268</td>\n",
       "      <td>-0.034872</td>\n",
       "      <td>-0.052628</td>\n",
       "      <td>-0.022244</td>\n",
       "      <td>0.241515</td>\n",
       "      <td>1.000000</td>\n",
       "      <td>0.902867</td>\n",
       "      <td>0.863281</td>\n",
       "      <td>-0.070218</td>\n",
       "    </tr>\n",
       "    <tr>\n",
       "      <th>DDDA</th>\n",
       "      <td>-0.057181</td>\n",
       "      <td>-0.016846</td>\n",
       "      <td>-0.010517</td>\n",
       "      <td>0.059988</td>\n",
       "      <td>-0.048159</td>\n",
       "      <td>-0.021331</td>\n",
       "      <td>0.232982</td>\n",
       "      <td>0.902867</td>\n",
       "      <td>1.000000</td>\n",
       "      <td>0.967801</td>\n",
       "      <td>-0.058289</td>\n",
       "    </tr>\n",
       "    <tr>\n",
       "      <th>DCDA</th>\n",
       "      <td>-0.048992</td>\n",
       "      <td>-0.012456</td>\n",
       "      <td>-0.028321</td>\n",
       "      <td>0.037749</td>\n",
       "      <td>-0.041480</td>\n",
       "      <td>-0.017967</td>\n",
       "      <td>0.197280</td>\n",
       "      <td>0.863281</td>\n",
       "      <td>0.967801</td>\n",
       "      <td>1.000000</td>\n",
       "      <td>-0.053613</td>\n",
       "    </tr>\n",
       "    <tr>\n",
       "      <th>Result</th>\n",
       "      <td>0.009095</td>\n",
       "      <td>0.041298</td>\n",
       "      <td>-0.206521</td>\n",
       "      <td>0.103622</td>\n",
       "      <td>0.013432</td>\n",
       "      <td>0.013966</td>\n",
       "      <td>-0.090255</td>\n",
       "      <td>-0.070218</td>\n",
       "      <td>-0.058289</td>\n",
       "      <td>-0.053613</td>\n",
       "      <td>1.000000</td>\n",
       "    </tr>\n",
       "  </tbody>\n",
       "</table>\n",
       "</div>"
      ],
      "text/plain": [
       "                         Year  Bacteria  Active_principle     Value  \\\n",
       "Year                 1.000000 -0.068004         -0.056202  0.003607   \n",
       "Bacteria            -0.068004  1.000000         -0.006473 -0.023149   \n",
       "Active_principle    -0.056202 -0.006473          1.000000  0.115287   \n",
       "Value                0.003607 -0.023149          0.115287  1.000000   \n",
       "Open_cycle           0.129868 -0.052612          0.016082 -0.044515   \n",
       "Close_cycle         -0.012705  0.050005         -0.005473 -0.007720   \n",
       "Type_of_medication   0.007995  0.011465          0.074090  0.279958   \n",
       "Active_principle_mg -0.058684 -0.010569         -0.053268 -0.034872   \n",
       "DDDA                -0.057181 -0.016846         -0.010517  0.059988   \n",
       "DCDA                -0.048992 -0.012456         -0.028321  0.037749   \n",
       "Result               0.009095  0.041298         -0.206521  0.103622   \n",
       "\n",
       "                     Open_cycle  Close_cycle  Type_of_medication  \\\n",
       "Year                   0.129868    -0.012705            0.007995   \n",
       "Bacteria              -0.052612     0.050005            0.011465   \n",
       "Active_principle       0.016082    -0.005473            0.074090   \n",
       "Value                 -0.044515    -0.007720            0.279958   \n",
       "Open_cycle             1.000000    -0.249497           -0.063936   \n",
       "Close_cycle           -0.249497     1.000000           -0.057074   \n",
       "Type_of_medication    -0.063936    -0.057074            1.000000   \n",
       "Active_principle_mg   -0.052628    -0.022244            0.241515   \n",
       "DDDA                  -0.048159    -0.021331            0.232982   \n",
       "DCDA                  -0.041480    -0.017967            0.197280   \n",
       "Result                 0.013432     0.013966           -0.090255   \n",
       "\n",
       "                     Active_principle_mg      DDDA      DCDA    Result  \n",
       "Year                           -0.058684 -0.057181 -0.048992  0.009095  \n",
       "Bacteria                       -0.010569 -0.016846 -0.012456  0.041298  \n",
       "Active_principle               -0.053268 -0.010517 -0.028321 -0.206521  \n",
       "Value                          -0.034872  0.059988  0.037749  0.103622  \n",
       "Open_cycle                     -0.052628 -0.048159 -0.041480  0.013432  \n",
       "Close_cycle                    -0.022244 -0.021331 -0.017967  0.013966  \n",
       "Type_of_medication              0.241515  0.232982  0.197280 -0.090255  \n",
       "Active_principle_mg             1.000000  0.902867  0.863281 -0.070218  \n",
       "DDDA                            0.902867  1.000000  0.967801 -0.058289  \n",
       "DCDA                            0.863281  0.967801  1.000000 -0.053613  \n",
       "Result                         -0.070218 -0.058289 -0.053613  1.000000  "
      ]
     },
     "execution_count": 96,
     "metadata": {},
     "output_type": "execute_result"
    }
   ],
   "source": [
    "dataset.corr()"
   ]
  },
  {
   "cell_type": "code",
   "execution_count": 97,
   "metadata": {},
   "outputs": [
    {
     "data": {
      "image/png": "[encoded data removed]",
      "text/plain": [
       "<Figure size 288x288 with 1 Axes>"
      ]
     },
     "metadata": {},
     "output_type": "display_data"
    }
   ],
   "source": [
    "plt.matshow(dataset.corr())\n",
    "plt.show()"
   ]
  },
  {
   "cell_type": "code",
   "execution_count": 94,
   "metadata": {
    "collapsed": true
   },
   "outputs": [],
   "source": [
    "writer1 = pd.ExcelWriter('all_data.xlsx')\n",
    "all_data.to_excel(writer1,'Sheet1')\n",
    "writer1.save()"
   ]
  },
  {
   "cell_type": "code",
   "execution_count": 95,
   "metadata": {
    "collapsed": true
   },
   "outputs": [],
   "source": [
    "writer2 = pd.ExcelWriter('dataset.xlsx')\n",
    "dataset.to_excel(writer2,'Sheet1')\n",
    "writer2.save()"
   ]
  },
  {
   "cell_type": "code",
   "execution_count": null,
   "metadata": {
    "collapsed": true
   },
   "outputs": [],
   "source": []
  }
 ],
 "metadata": {
  "kernelspec": {
   "display_name": "Python 3",
   "language": "python",
   "name": "python3"
  },
  "language_info": {
   "codemirror_mode": {
    "name": "ipython",
    "version": 3
   },
   "file_extension": ".py",
   "mimetype": "text/x-python",
   "name": "python",
   "nbconvert_exporter": "python",
   "pygments_lexer": "ipython3",
   "version": "3.6.3"
  }
 },
 "nbformat": 4,
 "nbformat_minor": 2
}
