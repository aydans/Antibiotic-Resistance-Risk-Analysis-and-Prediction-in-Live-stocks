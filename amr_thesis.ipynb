{
 "cells": [
  {
   "cell_type": "markdown",
   "metadata": {},
   "source": [
    "# AMR RISK CLASSIFICATION IN LIVE-STOCKS"
   ]
  },
  {
   "cell_type": "markdown",
   "metadata": {},
   "source": [
    "### DATA PRE-PROCESSESING\n",
    "\n",
    "In this first part of the notebook, the needed pre-processing has been performed in order prepare the data for the analysis."
   ]
  },
  {
   "cell_type": "code",
   "execution_count": 1,
   "metadata": {},
   "outputs": [
    {
     "name": "stderr",
     "output_type": "stream",
     "text": [
      "/Users/aydanselek/anaconda3/lib/python3.6/site-packages/matplotlib/__init__.py:1003: UserWarning: Duplicate key in file \"/Users/aydanselek/.matplotlib/matplotlibrc\", line #2\n",
      "  (fname, cnt))\n"
     ]
    }
   ],
   "source": [
    "# LIBRARIES\n",
    "\n",
    "# Basics\n",
    "import pandas as pd\n",
    "from datetime import datetime\n",
    "import numpy as np\n",
    "import matplotlib.pyplot as plt\n",
    "%matplotlib inline\n",
    "from matplotlib import cm\n",
    "import math\n",
    "import pylab as pl\n",
    "\n",
    "\n",
    "# Scikit learn - models\n",
    "from sklearn import metrics\n",
    "from sklearn.naive_bayes import GaussianNB\n",
    "from sklearn.neighbors import KNeighborsClassifier\n",
    "from sklearn.ensemble import RandomForestClassifier\n",
    "from sklearn.svm import SVC\n",
    "from sklearn.model_selection import train_test_split\n",
    "from sklearn.model_selection import cross_val_score\n",
    "from sklearn.linear_model import LogisticRegression # used for RFE\n",
    "from sklearn import preprocessing\n",
    "from sklearn.metrics import confusion_matrix\n",
    "from sklearn.model_selection import cross_val_score\n",
    "from sklearn.model_selection import cross_val_predict\n",
    "from sklearn.model_selection import KFold\n",
    "from sklearn.calibration import calibration_curve\n",
    "\n",
    "\n",
    "# Scikit learn - feature engineering \n",
    "from sklearn.feature_selection import SelectKBest\n",
    "from sklearn.feature_selection import chi2\n",
    "from sklearn.feature_selection import RFE\n",
    "from sklearn.decomposition import PCA\n",
    "from sklearn.ensemble import ExtraTreesClassifier"
   ]
  },
  {
   "cell_type": "markdown",
   "metadata": {},
   "source": [
    "##### READ THE DATA"
   ]
  },
  {
   "cell_type": "markdown",
   "metadata": {},
   "source": [
    "There are 5 different datasets: 3 of them are for the AMR test results and 2 of them are for the antibitic consumption. They are collected / extracted from database in various formats and years."
   ]
  },
  {
   "cell_type": "code",
   "execution_count": 2,
   "metadata": {
    "collapsed": true
   },
   "outputs": [],
   "source": [
    "# read all test data I have\n",
    "amr_data1 = pd.read_csv(\"New_test_data.txt\", sep=\"\\t\", header=None) #2002-2015\n",
    "amr_data2 = pd.read_excel(\"AMR data.xlsx\") #2018\n",
    "amr_data3 = pd.read_excel(\"AMR data 2017.xlsx\") #2017"
   ]
  },
  {
   "cell_type": "code",
   "execution_count": 3,
   "metadata": {
    "collapsed": true
   },
   "outputs": [],
   "source": [
    "# read all consumption data I have\n",
    "consumption_data1 = pd.read_excel('consumption_2013.xlsx') #2013\n",
    "consumption_data2 = pd.read_csv('Drug Consumption data.csv') #2014-2017"
   ]
  },
  {
   "cell_type": "markdown",
   "metadata": {},
   "source": [
    "##### RENAMING THE COLUMNS AND DIMENTION REDUCTION"
   ]
  },
  {
   "cell_type": "markdown",
   "metadata": {},
   "source": [
    "It is needed to fix the same names across different datasets. This chunk of the code serves also for keeping the needed columns v.v. droping the unnecessary columns."
   ]
  },
  {
   "cell_type": "code",
   "execution_count": 4,
   "metadata": {
    "collapsed": true
   },
   "outputs": [],
   "source": [
    "# amr_data1\n",
    "amr_data1 = amr_data1.rename(index=str, columns={0: \"Year\", 6:\"Active_principle\", 7:\"Farm_ID\", 9:\"Result\", 10:\"Bacteria\", 12:\"Kind\"}) # this data was without header, renaming of columns \n",
    "amr_data1 = amr_data1[['Year', 'Active_principle', 'Farm_ID', 'Result', 'Bacteria', 'Kind']] # the columns I need\n",
    "amr_data1 = amr_data1.loc[amr_data1['Kind'].isin(['SUINO', 'SUINO - SVEZZAMENTO', 'SUINO - SOTTOSCROFA', 'SUINO - MAGRONE', 'SUINO - SCROFETTA', 'SUINO - INGRASSO', 'SUINO - SCROFA', 'SUINO - VERRO', 'SUINO DI RAZZA MORA', 'SUINO DI RAZZA CINTA SENESE'])] # Only Suino"
   ]
  },
  {
   "cell_type": "code",
   "execution_count": 5,
   "metadata": {
    "collapsed": true
   },
   "outputs": [],
   "source": [
    "# amr_data2\n",
    "amr_data2 = amr_data2.rename(index=str, columns={'AnnoConferimento': \"Year\", 'Antibiotico':\"Active_principle\", 'Codice_Allevix':\"Farm_ID\", 'Risultato':\"Result\", 'AgenteEziologico':\"Bacteria\", 'Specie':\"Kind\"}) # this data was with italian header, renaming of columns \n",
    "amr_data2 = amr_data2[['Year', 'Active_principle', 'Farm_ID', 'Result', 'Bacteria', 'Kind']] # the columns I need\n",
    "amr_data2 = amr_data2.loc[amr_data2['Kind'].isin(['SUINO', 'SUINO - SVEZZAMENTO', 'SUINO - SOTTOSCROFA', 'SUINO - MAGRONE', 'SUINO - SCROFETTA', 'SUINO - INGRASSO', 'SUINO - SCROFA'])] # Only Suino"
   ]
  },
  {
   "cell_type": "code",
   "execution_count": 6,
   "metadata": {
    "collapsed": true
   },
   "outputs": [],
   "source": [
    "# amr_data3\n",
    "amr_data3 = amr_data3.rename(index=str, columns={'AnnoConferimento': \"Year\", 'Antibiotico':\"Active_principle\", 'Codice_Allevix':\"Farm_ID\", 'Risultato':\"Result\", 'AgenteEziologico':\"Bacteria\", 'Specie':\"Kind\"}) # this data was with italian header, renaming of columns \n",
    "amr_data3 = amr_data3[['Year', 'Active_principle', 'Farm_ID', 'Result', 'Bacteria', 'Kind']] # the columns I need\n",
    "amr_data3 = amr_data3.loc[amr_data3['Kind'].isin(['SUINO', 'SUINO - SVEZZAMENTO', 'SUINO - SOTTOSCROFA', 'SUINO - MAGRONE', 'SUINO - SCROFETTA', 'SUINO - INGRASSO', 'SUINO - SCROFA', 'SUINO - VERRO'])] # Only Suino"
   ]
  },
  {
   "cell_type": "code",
   "execution_count": 7,
   "metadata": {
    "collapsed": true
   },
   "outputs": [],
   "source": [
    "# consumption_data1\n",
    "consumption_data1 = consumption_data1[['PK_Somministrazione', 'IdAllevamento', 'Year', 'CicloAperto', 'CicloChiuso', \n",
    "                     'Sito1', 'Sito3', 'TipoFarmaco', 'Target', 'PrincipioAttivo', 'PrincipioSomministratoMg',\n",
    "                     'DDDA_Mille','DCDA_Mille']] # the columns I need\n",
    "\n",
    "consumption_data1 = consumption_data1.rename(index=str, columns={'Year': \"Year\", 'PK_Somministrazione':\"PK_Somministrazione\", 'IdAllevamento':\"Farm_ID\", 'PrincipioAttivo':\"Active_principle\", 'CicloAperto': 'Open_cycle', 'CicloChiuso': 'Close_cycle', \n",
    "                     'Sito1': 'Site1', 'Sito3': 'Site3', 'TipoFarmaco': 'Type_of_medication', 'Target': 'Target', 'PrincipioSomministratoMg': 'Active_principle_mg',\n",
    "                     'DDDA_Mille': 'DDDA','DCDA_Mille': 'DCDA'}) # rename in English"
   ]
  },
  {
   "cell_type": "code",
   "execution_count": 8,
   "metadata": {
    "collapsed": true
   },
   "outputs": [],
   "source": [
    "# consumption_data2\n",
    "consumption_data2 = consumption_data2[['PK_Somministrazione', 'IdAllevamento', 'n_AnnoSomm', 'CicloAperto', 'CicloChiuso', \n",
    "                     'Sito1', 'Sito3', 'TipoFarmaco', 'Target', 'PrincipioAttivo', 'PrincipioSomministratoMg',\n",
    "                     'DDDA_Mille','DCDA_Mille']] # the columns I need\n",
    "\n",
    "consumption_data2 = consumption_data2.rename(index=str, columns={'n_AnnoSomm': \"Year\", 'PK_Somministrazione':\"PK_Somministrazione\", 'IdAllevamento':\"Farm_ID\", 'PrincipioAttivo':\"Active_principle\", 'CicloAperto': 'Open_cycle', 'CicloChiuso': 'Close_cycle', \n",
    "                     'Sito1': 'Site1', 'Sito3': 'Site3', 'TipoFarmaco': 'Type_of_medication', 'Target': 'Target', 'PrincipioSomministratoMg': 'Active_principle_mg',\n",
    "                     'DDDA_Mille': 'DDDA','DCDA_Mille': 'DCDA'}) # rename in English"
   ]
  },
  {
   "cell_type": "markdown",
   "metadata": {},
   "source": [
    "##### UPPERCASE"
   ]
  },
  {
   "cell_type": "markdown",
   "metadata": {},
   "source": [
    "All the values in string need to turn in uppercase to unify the format."
   ]
  },
  {
   "cell_type": "code",
   "execution_count": 9,
   "metadata": {
    "collapsed": true
   },
   "outputs": [],
   "source": [
    "amr_data1 = amr_data1.applymap(lambda s:s.upper() if type(s) == str else s)\n",
    "amr_data2 = amr_data2.applymap(lambda s:s.upper() if type(s) == str else s)\n",
    "amr_data3 = amr_data3.applymap(lambda s:s.upper() if type(s) == str else s)"
   ]
  },
  {
   "cell_type": "code",
   "execution_count": 10,
   "metadata": {
    "collapsed": true
   },
   "outputs": [],
   "source": [
    "consumption_data1 = consumption_data1.applymap(lambda s:s.upper() if type(s) == str else s)\n",
    "consumption_data2 = consumption_data2.applymap(lambda s:s.upper() if type(s) == str else s)"
   ]
  },
  {
   "cell_type": "markdown",
   "metadata": {},
   "source": [
    "##### MERGING ALL THE AMR TEST DATA AND THE CONSUMPTION DATA"
   ]
  },
  {
   "cell_type": "markdown",
   "metadata": {},
   "source": [
    "The AMR test results data and the antibiotic consumption data can be merged in two datesets."
   ]
  },
  {
   "cell_type": "code",
   "execution_count": 11,
   "metadata": {
    "collapsed": true
   },
   "outputs": [],
   "source": [
    "frames = [amr_data1, amr_data2, amr_data3]\n",
    "amr_data = pd.concat(frames, ignore_index=True)"
   ]
  },
  {
   "cell_type": "code",
   "execution_count": 12,
   "metadata": {},
   "outputs": [
    {
     "data": {
      "text/html": [
       "<div>\n",
       "<style>\n",
       "    .dataframe thead tr:only-child th {\n",
       "        text-align: right;\n",
       "    }\n",
       "\n",
       "    .dataframe thead th {\n",
       "        text-align: left;\n",
       "    }\n",
       "\n",
       "    .dataframe tbody tr th {\n",
       "        vertical-align: top;\n",
       "    }\n",
       "</style>\n",
       "<table border=\"1\" class=\"dataframe\">\n",
       "  <thead>\n",
       "    <tr style=\"text-align: right;\">\n",
       "      <th></th>\n",
       "      <th>Year</th>\n",
       "      <th>Active_principle</th>\n",
       "      <th>Farm_ID</th>\n",
       "      <th>Result</th>\n",
       "      <th>Bacteria</th>\n",
       "      <th>Kind</th>\n",
       "    </tr>\n",
       "  </thead>\n",
       "  <tbody>\n",
       "    <tr>\n",
       "      <th>0</th>\n",
       "      <td>2013</td>\n",
       "      <td>AMINOSIDINA</td>\n",
       "      <td>000EX000</td>\n",
       "      <td>RESISTENTE</td>\n",
       "      <td>ESCHERICHIA COLI EMOLITICO</td>\n",
       "      <td>SUINO</td>\n",
       "    </tr>\n",
       "    <tr>\n",
       "      <th>1</th>\n",
       "      <td>2013</td>\n",
       "      <td>APRAMICINA</td>\n",
       "      <td>000EX000</td>\n",
       "      <td>RESISTENTE</td>\n",
       "      <td>ESCHERICHIA COLI EMOLITICO</td>\n",
       "      <td>SUINO</td>\n",
       "    </tr>\n",
       "    <tr>\n",
       "      <th>2</th>\n",
       "      <td>2013</td>\n",
       "      <td>CEFQUINOME</td>\n",
       "      <td>000EX000</td>\n",
       "      <td>SENSIBILE</td>\n",
       "      <td>ESCHERICHIA COLI EMOLITICO</td>\n",
       "      <td>SUINO</td>\n",
       "    </tr>\n",
       "    <tr>\n",
       "      <th>3</th>\n",
       "      <td>2013</td>\n",
       "      <td>CEFTIOFUR</td>\n",
       "      <td>000EX000</td>\n",
       "      <td>SENSIBILE</td>\n",
       "      <td>ESCHERICHIA COLI EMOLITICO</td>\n",
       "      <td>SUINO</td>\n",
       "    </tr>\n",
       "    <tr>\n",
       "      <th>4</th>\n",
       "      <td>2013</td>\n",
       "      <td>COLISTINA</td>\n",
       "      <td>000EX000</td>\n",
       "      <td>SENSIBILE</td>\n",
       "      <td>ESCHERICHIA COLI EMOLITICO</td>\n",
       "      <td>SUINO</td>\n",
       "    </tr>\n",
       "  </tbody>\n",
       "</table>\n",
       "</div>"
      ],
      "text/plain": [
       "   Year Active_principle   Farm_ID      Result                    Bacteria  \\\n",
       "0  2013      AMINOSIDINA  000EX000  RESISTENTE  ESCHERICHIA COLI EMOLITICO   \n",
       "1  2013       APRAMICINA  000EX000  RESISTENTE  ESCHERICHIA COLI EMOLITICO   \n",
       "2  2013       CEFQUINOME  000EX000   SENSIBILE  ESCHERICHIA COLI EMOLITICO   \n",
       "3  2013        CEFTIOFUR  000EX000   SENSIBILE  ESCHERICHIA COLI EMOLITICO   \n",
       "4  2013        COLISTINA  000EX000   SENSIBILE  ESCHERICHIA COLI EMOLITICO   \n",
       "\n",
       "    Kind  \n",
       "0  SUINO  \n",
       "1  SUINO  \n",
       "2  SUINO  \n",
       "3  SUINO  \n",
       "4  SUINO  "
      ]
     },
     "execution_count": 12,
     "metadata": {},
     "output_type": "execute_result"
    }
   ],
   "source": [
    "amr_data.head()"
   ]
  },
  {
   "cell_type": "code",
   "execution_count": 13,
   "metadata": {
    "collapsed": true
   },
   "outputs": [],
   "source": [
    "frames2 = [consumption_data1, consumption_data2]\n",
    "consumption_data = pd.concat(frames2, ignore_index=True)"
   ]
  },
  {
   "cell_type": "code",
   "execution_count": 14,
   "metadata": {},
   "outputs": [
    {
     "data": {
      "text/html": [
       "<div>\n",
       "<style>\n",
       "    .dataframe thead tr:only-child th {\n",
       "        text-align: right;\n",
       "    }\n",
       "\n",
       "    .dataframe thead th {\n",
       "        text-align: left;\n",
       "    }\n",
       "\n",
       "    .dataframe tbody tr th {\n",
       "        vertical-align: top;\n",
       "    }\n",
       "</style>\n",
       "<table border=\"1\" class=\"dataframe\">\n",
       "  <thead>\n",
       "    <tr style=\"text-align: right;\">\n",
       "      <th></th>\n",
       "      <th>PK_Somministrazione</th>\n",
       "      <th>Farm_ID</th>\n",
       "      <th>Year</th>\n",
       "      <th>Open_cycle</th>\n",
       "      <th>Close_cycle</th>\n",
       "      <th>Site1</th>\n",
       "      <th>Site3</th>\n",
       "      <th>Type_of_medication</th>\n",
       "      <th>Target</th>\n",
       "      <th>Active_principle</th>\n",
       "      <th>Active_principle_mg</th>\n",
       "      <th>DDDA</th>\n",
       "      <th>DCDA</th>\n",
       "    </tr>\n",
       "  </thead>\n",
       "  <tbody>\n",
       "    <tr>\n",
       "      <th>0</th>\n",
       "      <td>327</td>\n",
       "      <td>001MN006</td>\n",
       "      <td>2013</td>\n",
       "      <td>0</td>\n",
       "      <td>0</td>\n",
       "      <td>0</td>\n",
       "      <td>0</td>\n",
       "      <td>INJ</td>\n",
       "      <td>---</td>\n",
       "      <td>AMPICILLIN</td>\n",
       "      <td>23825.0</td>\n",
       "      <td>2500.00</td>\n",
       "      <td>1250.00</td>\n",
       "    </tr>\n",
       "    <tr>\n",
       "      <th>1</th>\n",
       "      <td>327</td>\n",
       "      <td>001MN006</td>\n",
       "      <td>2013</td>\n",
       "      <td>0</td>\n",
       "      <td>0</td>\n",
       "      <td>0</td>\n",
       "      <td>0</td>\n",
       "      <td>INJ</td>\n",
       "      <td>---</td>\n",
       "      <td>DICLOXACILLIN</td>\n",
       "      <td>11950.0</td>\n",
       "      <td>2500.00</td>\n",
       "      <td>1250.00</td>\n",
       "    </tr>\n",
       "    <tr>\n",
       "      <th>2</th>\n",
       "      <td>328</td>\n",
       "      <td>001MN006</td>\n",
       "      <td>2013</td>\n",
       "      <td>0</td>\n",
       "      <td>0</td>\n",
       "      <td>0</td>\n",
       "      <td>0</td>\n",
       "      <td>ORAL POWD</td>\n",
       "      <td>---</td>\n",
       "      <td>DOXYCYCLINE</td>\n",
       "      <td>1000000.0</td>\n",
       "      <td>100000.00</td>\n",
       "      <td>20000.00</td>\n",
       "    </tr>\n",
       "    <tr>\n",
       "      <th>3</th>\n",
       "      <td>329</td>\n",
       "      <td>001MN006</td>\n",
       "      <td>2013</td>\n",
       "      <td>0</td>\n",
       "      <td>0</td>\n",
       "      <td>0</td>\n",
       "      <td>0</td>\n",
       "      <td>INJ</td>\n",
       "      <td>---</td>\n",
       "      <td>FLORFENICOL</td>\n",
       "      <td>75000.0</td>\n",
       "      <td>10000.00</td>\n",
       "      <td>2500.00</td>\n",
       "    </tr>\n",
       "    <tr>\n",
       "      <th>4</th>\n",
       "      <td>330</td>\n",
       "      <td>001MN006</td>\n",
       "      <td>2013</td>\n",
       "      <td>0</td>\n",
       "      <td>0</td>\n",
       "      <td>0</td>\n",
       "      <td>0</td>\n",
       "      <td>PREMIX</td>\n",
       "      <td>---</td>\n",
       "      <td>COLISTIN</td>\n",
       "      <td>1440000.0</td>\n",
       "      <td>261818.18</td>\n",
       "      <td>29090.91</td>\n",
       "    </tr>\n",
       "  </tbody>\n",
       "</table>\n",
       "</div>"
      ],
      "text/plain": [
       "   PK_Somministrazione   Farm_ID  Year  Open_cycle  Close_cycle  Site1  Site3  \\\n",
       "0                  327  001MN006  2013           0            0      0      0   \n",
       "1                  327  001MN006  2013           0            0      0      0   \n",
       "2                  328  001MN006  2013           0            0      0      0   \n",
       "3                  329  001MN006  2013           0            0      0      0   \n",
       "4                  330  001MN006  2013           0            0      0      0   \n",
       "\n",
       "  Type_of_medication Target Active_principle  Active_principle_mg       DDDA  \\\n",
       "0                INJ    ---       AMPICILLIN              23825.0    2500.00   \n",
       "1                INJ    ---    DICLOXACILLIN              11950.0    2500.00   \n",
       "2          ORAL POWD    ---      DOXYCYCLINE            1000000.0  100000.00   \n",
       "3                INJ    ---      FLORFENICOL              75000.0   10000.00   \n",
       "4             PREMIX    ---         COLISTIN            1440000.0  261818.18   \n",
       "\n",
       "       DCDA  \n",
       "0   1250.00  \n",
       "1   1250.00  \n",
       "2  20000.00  \n",
       "3   2500.00  \n",
       "4  29090.91  "
      ]
     },
     "execution_count": 14,
     "metadata": {},
     "output_type": "execute_result"
    }
   ],
   "source": [
    "consumption_data.head()"
   ]
  },
  {
   "cell_type": "markdown",
   "metadata": {},
   "source": [
    "##### ACTIVE PRINCIPLE CELANING AND THE IMPORTANCE OF THE ANTIBIOTICS "
   ]
  },
  {
   "cell_type": "markdown",
   "metadata": {},
   "source": [
    "The amr_data has some problems for the active principle which cannot be solvable in an automated manner. Some of the active principle are in Italian language, some of them are in English language. There are typos which is not easy to understand typo of which language. More over there are some active principle which are translated not in a proper way. \n",
    "Because of these problems I collected all unique values of \"Active Principle\" to create a mapping excel with right names. This will let me compare the active principle across the datasets.\n",
    "More over, I added to this excel another column where I classified the importance of the active priciples, such as;\n",
    "1 - VCIA: Veterinary Critically Important Antimicrobials \n",
    "2 - VHIA: Veterinary Highly Important Antimicrobials \n",
    "3 - VIA: Veterinary Important Antimicrobials"
   ]
  },
  {
   "cell_type": "code",
   "execution_count": 15,
   "metadata": {
    "collapsed": true
   },
   "outputs": [],
   "source": [
    "active_principle_info = pd.read_excel(\"Active_principle_map.xlsx\")"
   ]
  },
  {
   "cell_type": "code",
   "execution_count": 16,
   "metadata": {},
   "outputs": [
    {
     "data": {
      "text/html": [
       "<div>\n",
       "<style>\n",
       "    .dataframe thead tr:only-child th {\n",
       "        text-align: right;\n",
       "    }\n",
       "\n",
       "    .dataframe thead th {\n",
       "        text-align: left;\n",
       "    }\n",
       "\n",
       "    .dataframe tbody tr th {\n",
       "        vertical-align: top;\n",
       "    }\n",
       "</style>\n",
       "<table border=\"1\" class=\"dataframe\">\n",
       "  <thead>\n",
       "    <tr style=\"text-align: right;\">\n",
       "      <th></th>\n",
       "      <th>Active_principle</th>\n",
       "      <th>English_name</th>\n",
       "      <th>Value</th>\n",
       "    </tr>\n",
       "  </thead>\n",
       "  <tbody>\n",
       "    <tr>\n",
       "      <th>0</th>\n",
       "      <td>ACIDO FUSIDICO</td>\n",
       "      <td>FUSIDIC ACID</td>\n",
       "      <td>3.0</td>\n",
       "    </tr>\n",
       "    <tr>\n",
       "      <th>1</th>\n",
       "      <td>ACIDO NALIDIXICO</td>\n",
       "      <td>NALIDIXIC ACID</td>\n",
       "      <td>2.0</td>\n",
       "    </tr>\n",
       "    <tr>\n",
       "      <th>2</th>\n",
       "      <td>ACIDO OXOLINICO</td>\n",
       "      <td>OXOLINIC ACID</td>\n",
       "      <td>2.0</td>\n",
       "    </tr>\n",
       "    <tr>\n",
       "      <th>3</th>\n",
       "      <td>AMIKACINA</td>\n",
       "      <td>AMIKACIN</td>\n",
       "      <td>1.0</td>\n",
       "    </tr>\n",
       "    <tr>\n",
       "      <th>4</th>\n",
       "      <td>AMINOSIDINA</td>\n",
       "      <td>PAROMOMYCIN</td>\n",
       "      <td>1.0</td>\n",
       "    </tr>\n",
       "  </tbody>\n",
       "</table>\n",
       "</div>"
      ],
      "text/plain": [
       "   Active_principle    English_name  Value\n",
       "0    ACIDO FUSIDICO    FUSIDIC ACID    3.0\n",
       "1  ACIDO NALIDIXICO  NALIDIXIC ACID    2.0\n",
       "2   ACIDO OXOLINICO   OXOLINIC ACID    2.0\n",
       "3         AMIKACINA        AMIKACIN    1.0\n",
       "4       AMINOSIDINA     PAROMOMYCIN    1.0"
      ]
     },
     "execution_count": 16,
     "metadata": {},
     "output_type": "execute_result"
    }
   ],
   "source": [
    "active_principle_info.head()"
   ]
  },
  {
   "cell_type": "code",
   "execution_count": 17,
   "metadata": {
    "collapsed": true
   },
   "outputs": [],
   "source": [
    "amr_data_ap = pd.merge(amr_data, active_principle_info, on='Active_principle', how='inner')"
   ]
  },
  {
   "cell_type": "code",
   "execution_count": 18,
   "metadata": {
    "collapsed": true
   },
   "outputs": [],
   "source": [
    "amr_data_ap = amr_data_ap.drop(['Active_principle'], axis=1)"
   ]
  },
  {
   "cell_type": "code",
   "execution_count": 19,
   "metadata": {
    "collapsed": true
   },
   "outputs": [],
   "source": [
    "amr_data_ap = amr_data_ap.rename(index=str, columns={'English_name': \"Active_principle\"})"
   ]
  },
  {
   "cell_type": "markdown",
   "metadata": {},
   "source": [
    "##### TRANSLATE THE VALUES IN ENGLISH AND CHANGING THE NUMBER OF RESULT FROM 3 TO 2"
   ]
  },
  {
   "cell_type": "markdown",
   "metadata": {},
   "source": [
    "It is nice to work always in same language. Here the 'Result' column values translated in English.\n",
    "\n",
    "On the other hand, using Intermediate result won't give so much. For this reason, I decrease number of class from  3 to 2."
   ]
  },
  {
   "cell_type": "code",
   "execution_count": 20,
   "metadata": {
    "collapsed": true
   },
   "outputs": [],
   "source": [
    "amr_data_ap.Result.replace(['RESISTENTE', 'SENSIBILE', 'INTERMEDIO'], ['RESISTANT', 'SENSITIVE', 'RESISTANT'], inplace=True)"
   ]
  },
  {
   "cell_type": "markdown",
   "metadata": {},
   "source": [
    "##### DATA TRANSFORMATION - AGGREGATE THE RELATED CONSUMPTIONS"
   ]
  },
  {
   "cell_type": "markdown",
   "metadata": {},
   "source": [
    "Because of the unautomated data collection and the nature of the drug consumption, there are multiple lines for each antibiotic consumption. For the health of the analysis, it is needed to sum same antibiotic comsumption which are belong to same farm, same year, same methodology and same type of medication."
   ]
  },
  {
   "cell_type": "code",
   "execution_count": 21,
   "metadata": {
    "collapsed": true
   },
   "outputs": [],
   "source": [
    "# Drop more column \n",
    "consumption_data = consumption_data.drop(['PK_Somministrazione', 'Site1', 'Site3', 'Target'], axis=1)\n",
    "amr_data_ap = amr_data_ap.drop(['Kind'], axis=1)"
   ]
  },
  {
   "cell_type": "code",
   "execution_count": 22,
   "metadata": {
    "collapsed": true
   },
   "outputs": [],
   "source": [
    "# New dataframe with grouped features\n",
    "consumption_data_grouped = consumption_data.groupby(['Farm_ID', 'Year', 'Open_cycle', 'Close_cycle', 'Type_of_medication', 'Active_principle'], as_index= False).sum()"
   ]
  },
  {
   "cell_type": "code",
   "execution_count": 23,
   "metadata": {},
   "outputs": [
    {
     "data": {
      "text/plain": [
       "10431"
      ]
     },
     "execution_count": 23,
     "metadata": {},
     "output_type": "execute_result"
    }
   ],
   "source": [
    "len(consumption_data_grouped) # 8421 records less!!"
   ]
  },
  {
   "cell_type": "markdown",
   "metadata": {},
   "source": [
    "##### CREATE THE GIANT DATASET"
   ]
  },
  {
   "cell_type": "code",
   "execution_count": 77,
   "metadata": {
    "collapsed": true
   },
   "outputs": [],
   "source": [
    "all_data = pd.merge(amr_data_ap, consumption_data_grouped, on=['Year', 'Farm_ID', 'Active_principle'], how='inner')"
   ]
  },
  {
   "cell_type": "code",
   "execution_count": 78,
   "metadata": {
    "collapsed": true
   },
   "outputs": [],
   "source": [
    "all_data = all_data[['Year', 'Farm_ID', 'Bacteria', 'Active_principle', 'Value', 'Open_cycle', 'Close_cycle', 'Type_of_medication', 'Active_principle_mg', 'DDDA', 'DCDA', 'Result']]"
   ]
  },
  {
   "cell_type": "code",
   "execution_count": 79,
   "metadata": {
    "collapsed": true
   },
   "outputs": [],
   "source": [
    "all_data2 = all_data.groupby(['Year', 'Farm_ID', 'Bacteria', 'Active_principle', \n",
    "                              'Value', 'Open_cycle', 'Close_cycle', 'Type_of_medication', \n",
    "                              'Result'], as_index= False).sum()"
   ]
  },
  {
   "cell_type": "code",
   "execution_count": 80,
   "metadata": {},
   "outputs": [
    {
     "data": {
      "text/plain": [
       "3836"
      ]
     },
     "execution_count": 80,
     "metadata": {},
     "output_type": "execute_result"
    }
   ],
   "source": [
    "len(all_data2)"
   ]
  },
  {
   "cell_type": "markdown",
   "metadata": {
    "collapsed": true
   },
   "source": [
    "##### DATA PREPARATION FOR THE ANAYSIS"
   ]
  },
  {
   "cell_type": "code",
   "execution_count": 81,
   "metadata": {
    "collapsed": true
   },
   "outputs": [],
   "source": [
    "# Drop the identify columns\n",
    "dataset = all_data2"
   ]
  },
  {
   "cell_type": "code",
   "execution_count": 82,
   "metadata": {
    "collapsed": true
   },
   "outputs": [],
   "source": [
    "# Drop nan values\n",
    "dataset.dropna(inplace=True)"
   ]
  },
  {
   "cell_type": "markdown",
   "metadata": {},
   "source": [
    "### EDA"
   ]
  },
  {
   "cell_type": "code",
   "execution_count": 83,
   "metadata": {
    "scrolled": true
   },
   "outputs": [
    {
     "data": {
      "text/html": [
       "<div>\n",
       "<style>\n",
       "    .dataframe thead tr:only-child th {\n",
       "        text-align: right;\n",
       "    }\n",
       "\n",
       "    .dataframe thead th {\n",
       "        text-align: left;\n",
       "    }\n",
       "\n",
       "    .dataframe tbody tr th {\n",
       "        vertical-align: top;\n",
       "    }\n",
       "</style>\n",
       "<table border=\"1\" class=\"dataframe\">\n",
       "  <thead>\n",
       "    <tr style=\"text-align: right;\">\n",
       "      <th></th>\n",
       "      <th>Year</th>\n",
       "      <th>Farm_ID</th>\n",
       "      <th>Bacteria</th>\n",
       "      <th>Active_principle</th>\n",
       "      <th>Value</th>\n",
       "      <th>Open_cycle</th>\n",
       "      <th>Close_cycle</th>\n",
       "      <th>Type_of_medication</th>\n",
       "      <th>Result</th>\n",
       "      <th>Active_principle_mg</th>\n",
       "      <th>DDDA</th>\n",
       "      <th>DCDA</th>\n",
       "    </tr>\n",
       "  </thead>\n",
       "  <tbody>\n",
       "    <tr>\n",
       "      <th>0</th>\n",
       "      <td>2013</td>\n",
       "      <td>001MN006</td>\n",
       "      <td>ESCHERICHIA COLI EMOLITICO</td>\n",
       "      <td>COLISTIN</td>\n",
       "      <td>2.0</td>\n",
       "      <td>0</td>\n",
       "      <td>0</td>\n",
       "      <td>PREMIX</td>\n",
       "      <td>SENSITIVE</td>\n",
       "      <td>1440000.0</td>\n",
       "      <td>261818.18</td>\n",
       "      <td>29090.91</td>\n",
       "    </tr>\n",
       "    <tr>\n",
       "      <th>13</th>\n",
       "      <td>2013</td>\n",
       "      <td>002MN141</td>\n",
       "      <td>BRACHYSPIRA HYODYSENTERIAE</td>\n",
       "      <td>LINCOMYCIN</td>\n",
       "      <td>2.0</td>\n",
       "      <td>0</td>\n",
       "      <td>0</td>\n",
       "      <td>ORAL POWD</td>\n",
       "      <td>RESISTANT</td>\n",
       "      <td>1665000.0</td>\n",
       "      <td>500000.00</td>\n",
       "      <td>71428.57</td>\n",
       "    </tr>\n",
       "    <tr>\n",
       "      <th>14</th>\n",
       "      <td>2013</td>\n",
       "      <td>002MN141</td>\n",
       "      <td>BRACHYSPIRA HYODYSENTERIAE</td>\n",
       "      <td>TIAMULIN</td>\n",
       "      <td>2.0</td>\n",
       "      <td>0</td>\n",
       "      <td>0</td>\n",
       "      <td>ORAL POWD</td>\n",
       "      <td>SENSITIVE</td>\n",
       "      <td>11008800.0</td>\n",
       "      <td>925109.24</td>\n",
       "      <td>231277.31</td>\n",
       "    </tr>\n",
       "    <tr>\n",
       "      <th>15</th>\n",
       "      <td>2013</td>\n",
       "      <td>002MN141</td>\n",
       "      <td>BRACHYSPIRA HYODYSENTERIAE</td>\n",
       "      <td>TIAMULIN</td>\n",
       "      <td>2.0</td>\n",
       "      <td>0</td>\n",
       "      <td>0</td>\n",
       "      <td>PREMIX</td>\n",
       "      <td>SENSITIVE</td>\n",
       "      <td>8624000.0</td>\n",
       "      <td>1724800.00</td>\n",
       "      <td>344960.00</td>\n",
       "    </tr>\n",
       "    <tr>\n",
       "      <th>16</th>\n",
       "      <td>2013</td>\n",
       "      <td>002MN141</td>\n",
       "      <td>ESCHERICHIA COLI</td>\n",
       "      <td>AMOXICILLIN</td>\n",
       "      <td>1.0</td>\n",
       "      <td>0</td>\n",
       "      <td>0</td>\n",
       "      <td>INJ</td>\n",
       "      <td>RESISTANT</td>\n",
       "      <td>262500.0</td>\n",
       "      <td>35000.00</td>\n",
       "      <td>11666.67</td>\n",
       "    </tr>\n",
       "  </tbody>\n",
       "</table>\n",
       "</div>"
      ],
      "text/plain": [
       "    Year   Farm_ID                    Bacteria Active_principle  Value  \\\n",
       "0   2013  001MN006  ESCHERICHIA COLI EMOLITICO         COLISTIN    2.0   \n",
       "13  2013  002MN141  BRACHYSPIRA HYODYSENTERIAE       LINCOMYCIN    2.0   \n",
       "14  2013  002MN141  BRACHYSPIRA HYODYSENTERIAE         TIAMULIN    2.0   \n",
       "15  2013  002MN141  BRACHYSPIRA HYODYSENTERIAE         TIAMULIN    2.0   \n",
       "16  2013  002MN141            ESCHERICHIA COLI      AMOXICILLIN    1.0   \n",
       "\n",
       "    Open_cycle  Close_cycle Type_of_medication     Result  \\\n",
       "0            0            0             PREMIX  SENSITIVE   \n",
       "13           0            0          ORAL POWD  RESISTANT   \n",
       "14           0            0          ORAL POWD  SENSITIVE   \n",
       "15           0            0             PREMIX  SENSITIVE   \n",
       "16           0            0                INJ  RESISTANT   \n",
       "\n",
       "    Active_principle_mg        DDDA       DCDA  \n",
       "0             1440000.0   261818.18   29090.91  \n",
       "13            1665000.0   500000.00   71428.57  \n",
       "14           11008800.0   925109.24  231277.31  \n",
       "15            8624000.0  1724800.00  344960.00  \n",
       "16             262500.0    35000.00   11666.67  "
      ]
     },
     "execution_count": 83,
     "metadata": {},
     "output_type": "execute_result"
    }
   ],
   "source": [
    "dataset.head()"
   ]
  },
  {
   "cell_type": "code",
   "execution_count": 84,
   "metadata": {},
   "outputs": [
    {
     "name": "stdout",
     "output_type": "stream",
     "text": [
      "<class 'pandas.core.frame.DataFrame'>\n",
      "Int64Index: 3408 entries, 0 to 3835\n",
      "Data columns (total 12 columns):\n",
      "Year                   3408 non-null int64\n",
      "Farm_ID                3408 non-null object\n",
      "Bacteria               3408 non-null object\n",
      "Active_principle       3408 non-null object\n",
      "Value                  3408 non-null float64\n",
      "Open_cycle             3408 non-null int64\n",
      "Close_cycle            3408 non-null int64\n",
      "Type_of_medication     3408 non-null object\n",
      "Result                 3408 non-null object\n",
      "Active_principle_mg    3408 non-null float64\n",
      "DDDA                   3408 non-null float64\n",
      "DCDA                   3408 non-null float64\n",
      "dtypes: float64(4), int64(3), object(5)\n",
      "memory usage: 346.1+ KB\n"
     ]
    }
   ],
   "source": [
    "dataset.info()"
   ]
  },
  {
   "cell_type": "code",
   "execution_count": 85,
   "metadata": {},
   "outputs": [
    {
     "data": {
      "text/plain": [
       "(3408, 12)"
      ]
     },
     "execution_count": 85,
     "metadata": {},
     "output_type": "execute_result"
    }
   ],
   "source": [
    "dataset.shape #Dataset comprises of 3408 observations and 12 characteristics. \n",
    "#Out of which one is dependent variable and rest 11 are independent variables."
   ]
  },
  {
   "cell_type": "code",
   "execution_count": 86,
   "metadata": {},
   "outputs": [
    {
     "data": {
      "text/html": [
       "<div>\n",
       "<style>\n",
       "    .dataframe thead tr:only-child th {\n",
       "        text-align: right;\n",
       "    }\n",
       "\n",
       "    .dataframe thead th {\n",
       "        text-align: left;\n",
       "    }\n",
       "\n",
       "    .dataframe tbody tr th {\n",
       "        vertical-align: top;\n",
       "    }\n",
       "</style>\n",
       "<table border=\"1\" class=\"dataframe\">\n",
       "  <thead>\n",
       "    <tr style=\"text-align: right;\">\n",
       "      <th></th>\n",
       "      <th>Year</th>\n",
       "      <th>Value</th>\n",
       "      <th>Open_cycle</th>\n",
       "      <th>Close_cycle</th>\n",
       "      <th>Active_principle_mg</th>\n",
       "      <th>DDDA</th>\n",
       "      <th>DCDA</th>\n",
       "    </tr>\n",
       "  </thead>\n",
       "  <tbody>\n",
       "    <tr>\n",
       "      <th>count</th>\n",
       "      <td>3408.000000</td>\n",
       "      <td>3408.00000</td>\n",
       "      <td>3408.000000</td>\n",
       "      <td>3408.000000</td>\n",
       "      <td>3.408000e+03</td>\n",
       "      <td>3.408000e+03</td>\n",
       "      <td>3.408000e+03</td>\n",
       "    </tr>\n",
       "    <tr>\n",
       "      <th>mean</th>\n",
       "      <td>2014.328932</td>\n",
       "      <td>1.22858</td>\n",
       "      <td>0.646714</td>\n",
       "      <td>0.032570</td>\n",
       "      <td>3.213229e+07</td>\n",
       "      <td>3.234857e+06</td>\n",
       "      <td>6.457179e+05</td>\n",
       "    </tr>\n",
       "    <tr>\n",
       "      <th>std</th>\n",
       "      <td>0.908213</td>\n",
       "      <td>0.41998</td>\n",
       "      <td>0.478061</td>\n",
       "      <td>0.177535</td>\n",
       "      <td>1.323351e+08</td>\n",
       "      <td>1.199938e+07</td>\n",
       "      <td>2.337997e+06</td>\n",
       "    </tr>\n",
       "    <tr>\n",
       "      <th>min</th>\n",
       "      <td>2013.000000</td>\n",
       "      <td>1.00000</td>\n",
       "      <td>0.000000</td>\n",
       "      <td>0.000000</td>\n",
       "      <td>0.000000e+00</td>\n",
       "      <td>0.000000e+00</td>\n",
       "      <td>0.000000e+00</td>\n",
       "    </tr>\n",
       "    <tr>\n",
       "      <th>25%</th>\n",
       "      <td>2014.000000</td>\n",
       "      <td>1.00000</td>\n",
       "      <td>0.000000</td>\n",
       "      <td>0.000000</td>\n",
       "      <td>2.500000e+05</td>\n",
       "      <td>7.062500e+04</td>\n",
       "      <td>1.676364e+04</td>\n",
       "    </tr>\n",
       "    <tr>\n",
       "      <th>50%</th>\n",
       "      <td>2014.000000</td>\n",
       "      <td>1.00000</td>\n",
       "      <td>1.000000</td>\n",
       "      <td>0.000000</td>\n",
       "      <td>2.179500e+06</td>\n",
       "      <td>4.000000e+05</td>\n",
       "      <td>8.402976e+04</td>\n",
       "    </tr>\n",
       "    <tr>\n",
       "      <th>75%</th>\n",
       "      <td>2015.000000</td>\n",
       "      <td>1.00000</td>\n",
       "      <td>1.000000</td>\n",
       "      <td>0.000000</td>\n",
       "      <td>1.800000e+07</td>\n",
       "      <td>1.814182e+06</td>\n",
       "      <td>3.871875e+05</td>\n",
       "    </tr>\n",
       "    <tr>\n",
       "      <th>max</th>\n",
       "      <td>2017.000000</td>\n",
       "      <td>2.00000</td>\n",
       "      <td>1.000000</td>\n",
       "      <td>1.000000</td>\n",
       "      <td>3.420000e+09</td>\n",
       "      <td>3.040000e+08</td>\n",
       "      <td>3.817500e+07</td>\n",
       "    </tr>\n",
       "  </tbody>\n",
       "</table>\n",
       "</div>"
      ],
      "text/plain": [
       "              Year       Value   Open_cycle  Close_cycle  Active_principle_mg  \\\n",
       "count  3408.000000  3408.00000  3408.000000  3408.000000         3.408000e+03   \n",
       "mean   2014.328932     1.22858     0.646714     0.032570         3.213229e+07   \n",
       "std       0.908213     0.41998     0.478061     0.177535         1.323351e+08   \n",
       "min    2013.000000     1.00000     0.000000     0.000000         0.000000e+00   \n",
       "25%    2014.000000     1.00000     0.000000     0.000000         2.500000e+05   \n",
       "50%    2014.000000     1.00000     1.000000     0.000000         2.179500e+06   \n",
       "75%    2015.000000     1.00000     1.000000     0.000000         1.800000e+07   \n",
       "max    2017.000000     2.00000     1.000000     1.000000         3.420000e+09   \n",
       "\n",
       "               DDDA          DCDA  \n",
       "count  3.408000e+03  3.408000e+03  \n",
       "mean   3.234857e+06  6.457179e+05  \n",
       "std    1.199938e+07  2.337997e+06  \n",
       "min    0.000000e+00  0.000000e+00  \n",
       "25%    7.062500e+04  1.676364e+04  \n",
       "50%    4.000000e+05  8.402976e+04  \n",
       "75%    1.814182e+06  3.871875e+05  \n",
       "max    3.040000e+08  3.817500e+07  "
      ]
     },
     "execution_count": 86,
     "metadata": {},
     "output_type": "execute_result"
    }
   ],
   "source": [
    "dataset.describe()"
   ]
  },
  {
   "cell_type": "markdown",
   "metadata": {},
   "source": [
    "Depending on these various summary statistics, it is possible to say there are some outliers (extreme values) for farms, bacteria and active principle. It is possible have this information if the mean value is less than median value and if there is large difference between 75th quantile and maximum values of predictors."
   ]
  },
  {
   "cell_type": "code",
   "execution_count": 113,
   "metadata": {},
   "outputs": [],
   "source": [
    "forboxplot = dataset[['Bacteria','Farm_ID','Active_principle','Active_principle_mg','DDDA','DCDA']]"
   ]
  },
  {
   "cell_type": "code",
   "execution_count": 114,
   "metadata": {},
   "outputs": [
    {
     "data": {
      "image/png": "[encoded data removed]",
      "text/plain": [
       "<Figure size 360x720 with 6 Axes>"
      ]
     },
     "metadata": {},
     "output_type": "display_data"
    }
   ],
   "source": [
    "l = forboxplot.columns.values\n",
    "number_of_columns=3\n",
    "number_of_rows = len(l)-1/number_of_columns\n",
    "plt.figure(figsize=(5,10))\n",
    "for i in range(0,len(l)):\n",
    "    plt.subplot(3,3,i+1)\n",
    "    sns.set_style('whitegrid')\n",
    "    sns.boxplot(forboxplot[l[i]],color='green',orient='v')\n",
    "    plt.tight_layout()"
   ]
  },
  {
   "cell_type": "code",
   "execution_count": 98,
   "metadata": {},
   "outputs": [
    {
     "name": "stderr",
     "output_type": "stream",
     "text": [
      "/Users/aydanselek/anaconda3/lib/python3.6/site-packages/matplotlib/axes/_axes.py:6521: MatplotlibDeprecationWarning: \n",
      "The 'normed' kwarg was deprecated in Matplotlib 2.1 and will be removed in 3.1. Use 'density' instead.\n",
      "  alternative=\"'density'\", removal=\"3.1\")\n"
     ]
    },
    {
     "data": {
      "image/png": "[encoded data removed]",
      "text/plain": [
       "<Figure size 432x288 with 7 Axes>"
      ]
     },
     "metadata": {},
     "output_type": "display_data"
    }
   ],
   "source": [
    "# plt.figure(figsize=(2*number_of_columns,5*number_of_rows))\n",
    "for i in range(0,len(l)):\n",
    "    plt.subplot(number_of_rows + 1,number_of_columns,i+1)\n",
    "    sns.distplot(dataset[l[i]],kde=True) "
   ]
  },
  {
   "cell_type": "code",
   "execution_count": 34,
   "metadata": {},
   "outputs": [
    {
     "data": {
      "text/html": [
       "<div>\n",
       "<style>\n",
       "    .dataframe thead tr:only-child th {\n",
       "        text-align: right;\n",
       "    }\n",
       "\n",
       "    .dataframe thead th {\n",
       "        text-align: left;\n",
       "    }\n",
       "\n",
       "    .dataframe tbody tr th {\n",
       "        vertical-align: top;\n",
       "    }\n",
       "</style>\n",
       "<table border=\"1\" class=\"dataframe\">\n",
       "  <thead>\n",
       "    <tr style=\"text-align: right;\">\n",
       "      <th></th>\n",
       "      <th>Year</th>\n",
       "      <th>Value</th>\n",
       "      <th>Open_cycle</th>\n",
       "      <th>Close_cycle</th>\n",
       "      <th>Active_principle_mg</th>\n",
       "      <th>DDDA</th>\n",
       "      <th>DCDA</th>\n",
       "    </tr>\n",
       "  </thead>\n",
       "  <tbody>\n",
       "    <tr>\n",
       "      <th>Year</th>\n",
       "      <td>1.000000</td>\n",
       "      <td>-0.013265</td>\n",
       "      <td>0.110890</td>\n",
       "      <td>0.020913</td>\n",
       "      <td>-0.038745</td>\n",
       "      <td>-0.035386</td>\n",
       "      <td>-0.031731</td>\n",
       "    </tr>\n",
       "    <tr>\n",
       "      <th>Value</th>\n",
       "      <td>-0.013265</td>\n",
       "      <td>1.000000</td>\n",
       "      <td>-0.075711</td>\n",
       "      <td>-0.009339</td>\n",
       "      <td>-0.023319</td>\n",
       "      <td>0.045962</td>\n",
       "      <td>0.032085</td>\n",
       "    </tr>\n",
       "    <tr>\n",
       "      <th>Open_cycle</th>\n",
       "      <td>0.110890</td>\n",
       "      <td>-0.075711</td>\n",
       "      <td>1.000000</td>\n",
       "      <td>-0.248253</td>\n",
       "      <td>0.007388</td>\n",
       "      <td>0.014952</td>\n",
       "      <td>0.018291</td>\n",
       "    </tr>\n",
       "    <tr>\n",
       "      <th>Close_cycle</th>\n",
       "      <td>0.020913</td>\n",
       "      <td>-0.009339</td>\n",
       "      <td>-0.248253</td>\n",
       "      <td>1.000000</td>\n",
       "      <td>-0.027277</td>\n",
       "      <td>-0.028311</td>\n",
       "      <td>-0.027555</td>\n",
       "    </tr>\n",
       "    <tr>\n",
       "      <th>Active_principle_mg</th>\n",
       "      <td>-0.038745</td>\n",
       "      <td>-0.023319</td>\n",
       "      <td>0.007388</td>\n",
       "      <td>-0.027277</td>\n",
       "      <td>1.000000</td>\n",
       "      <td>0.922654</td>\n",
       "      <td>0.875888</td>\n",
       "    </tr>\n",
       "    <tr>\n",
       "      <th>DDDA</th>\n",
       "      <td>-0.035386</td>\n",
       "      <td>0.045962</td>\n",
       "      <td>0.014952</td>\n",
       "      <td>-0.028311</td>\n",
       "      <td>0.922654</td>\n",
       "      <td>1.000000</td>\n",
       "      <td>0.958631</td>\n",
       "    </tr>\n",
       "    <tr>\n",
       "      <th>DCDA</th>\n",
       "      <td>-0.031731</td>\n",
       "      <td>0.032085</td>\n",
       "      <td>0.018291</td>\n",
       "      <td>-0.027555</td>\n",
       "      <td>0.875888</td>\n",
       "      <td>0.958631</td>\n",
       "      <td>1.000000</td>\n",
       "    </tr>\n",
       "  </tbody>\n",
       "</table>\n",
       "</div>"
      ],
      "text/plain": [
       "                         Year     Value  Open_cycle  Close_cycle  \\\n",
       "Year                 1.000000 -0.013265    0.110890     0.020913   \n",
       "Value               -0.013265  1.000000   -0.075711    -0.009339   \n",
       "Open_cycle           0.110890 -0.075711    1.000000    -0.248253   \n",
       "Close_cycle          0.020913 -0.009339   -0.248253     1.000000   \n",
       "Active_principle_mg -0.038745 -0.023319    0.007388    -0.027277   \n",
       "DDDA                -0.035386  0.045962    0.014952    -0.028311   \n",
       "DCDA                -0.031731  0.032085    0.018291    -0.027555   \n",
       "\n",
       "                     Active_principle_mg      DDDA      DCDA  \n",
       "Year                           -0.038745 -0.035386 -0.031731  \n",
       "Value                          -0.023319  0.045962  0.032085  \n",
       "Open_cycle                      0.007388  0.014952  0.018291  \n",
       "Close_cycle                    -0.027277 -0.028311 -0.027555  \n",
       "Active_principle_mg             1.000000  0.922654  0.875888  \n",
       "DDDA                            0.922654  1.000000  0.958631  \n",
       "DCDA                            0.875888  0.958631  1.000000  "
      ]
     },
     "execution_count": 34,
     "metadata": {},
     "output_type": "execute_result"
    }
   ],
   "source": [
    "dataset.corr()"
   ]
  },
  {
   "cell_type": "code",
   "execution_count": 35,
   "metadata": {},
   "outputs": [
    {
     "data": {
      "text/plain": [
       "<matplotlib.axes._subplots.AxesSubplot at 0x1a2153ec18>"
      ]
     },
     "execution_count": 35,
     "metadata": {},
     "output_type": "execute_result"
    },
    {
     "data": {
      "image/png": "[encoded data removed]",
      "text/plain": [
       "<Figure size 432x288 with 2 Axes>"
      ]
     },
     "metadata": {},
     "output_type": "display_data"
    }
   ],
   "source": [
    "import seaborn as sns\n",
    "corr = dataset.corr()\n",
    "sns.heatmap(corr, \n",
    "            xticklabels=corr.columns.values,\n",
    "            yticklabels=corr.columns.values, cmap='hot')"
   ]
  },
  {
   "cell_type": "markdown",
   "metadata": {},
   "source": [
    "### FEATURE ANAYLSIS"
   ]
  },
  {
   "cell_type": "code",
   "execution_count": 140,
   "metadata": {
    "collapsed": true
   },
   "outputs": [],
   "source": [
    "dataset_R = dataset[dataset.Result == 'RESISTANT']\n",
    "dataset_S = dataset[dataset.Result == 'SENSITIVE']"
   ]
  },
  {
   "cell_type": "markdown",
   "metadata": {},
   "source": [
    "##### LIVING CONDITIONS"
   ]
  },
  {
   "cell_type": "markdown",
   "metadata": {},
   "source": [
    "##### TYPE OF MEDICATION"
   ]
  },
  {
   "cell_type": "code",
   "execution_count": 103,
   "metadata": {
    "collapsed": true
   },
   "outputs": [],
   "source": [
    "data_R_tom = dataset_R.groupby(['Type_of_medication'])['Result'].count()\n",
    "data_S_tom = dataset_S.groupby(['Type_of_medication'])['Result'].count()"
   ]
  },
  {
   "cell_type": "code",
   "execution_count": 104,
   "metadata": {},
   "outputs": [
    {
     "data": {
      "text/plain": [
       "<matplotlib.axes._subplots.AxesSubplot at 0x1a1ce2e1d0>"
      ]
     },
     "execution_count": 104,
     "metadata": {},
     "output_type": "execute_result"
    },
    {
     "data": {
      "image/png": "[encoded data removed]",
      "text/plain": [
       "<Figure size 432x432 with 1 Axes>"
      ]
     },
     "metadata": {},
     "output_type": "display_data"
    }
   ],
   "source": [
    "data_R_tom.plot.pie(autopct='%.2f', fontsize=20, figsize=(6, 6))"
   ]
  },
  {
   "cell_type": "code",
   "execution_count": 105,
   "metadata": {},
   "outputs": [
    {
     "data": {
      "text/plain": [
       "<matplotlib.axes._subplots.AxesSubplot at 0x1a0ef22be0>"
      ]
     },
     "execution_count": 105,
     "metadata": {},
     "output_type": "execute_result"
    },
    {
     "data": {
      "image/png": "[encoded data removed]",
      "text/plain": [
       "<Figure size 432x432 with 1 Axes>"
      ]
     },
     "metadata": {},
     "output_type": "display_data"
    }
   ],
   "source": [
    "data_S_tom.plot.pie(autopct='%.2f', fontsize=20, figsize=(6, 6))"
   ]
  },
  {
   "cell_type": "code",
   "execution_count": 106,
   "metadata": {},
   "outputs": [
    {
     "data": {
      "text/plain": [
       "<matplotlib.legend.Legend at 0x1a1a38bbe0>"
      ]
     },
     "execution_count": 106,
     "metadata": {},
     "output_type": "execute_result"
    },
    {
     "data": {
      "image/png": "[encoded data removed]",
      "text/plain": [
       "<Figure size 504x504 with 2 Axes>"
      ]
     },
     "metadata": {},
     "output_type": "display_data"
    }
   ],
   "source": [
    "fig = pl.figure(figsize=(7,7))\n",
    "ax1 = pl.subplot(111,ylabel='R')\n",
    "ax2 =ax1.twinx()\n",
    "ax2.set_ylabel('S')\n",
    "ax1.bar(data_R_tom.index, data_R_tom.values, width =0.4, color ='y', align = 'center')\n",
    "ax2.bar(data_S_tom.index, data_S_tom.values, width = 0.4, color='m', align = 'edge')\n",
    "ax1.legend(['R'], loc = 'upper left')\n",
    "ax2.legend(['S'], loc = 'upper right')"
   ]
  },
  {
   "cell_type": "markdown",
   "metadata": {},
   "source": [
    "##### ACTIVE PRINCIPLE"
   ]
  },
  {
   "cell_type": "code",
   "execution_count": 107,
   "metadata": {
    "collapsed": true
   },
   "outputs": [],
   "source": [
    "data_R_ap = dataset_R.groupby(['Active_principle'])['Result'].count()\n",
    "data_S_ap = dataset_S.groupby(['Active_principle'])['Result'].count()"
   ]
  },
  {
   "cell_type": "code",
   "execution_count": 108,
   "metadata": {},
   "outputs": [
    {
     "data": {
      "text/plain": [
       "<matplotlib.legend.Legend at 0x1a1f4e4d30>"
      ]
     },
     "execution_count": 108,
     "metadata": {},
     "output_type": "execute_result"
    },
    {
     "data": {
      "image/png": "[encoded data removed]",
      "text/plain": [
       "<Figure size 2520x720 with 2 Axes>"
      ]
     },
     "metadata": {},
     "output_type": "display_data"
    }
   ],
   "source": [
    "fig = pl.figure(figsize=(35,10))\n",
    "ax1 = pl.subplot(111,ylabel='R')\n",
    "ax2 =ax1.twinx()\n",
    "ax2.set_ylabel('S')\n",
    "ax1.bar(data_R_ap.index,data_R_ap.values, width =0.4, color ='y', align = 'center')\n",
    "ax2.bar(data_S_ap.index,data_S_ap.values, width = 0.4, color='m', align = 'edge')\n",
    "ax1.legend(['R'], loc = 'upper left')\n",
    "ax2.legend(['S'], loc = 'upper right')"
   ]
  },
  {
   "cell_type": "markdown",
   "metadata": {},
   "source": [
    "##### BACTERIA"
   ]
  },
  {
   "cell_type": "code",
   "execution_count": 109,
   "metadata": {
    "collapsed": true
   },
   "outputs": [],
   "source": [
    "data_R_b = dataset_R.groupby(['Bacteria'])['Result'].count()\n",
    "data_S_b = dataset_S.groupby(['Bacteria'])['Result'].count()"
   ]
  },
  {
   "cell_type": "code",
   "execution_count": 110,
   "metadata": {},
   "outputs": [
    {
     "data": {
      "text/plain": [
       "<matplotlib.legend.Legend at 0x1a18216898>"
      ]
     },
     "execution_count": 110,
     "metadata": {},
     "output_type": "execute_result"
    },
    {
     "data": {
      "image/png": "[encoded data removed]",
      "text/plain": [
       "<Figure size 5400x720 with 2 Axes>"
      ]
     },
     "metadata": {},
     "output_type": "display_data"
    }
   ],
   "source": [
    "fig = pl.figure(figsize=(75,10))\n",
    "ax1 = pl.subplot(111,ylabel='R')\n",
    "ax2 =ax1.twinx()\n",
    "ax2.set_ylabel('S')\n",
    "ax1.bar(data_R_b.index,data_R_b.values, width =0.4, color ='y', align = 'center')\n",
    "ax2.bar(data_S_b.index,data_S_b.values, width = 0.4, color='m', align = 'edge')\n",
    "ax1.legend(['R'], loc = 'upper left')\n",
    "ax2.legend(['S'], loc = 'upper right')"
   ]
  },
  {
   "cell_type": "markdown",
   "metadata": {},
   "source": [
    "##### PREPARING THE DATA FOR MODELLING"
   ]
  },
  {
   "cell_type": "markdown",
   "metadata": {
    "collapsed": true
   },
   "source": [
    "##### MEAN REMOVAL (STANDARDIZATION)"
   ]
  },
  {
   "cell_type": "code",
   "execution_count": 43,
   "metadata": {},
   "outputs": [
    {
     "name": "stdout",
     "output_type": "stream",
     "text": [
      "Mean after= Year                    1.276995\n",
      "Farm_ID                67.442488\n",
      "Bacteria               17.051937\n",
      "Active_principle        7.717723\n",
      "Value                   1.228580\n",
      "Open_cycle              0.646714\n",
      "Close_cycle             0.032570\n",
      "Type_of_medication      1.247066\n",
      "Result                  0.475059\n",
      "Active_principle_mg     0.009395\n",
      "DDDA                    0.010641\n",
      "DCDA                    0.016915\n",
      "dtype: float64\n",
      "Standard Deviation after= Year                    0.772380\n",
      "Farm_ID                36.641228\n",
      "Bacteria                6.365213\n",
      "Active_principle        6.258225\n",
      "Value                   0.419980\n",
      "Open_cycle              0.478061\n",
      "Close_cycle             0.177535\n",
      "Type_of_medication      1.272634\n",
      "Result                  0.499451\n",
      "Active_principle_mg     0.038694\n",
      "DDDA                    0.039472\n",
      "DCDA                    0.061244\n",
      "dtype: float64\n"
     ]
    }
   ],
   "source": [
    "scaler = preprocessing.MinMaxScaler()\n",
    "dataset[['Active_principle_mg', 'DDDA', 'DCDA']] = scaler.fit_transform(dataset[['Active_principle_mg', 'DDDA', 'DCDA']])\n",
    "print('Mean after=', dataset.mean(axis=0))\n",
    "print('Standard Deviation after=', dataset.std(axis=0))"
   ]
  },
  {
   "cell_type": "markdown",
   "metadata": {
    "collapsed": true
   },
   "source": [
    "##### NORMALIZATION"
   ]
  },
  {
   "cell_type": "code",
   "execution_count": 205,
   "metadata": {
    "collapsed": true
   },
   "outputs": [],
   "source": [
    "dataset[['Active_principle_mg', 'DDDA', 'DCDA']] = preprocessing.normalize(dataset[['Active_principle_mg', 'DDDA', 'DCDA']], norm='l1')"
   ]
  },
  {
   "cell_type": "markdown",
   "metadata": {},
   "source": [
    "##### DEALING WITH THE CATEGORICAL DATA / Label Encoder"
   ]
  },
  {
   "cell_type": "code",
   "execution_count": 91,
   "metadata": {
    "collapsed": true
   },
   "outputs": [],
   "source": [
    "pd.options.mode.chained_assignment = None\n",
    "\n",
    "le_Bacteria = preprocessing.LabelEncoder()\n",
    "le_Active_principle = preprocessing.LabelEncoder()\n",
    "le_Type_of_medication = preprocessing.LabelEncoder()\n",
    "le_Result = preprocessing.LabelEncoder()\n",
    "le_Year = preprocessing.LabelEncoder()\n",
    "le_Farm_ID = preprocessing.LabelEncoder()\n",
    "\n",
    "\n",
    "dataset['Bacteria'] = le_Bacteria.fit_transform(dataset['Bacteria'])\n",
    "dataset['Active_principle'] = le_Active_principle.fit_transform(dataset['Active_principle'])\n",
    "dataset['Type_of_medication'] = le_Type_of_medication.fit_transform(dataset['Type_of_medication'])\n",
    "dataset['Result'] = le_Result.fit_transform(dataset['Result'])\n",
    "dataset['Farm_ID'] = le_Farm_ID.fit_transform(dataset['Farm_ID'])\n",
    "dataset['Year'] = le_Year.fit_transform(dataset['Year'])"
   ]
  },
  {
   "cell_type": "markdown",
   "metadata": {},
   "source": [
    "### FEATURE SELECTION"
   ]
  },
  {
   "cell_type": "markdown",
   "metadata": {},
   "source": [
    "##### SPLITTING THE DATA FOR FEATURE SELECTION"
   ]
  },
  {
   "cell_type": "code",
   "execution_count": 207,
   "metadata": {
    "collapsed": true
   },
   "outputs": [],
   "source": [
    "X = dataset[['Year', 'Farm_ID', 'Bacteria', 'Active_principle', 'Value', 'Open_cycle', 'Close_cycle', 'Type_of_medication', 'Active_principle_mg','DDDA', 'DCDA']]\n",
    "Y = dataset[['Result']]"
   ]
  },
  {
   "cell_type": "code",
   "execution_count": 208,
   "metadata": {
    "collapsed": true
   },
   "outputs": [],
   "source": [
    "X_train, X_test, Y_train, Y_test = train_test_split(X, Y, test_size=0.1)"
   ]
  },
  {
   "cell_type": "code",
   "execution_count": 209,
   "metadata": {},
   "outputs": [
    {
     "name": "stdout",
     "output_type": "stream",
     "text": [
      "(3067, 11)\n",
      "(341, 11)\n",
      "(3067, 1)\n",
      "(341, 1)\n"
     ]
    }
   ],
   "source": [
    "print(X_train.shape)\n",
    "print(X_test.shape)\n",
    "print(Y_train.shape)\n",
    "print(Y_test.shape)"
   ]
  },
  {
   "cell_type": "markdown",
   "metadata": {},
   "source": [
    "Statistical tests can be used to select those features that have the strongest relationship with the output variable.\n",
    "\n",
    "The scikit-learn library provides the SelectKBest class that can be used with a suite of different statistical tests to select a specific number of features.\n",
    "\n",
    "The chi squared statistical test for non-negative features to select 4 of the best features."
   ]
  },
  {
   "cell_type": "code",
   "execution_count": 210,
   "metadata": {},
   "outputs": [
    {
     "name": "stdout",
     "output_type": "stream",
     "text": [
      "[  5.245e-02   2.072e+02   1.076e+01   8.369e+02   6.022e-02   5.276e-01\n",
      "   3.103e+00   4.608e+01   3.072e+00   9.943e-01   5.181e+00]\n"
     ]
    }
   ],
   "source": [
    "# Feature Extraction with Univariate Statistical Tests (Chi-squared for classification)\n",
    "unvariate = SelectKBest(score_func=chi2, k=4)\n",
    "unvariate_fit = unvariate.fit(X, Y)\n",
    "# summarize scores\n",
    "np.set_printoptions(precision=3)\n",
    "print(unvariate_fit.scores_)\n",
    "features = unvariate_fit.transform(X)\n",
    " #VALUE, YEAR, DDDA, THE CLOSE CYCLE"
   ]
  },
  {
   "cell_type": "code",
   "execution_count": 211,
   "metadata": {},
   "outputs": [
    {
     "name": "stdout",
     "output_type": "stream",
     "text": [
      "Num Features: 4\n",
      "Selected Features: [False False False False False  True  True False  True False  True]\n",
      "Feature Ranking: [6 7 5 3 2 1 1 4 1 8 1]\n"
     ]
    }
   ],
   "source": [
    "# Feature Extraction with RFE\n",
    "import warnings\n",
    "warnings.filterwarnings(\"ignore\", category=FutureWarning)\n",
    "\n",
    "model = LogisticRegression(penalty='l1')\n",
    "rfe = RFE(model, 4)\n",
    "rfe_fit = rfe.fit(X, Y.values.ravel())\n",
    "print((\"Num Features: %d\") % (rfe_fit.n_features_))\n",
    "print((\"Selected Features: %s\") % rfe_fit.support_)\n",
    "print((\"Feature Ranking: %s\") % rfe_fit.ranking_) #L1 ACTIVE PRINCIPLE, VALUE, CLOSE CYCLE, TYPE OF MEDICATION"
   ]
  },
  {
   "cell_type": "code",
   "execution_count": 212,
   "metadata": {},
   "outputs": [
    {
     "name": "stdout",
     "output_type": "stream",
     "text": [
      "Num Features: 4\n",
      "Selected Features: [False False False False False False  True False  True  True  True]\n",
      "Feature Ranking: [7 8 6 4 3 2 1 5 1 1 1]\n"
     ]
    }
   ],
   "source": [
    "model = LogisticRegression(penalty='l2')\n",
    "rfe = RFE(model, 4)\n",
    "rfe_fit = rfe.fit(X, Y.values.ravel())\n",
    "print((\"Num Features: %d\") % (rfe_fit.n_features_))\n",
    "print((\"Selected Features: %s\") % rfe_fit.support_)\n",
    "print((\"Feature Ranking: %s\") % rfe_fit.ranking_) #L2 FARM ID, TOTAL MG OF ACTIVE PRINCIPLE, DDDA and DCDA"
   ]
  },
  {
   "cell_type": "code",
   "execution_count": 213,
   "metadata": {},
   "outputs": [
    {
     "name": "stdout",
     "output_type": "stream",
     "text": [
      "[[  1.722e-03  -1.000e+00   5.124e-03   4.928e-03   1.586e-06  -7.964e-04\n",
      "    1.285e-04  -1.238e-03  -2.750e-04   2.867e-05   1.805e-04]\n",
      " [  7.890e-03  -3.776e-03  -9.703e-01   2.415e-01   3.543e-03   4.782e-03\n",
      "   -9.475e-04   3.043e-03  -1.129e-03   6.355e-04   3.438e-04]]\n"
     ]
    }
   ],
   "source": [
    "# Feature Extraction with PCA\n",
    "pca = PCA(n_components=2)\n",
    "principalComponents = pca.fit_transform(X)\n",
    "principalComponents2 = pca.fit(X)\n",
    "# summarize components\n",
    "#print((\"Explained Variance: %s\") % pca_fit.explained_variance_ratio_)\n",
    "print(principalComponents2.components_)"
   ]
  },
  {
   "cell_type": "code",
   "execution_count": 214,
   "metadata": {},
   "outputs": [
    {
     "data": {
      "text/plain": [
       "<matplotlib.colorbar.Colorbar at 0x1a192d19b0>"
      ]
     },
     "execution_count": 214,
     "metadata": {},
     "output_type": "execute_result"
    },
    {
     "data": {
      "image/png": "[encoded data removed]",
      "text/plain": [
       "<Figure size 432x288 with 2 Axes>"
      ]
     },
     "metadata": {},
     "output_type": "display_data"
    }
   ],
   "source": [
    "from matplotlib import cm\n",
    "plt.scatter(principalComponents[:, 0], principalComponents[:, 1],\n",
    "            c=Y.values.ravel(), edgecolor='none', alpha=0.5,\n",
    "            cmap=plt.cm.get_cmap('Set1', 10))\n",
    "plt.xlabel('component 1')\n",
    "plt.ylabel('component 2')\n",
    "plt.colorbar()"
   ]
  },
  {
   "cell_type": "code",
   "execution_count": 215,
   "metadata": {},
   "outputs": [
    {
     "name": "stdout",
     "output_type": "stream",
     "text": [
      "[ 0.064  0.157  0.415  0.105  0.015  0.025  0.007  0.021  0.067  0.058\n",
      "  0.067]\n"
     ]
    }
   ],
   "source": [
    "# Feature Importance with Extra Trees Classifier\n",
    "etc_model = ExtraTreesClassifier()\n",
    "etc_model.fit(X, Y.values.ravel())\n",
    "print(etc_model.feature_importances_) # BACTERIA, ACTIVE PRINCIPLE, DDDA, FARM ID"
   ]
  },
  {
   "cell_type": "markdown",
   "metadata": {},
   "source": [
    "### MODELS"
   ]
  },
  {
   "cell_type": "markdown",
   "metadata": {},
   "source": [
    "For the advanced analytics, I selected 3 models to apply for. These are: K-Nearest Neighbor Classifier and Random Forest Classifier and Support Vector Machine."
   ]
  },
  {
   "cell_type": "code",
   "execution_count": 248,
   "metadata": {
    "collapsed": true
   },
   "outputs": [],
   "source": [
    "X = dataset[['Bacteria', 'Active_principle', 'Value', 'Open_cycle', 'Close_cycle', 'Active_principle_mg']]\n",
    "Y = dataset[['Result']]"
   ]
  },
  {
   "cell_type": "code",
   "execution_count": 249,
   "metadata": {
    "collapsed": true
   },
   "outputs": [],
   "source": [
    "X_train, X_test, Y_train, Y_test = train_test_split(X, Y, test_size=0.1)"
   ]
  },
  {
   "cell_type": "code",
   "execution_count": 250,
   "metadata": {},
   "outputs": [
    {
     "name": "stdout",
     "output_type": "stream",
     "text": [
      "(3067, 6)\n",
      "(341, 6)\n",
      "(3067, 1)\n",
      "(341, 1)\n"
     ]
    }
   ],
   "source": [
    "print(X_train.shape)\n",
    "print(X_test.shape)\n",
    "print(Y_train.shape)\n",
    "print(Y_test.shape)"
   ]
  },
  {
   "cell_type": "code",
   "execution_count": 251,
   "metadata": {
    "collapsed": true
   },
   "outputs": [],
   "source": [
    "# Preparing dictionaries to compare the classifiers\n",
    "# K-Nearest Neighbor Classifier\n",
    "KNN_dict = {\"n_neighbors\" : [2,3,5]}\n",
    "# Random Forest Classifier\n",
    "RFC_dict = {\"n_estimators\": [100,150,200], \"max_depth\": [3,50,100], \"min_samples_split\": [2,3,4]}\n",
    "# Support Vector Machine Classifier\n",
    "SVC_dict = { \"C\": [0.1, 0.5, 1, 5, 10, 50, 100] , \"kernel\": ['rbf'] }\n",
    "cv = KFold(n_splits=10, random_state=42, shuffle=False)"
   ]
  },
  {
   "cell_type": "code",
   "execution_count": 252,
   "metadata": {},
   "outputs": [
    {
     "name": "stdout",
     "output_type": "stream",
     "text": [
      "[ 0.636  0.67   0.694]\n",
      "Max average score : 0.694454024824\n",
      "Best n_neighbors value :  5\n"
     ]
    }
   ],
   "source": [
    "matrix0 = np.zeros((len(KNN_dict[\"n_neighbors\"])))\n",
    "for i in range(len(KNN_dict[\"n_neighbors\"])):\n",
    "    n = KNN_dict[\"n_neighbors\"][i]\n",
    "    clf2 = KNeighborsClassifier(n_neighbors= n)\n",
    "    scores2 = cross_val_score(clf2, X_train, Y_train.values.ravel(), cv=cv)\n",
    "    matrix0[i] = sum(scores2)/len(scores2)\n",
    "print(matrix0)\n",
    "print(\"Max average score :\", matrix0.max())\n",
    "i = np.unravel_index(matrix0.argmax(), matrix0.shape)\n",
    "print(\"Best n_neighbors value : \", KNN_dict[\"n_neighbors\"][i[0]])"
   ]
  },
  {
   "cell_type": "code",
   "execution_count": 253,
   "metadata": {},
   "outputs": [
    {
     "name": "stdout",
     "output_type": "stream",
     "text": [
      "[ 0.73   0.681  0.704  0.671  0.642  0.668  0.691  0.601  0.66   0.657]\n",
      "[[[ 0.644  0.646  0.645]\n",
      "  [ 0.659  0.66   0.669]\n",
      "  [ 0.658  0.655  0.671]]\n",
      "\n",
      " [[ 0.647  0.652  0.643]\n",
      "  [ 0.655  0.662  0.668]\n",
      "  [ 0.657  0.662  0.663]]\n",
      "\n",
      " [[ 0.642  0.64   0.645]\n",
      "  [ 0.656  0.66   0.667]\n",
      "  [ 0.65   0.658  0.67 ]]]\n",
      "Max average score : 0.670661684869\n",
      "Best n_estimators value :  100\n",
      "Best max_depth value :  100\n",
      "Best min_samples_split value :  4\n"
     ]
    }
   ],
   "source": [
    "matrix1 = np.zeros((len(RFC_dict[\"n_estimators\"]),len(RFC_dict[\"max_depth\"]),len(RFC_dict[\"min_samples_split\"])))\n",
    "for i in range(len(RFC_dict[\"n_estimators\"])):\n",
    "    s = RFC_dict[\"n_estimators\"][i]\n",
    "    for j in range(len(RFC_dict[\"max_depth\"])):\n",
    "        m = RFC_dict[\"max_depth\"][j]\n",
    "        for z in range(len(RFC_dict[\"min_samples_split\"])):\n",
    "            mi = RFC_dict[\"min_samples_split\"][z]\n",
    "            clf3 = RandomForestClassifier(n_estimators= s, max_depth= m, min_samples_split = mi)\n",
    "            scores3 = cross_val_score(clf3, X_train, Y_train.values.ravel(), cv=cv)\n",
    "            matrix1[i][j][z] = sum(scores3)/len(scores3)\n",
    "print(scores3)\n",
    "print(matrix1)\n",
    "print(\"Max average score :\", matrix1.max())\n",
    "i,j,z = np.unravel_index(matrix1.argmax(), matrix1.shape)\n",
    "print(\"Best n_estimators value : \", RFC_dict[\"n_estimators\"][i])\n",
    "print(\"Best max_depth value : \", RFC_dict[\"max_depth\"][j])\n",
    "print(\"Best min_samples_split value : \", RFC_dict[\"min_samples_split\"][z])"
   ]
  },
  {
   "cell_type": "code",
   "execution_count": 254,
   "metadata": {},
   "outputs": [
    {
     "name": "stdout",
     "output_type": "stream",
     "text": [
      "[[ 0.699]\n",
      " [ 0.707]\n",
      " [ 0.719]\n",
      " [ 0.719]\n",
      " [ 0.714]\n",
      " [ 0.722]\n",
      " [ 0.723]]\n",
      "Max average score : 0.722842817909\n",
      "Best C value :  100\n",
      "Best kernel value :  rbf\n"
     ]
    }
   ],
   "source": [
    "matrix2 = np.zeros((len(SVC_dict[\"C\"]),len(SVC_dict[\"kernel\"])))\n",
    "for i in range(len(SVC_dict[\"C\"])):\n",
    "    c = SVC_dict[\"C\"][i]\n",
    "    for j in range(len(SVC_dict[\"kernel\"])):\n",
    "        k = SVC_dict[\"kernel\"][j]\n",
    "        clf4 = SVC(kernel = k, C = c)\n",
    "        scores4 = cross_val_score(clf4, X_train, Y_train.values.ravel(), cv=cv)\n",
    "        matrix2[i][j] = sum(scores4)/len(scores4)\n",
    "print(matrix2)\n",
    "print(\"Max average score :\", matrix2.max())\n",
    "i,j = np.unravel_index(matrix2.argmax(), matrix2.shape)\n",
    "print(\"Best C value : \", SVC_dict[\"C\"][i])\n",
    "print(\"Best kernel value : \", SVC_dict[\"kernel\"][j])"
   ]
  },
  {
   "cell_type": "markdown",
   "metadata": {},
   "source": [
    "##### PREDICTION WITH THE BEST MODEL"
   ]
  },
  {
   "cell_type": "code",
   "execution_count": 255,
   "metadata": {},
   "outputs": [
    {
     "name": "stdout",
     "output_type": "stream",
     "text": [
      "Best scores among the matrices: 0.722842817909 of the matrix: (2,)\n"
     ]
    }
   ],
   "source": [
    "# Which is the best combination for the prediction?\n",
    "best_scores = np.array([matrix0.max(),matrix1.max(), matrix2.max()])\n",
    "i = np.unravel_index(best_scores.argmax(), best_scores.shape)\n",
    "best_scores\n",
    "print(\"Best scores among the matrices:\", best_scores[i], \"of the matrix:\", i)"
   ]
  },
  {
   "cell_type": "code",
   "execution_count": 256,
   "metadata": {},
   "outputs": [
    {
     "name": "stdout",
     "output_type": "stream",
     "text": [
      "The highest score with Cross Fold = 10: 0.780058651026\n"
     ]
    }
   ],
   "source": [
    "# Prediction with Cross Fold = 10 \n",
    "cv = KFold(n_splits=10, random_state=42, shuffle=False)\n",
    "best_classifier_forcv = SVC(kernel='rbf', C=50).fit(X_train, Y_train.values.ravel())\n",
    "scores_cv = cross_val_score(best_classifier_forcv, X, Y.values.ravel(), cv=10)\n",
    "print(\"The highest score with Cross Fold = 10:\", scores_cv.max())"
   ]
  },
  {
   "cell_type": "code",
   "execution_count": 257,
   "metadata": {},
   "outputs": [
    {
     "name": "stdout",
     "output_type": "stream",
     "text": [
      "Accuracy of Selected Classifier, on the training set:0.786\n",
      "Accuracy of Selected Classifier, on the test set:0.736\n"
     ]
    }
   ],
   "source": [
    "# Prediction with simple splitting\n",
    "X_train, X_test, Y_train, Y_test = train_test_split(X, Y, test_size=0.1, random_state=42, stratify = Y)\n",
    "best_classifier_forsplit = SVC(kernel='rbf', C=50).fit(X_train, Y_train.values.ravel())\n",
    "best_classifier_forsplit.fit(X_train, Y_train.values.ravel())\n",
    "predicted_split = best_classifier_forsplit.predict(X_test)\n",
    "print('Accuracy of Selected Classifier, on the training set:{:.3f}'.format(best_classifier_forsplit.score(X_train, Y_train.values.ravel())))\n",
    "print('Accuracy of Selected Classifier, on the test set:{:.3f}'.format(best_classifier_forsplit.score(X_test, Y_test.values.ravel())))"
   ]
  },
  {
   "cell_type": "code",
   "execution_count": 258,
   "metadata": {},
   "outputs": [
    {
     "name": "stdout",
     "output_type": "stream",
     "text": [
      "[[137  42]\n",
      " [ 48 114]]\n"
     ]
    },
    {
     "data": {
      "image/png": "[encoded data removed]",
      "text/plain": [
       "<Figure size 288x288 with 2 Axes>"
      ]
     },
     "metadata": {},
     "output_type": "display_data"
    }
   ],
   "source": [
    "confusionmatrix = confusion_matrix(Y_test.values.ravel(), predicted_split)\n",
    "print(confusionmatrix)\n",
    "plt.matshow(confusionmatrix)\n",
    "plt.title('Confusion matrix')\n",
    "plt.colorbar()\n",
    "plt.ylabel('True label')\n",
    "plt.xlabel('Predicted label')\n",
    "plt.show() "
   ]
  },
  {
   "cell_type": "code",
   "execution_count": 259,
   "metadata": {
    "collapsed": true
   },
   "outputs": [],
   "source": [
    "# Create classifiers\n",
    "knn = KNeighborsClassifier(n_neighbors= 5)\n",
    "rfc = RandomForestClassifier(n_estimators= 100, max_depth= 100, min_samples_split = 4)\n",
    "svc = SVC(kernel = 'rbf', C = 50)"
   ]
  },
  {
   "cell_type": "code",
   "execution_count": 262,
   "metadata": {},
   "outputs": [
    {
     "data": {
      "image/png": "[encoded data removed]",
      "text/plain": [
       "<Figure size 720x720 with 2 Axes>"
      ]
     },
     "metadata": {},
     "output_type": "display_data"
    }
   ],
   "source": [
    "plt.figure(figsize=(10, 10))\n",
    "ax1 = plt.subplot2grid((3, 1), (0, 0), rowspan=2)\n",
    "ax2 = plt.subplot2grid((3, 1), (2, 0))\n",
    "\n",
    "ax1.plot([0, 1], [0, 1], \"k:\", label=\"Perfectly calibrated\")\n",
    "for bok, name in [(knn, 'knn'),\n",
    "                  (svc, 'Support Vector Classification'),\n",
    "                  (rfc, 'Random Forest')]:\n",
    "    bok.fit(X_train, Y_train.values.ravel())\n",
    "    if hasattr(bok, \"predict_proba\"):\n",
    "        prob_pos = bok.predict_proba(X_test)[:, 1]\n",
    "    else:  # use decision function\n",
    "        prob_pos = bok.decision_function(X_test)\n",
    "        prob_pos = \\\n",
    "            (prob_pos - prob_pos.min()) / (prob_pos.max() - prob_pos.min())\n",
    "    fraction_of_positives, mean_predicted_value = \\\n",
    "        calibration_curve(Y_test.values.ravel(), prob_pos, n_bins=10, normalize=True)\n",
    "\n",
    "    ax1.plot(mean_predicted_value, fraction_of_positives, \"s-\",\n",
    "             label=\"%s\" % (name, ))\n",
    "\n",
    "    ax2.hist(prob_pos, range=(0, 1), bins=10, label=name,\n",
    "             histtype=\"step\", lw=2)\n",
    "\n",
    "ax1.set_ylabel(\"Fraction of positives\")\n",
    "ax1.set_ylim([-0.05, 1.05])\n",
    "ax1.legend(loc=\"lower right\")\n",
    "ax1.set_title('Calibration plots  (reliability curve)')\n",
    "\n",
    "ax2.set_xlabel(\"Mean predicted value\")\n",
    "ax2.set_ylabel(\"Count\")\n",
    "ax2.legend(loc=\"upper center\", ncol=2)\n",
    "\n",
    "plt.tight_layout()"
   ]
  },
  {
   "cell_type": "code",
   "execution_count": null,
   "metadata": {
    "collapsed": true
   },
   "outputs": [],
   "source": []
  }
 ],
 "metadata": {
  "kernelspec": {
   "display_name": "Python 3",
   "language": "python",
   "name": "python3"
  },
  "language_info": {
   "codemirror_mode": {
    "name": "ipython",
    "version": 3
   },
   "file_extension": ".py",
   "mimetype": "text/x-python",
   "name": "python",
   "nbconvert_exporter": "python",
   "pygments_lexer": "ipython3",
   "version": "3.6.3"
  }
 },
 "nbformat": 4,
 "nbformat_minor": 2
}
